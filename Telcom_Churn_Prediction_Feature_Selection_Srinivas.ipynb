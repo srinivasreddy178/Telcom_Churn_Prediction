{
 "cells": [
  {
   "cell_type": "markdown",
   "id": "b9702b9d-5216-4f99-965f-dabda9b2c547",
   "metadata": {},
   "source": [
    "# **Project :** Telcom Churn Prediction"
   ]
  },
  {
   "cell_type": "markdown",
   "id": "449ba53a-41c3-4458-a3f2-9b1bd4843fc0",
   "metadata": {},
   "source": [
    "# **Problem Statement :** \n",
    "\n",
    "Here’s a dataset of telecom customers.\n",
    "\n",
    "#### **Which customers are likely to churn? What are the attributes that make you think so?**\n",
    "\n",
    "The features:\n",
    "\n",
    "* customerID - customer id\n",
    "* gender - client gender (male / female)\n",
    "* SeniorCitizen - is the client retired (1, 0)\n",
    "* Partner - is the client married (Yes, No)\n",
    "* tenure - how many months a person has been a client of the company\n",
    "* PhoneService - is the telephone service connected (Yes, No)\n",
    "* MultipleLines - are multiple phone lines connected (Yes, No, No phone service)\n",
    "* InternetService - client’s Internet service provider (DSL, Fiber optic, No)\n",
    "* OnlineSecurity - is the online security service connected (Yes, No, No internet service)\n",
    "* OnlineBackup - is the online backup service activated (Yes, No, No internet service)\n",
    "* DeviceProtection - does the client have equipment insurance (Yes, No, No internet service)\n",
    "* TechSupport - is the technical support service connected (Yes, No, No internet service)\n",
    "* StreamingTV - is the streaming TV service connected (Yes, No, No internet service)\n",
    "* StreamingMovies - is the streaming cinema service activated (Yes, No, No internet service)\n",
    "* Contract - type of customer contract (Month-to-month, One year, Two year)\n",
    "* PaperlessBilling - whether the client uses paperless billing (Yes, No)\n",
    "* PaymentMethod - payment method (Electronic check, Mailed check, Bank transfer (automatic), Credit card (automatic))\n",
    "* MonthlyCharges - current monthly payment\n",
    "* TotalCharges - the total amount that the client paid for the services for the entire time\n",
    "* Churn - whether there was a churn (Yes or No)"
   ]
  },
  {
   "cell_type": "markdown",
   "id": "2b95a2f9-b4c4-41cc-887a-941c84a9c721",
   "metadata": {},
   "source": [
    "## **1. Import Libraries**"
   ]
  },
  {
   "cell_type": "code",
   "execution_count": 1,
   "id": "64391b0f-8e2f-4ac6-943c-9476d0f7bceb",
   "metadata": {},
   "outputs": [],
   "source": [
    "#===========================================================================\n",
    "# For data manipulation, plotting, and miscellaneous\n",
    "#===========================================================================\n",
    "import numpy as np \n",
    "import pandas as pd \n",
    "import matplotlib.pyplot as plt \n",
    "%matplotlib inline\n",
    "import seaborn as sns \n",
    "plt.style.use(\"fivethirtyeight\")\n",
    "import plotly.express as px \n",
    "import datetime \n",
    "import os \n",
    "import warnings \n",
    "warnings.filterwarnings(\"ignore\", category=DeprecationWarning) \n",
    "import calendar\n",
    "from datetime import datetime\n",
    "import pickle \n",
    "#============================================================================\n",
    "# From sklearn import required classes\n",
    "#============================================================================\n",
    "from sklearn.preprocessing import FunctionTransformer, OneHotEncoder,LabelEncoder,OrdinalEncoder\n",
    "from sklearn.compose import ColumnTransformer\n",
    "from sklearn.impute import SimpleImputer\n",
    "#from sklearn.pipeline import Pipeline\n",
    "from sklearn.preprocessing import StandardScaler\n",
    "\n",
    "# Metrics \n",
    "from sklearn import metrics \n",
    "from sklearn.metrics import confusion_matrix, classification_report, ConfusionMatrixDisplay, accuracy_score, f1_score, recall_score, roc_auc_score, roc_curve\n",
    "from sklearn.model_selection import train_test_split\n",
    "from sklearn.model_selection import cross_val_score\n",
    "from sklearn.model_selection import GridSearchCV\n",
    "\n",
    "# machine learning algorithms\n",
    "from sklearn.linear_model import LogisticRegression\n",
    "from sklearn.ensemble import RandomForestClassifier, GradientBoostingClassifier\n",
    "from sklearn.feature_selection import SelectFromModel\n",
    "from sklearn import tree\n",
    "from sklearn.tree import export_graphviz \n",
    "from IPython.display import display, Image\n",
    "from graphviz import Source\n",
    "from xgboost import XGBClassifier\n",
    "\n",
    "import copy\n",
    "\n",
    "from imblearn.over_sampling import SMOTE"
   ]
  },
  {
   "cell_type": "markdown",
   "id": "7cde0998-5f99-4715-b38e-eb88cb8e839c",
   "metadata": {},
   "source": [
    "## **2. Load the Dataset and Perform Visualization**"
   ]
  },
  {
   "cell_type": "markdown",
   "id": "c92f7f6c-e1db-4203-b1e1-3bbf5c90e5f4",
   "metadata": {},
   "source": [
    "### 2.1. Load the Dataset"
   ]
  },
  {
   "cell_type": "code",
   "execution_count": 2,
   "id": "8f6725af-a4ed-4056-9516-3799cd9c0989",
   "metadata": {},
   "outputs": [],
   "source": [
    "df_raw = pd.read_csv('data/telecom_users.csv')"
   ]
  },
  {
   "cell_type": "code",
   "execution_count": 3,
   "id": "4563d222-4828-4226-87f0-4e35f2fef176",
   "metadata": {},
   "outputs": [
    {
     "data": {
      "text/html": [
       "<div>\n",
       "<style scoped>\n",
       "    .dataframe tbody tr th:only-of-type {\n",
       "        vertical-align: middle;\n",
       "    }\n",
       "\n",
       "    .dataframe tbody tr th {\n",
       "        vertical-align: top;\n",
       "    }\n",
       "\n",
       "    .dataframe thead th {\n",
       "        text-align: right;\n",
       "    }\n",
       "</style>\n",
       "<table border=\"1\" class=\"dataframe\">\n",
       "  <thead>\n",
       "    <tr style=\"text-align: right;\">\n",
       "      <th></th>\n",
       "      <th>Unnamed: 0</th>\n",
       "      <th>customerID</th>\n",
       "      <th>gender</th>\n",
       "      <th>SeniorCitizen</th>\n",
       "      <th>Partner</th>\n",
       "      <th>Dependents</th>\n",
       "      <th>tenure</th>\n",
       "      <th>PhoneService</th>\n",
       "      <th>MultipleLines</th>\n",
       "      <th>InternetService</th>\n",
       "      <th>...</th>\n",
       "      <th>DeviceProtection</th>\n",
       "      <th>TechSupport</th>\n",
       "      <th>StreamingTV</th>\n",
       "      <th>StreamingMovies</th>\n",
       "      <th>Contract</th>\n",
       "      <th>PaperlessBilling</th>\n",
       "      <th>PaymentMethod</th>\n",
       "      <th>MonthlyCharges</th>\n",
       "      <th>TotalCharges</th>\n",
       "      <th>Churn</th>\n",
       "    </tr>\n",
       "  </thead>\n",
       "  <tbody>\n",
       "    <tr>\n",
       "      <th>0</th>\n",
       "      <td>1869</td>\n",
       "      <td>7010-BRBUU</td>\n",
       "      <td>Male</td>\n",
       "      <td>0</td>\n",
       "      <td>Yes</td>\n",
       "      <td>Yes</td>\n",
       "      <td>72</td>\n",
       "      <td>Yes</td>\n",
       "      <td>Yes</td>\n",
       "      <td>No</td>\n",
       "      <td>...</td>\n",
       "      <td>No internet service</td>\n",
       "      <td>No internet service</td>\n",
       "      <td>No internet service</td>\n",
       "      <td>No internet service</td>\n",
       "      <td>Two year</td>\n",
       "      <td>No</td>\n",
       "      <td>Credit card (automatic)</td>\n",
       "      <td>24.10</td>\n",
       "      <td>1734.65</td>\n",
       "      <td>No</td>\n",
       "    </tr>\n",
       "    <tr>\n",
       "      <th>1</th>\n",
       "      <td>4528</td>\n",
       "      <td>9688-YGXVR</td>\n",
       "      <td>Female</td>\n",
       "      <td>0</td>\n",
       "      <td>No</td>\n",
       "      <td>No</td>\n",
       "      <td>44</td>\n",
       "      <td>Yes</td>\n",
       "      <td>No</td>\n",
       "      <td>Fiber optic</td>\n",
       "      <td>...</td>\n",
       "      <td>Yes</td>\n",
       "      <td>No</td>\n",
       "      <td>Yes</td>\n",
       "      <td>No</td>\n",
       "      <td>Month-to-month</td>\n",
       "      <td>Yes</td>\n",
       "      <td>Credit card (automatic)</td>\n",
       "      <td>88.15</td>\n",
       "      <td>3973.2</td>\n",
       "      <td>No</td>\n",
       "    </tr>\n",
       "    <tr>\n",
       "      <th>2</th>\n",
       "      <td>6344</td>\n",
       "      <td>9286-DOJGF</td>\n",
       "      <td>Female</td>\n",
       "      <td>1</td>\n",
       "      <td>Yes</td>\n",
       "      <td>No</td>\n",
       "      <td>38</td>\n",
       "      <td>Yes</td>\n",
       "      <td>Yes</td>\n",
       "      <td>Fiber optic</td>\n",
       "      <td>...</td>\n",
       "      <td>No</td>\n",
       "      <td>No</td>\n",
       "      <td>No</td>\n",
       "      <td>No</td>\n",
       "      <td>Month-to-month</td>\n",
       "      <td>Yes</td>\n",
       "      <td>Bank transfer (automatic)</td>\n",
       "      <td>74.95</td>\n",
       "      <td>2869.85</td>\n",
       "      <td>Yes</td>\n",
       "    </tr>\n",
       "  </tbody>\n",
       "</table>\n",
       "<p>3 rows × 22 columns</p>\n",
       "</div>"
      ],
      "text/plain": [
       "   Unnamed: 0  customerID  gender  SeniorCitizen Partner Dependents  tenure  \\\n",
       "0        1869  7010-BRBUU    Male              0     Yes        Yes      72   \n",
       "1        4528  9688-YGXVR  Female              0      No         No      44   \n",
       "2        6344  9286-DOJGF  Female              1     Yes         No      38   \n",
       "\n",
       "  PhoneService MultipleLines InternetService  ...     DeviceProtection  \\\n",
       "0          Yes           Yes              No  ...  No internet service   \n",
       "1          Yes            No     Fiber optic  ...                  Yes   \n",
       "2          Yes           Yes     Fiber optic  ...                   No   \n",
       "\n",
       "           TechSupport          StreamingTV      StreamingMovies  \\\n",
       "0  No internet service  No internet service  No internet service   \n",
       "1                   No                  Yes                   No   \n",
       "2                   No                   No                   No   \n",
       "\n",
       "         Contract PaperlessBilling              PaymentMethod MonthlyCharges  \\\n",
       "0        Two year               No    Credit card (automatic)          24.10   \n",
       "1  Month-to-month              Yes    Credit card (automatic)          88.15   \n",
       "2  Month-to-month              Yes  Bank transfer (automatic)          74.95   \n",
       "\n",
       "  TotalCharges  Churn  \n",
       "0      1734.65     No  \n",
       "1       3973.2     No  \n",
       "2      2869.85    Yes  \n",
       "\n",
       "[3 rows x 22 columns]"
      ]
     },
     "execution_count": 3,
     "metadata": {},
     "output_type": "execute_result"
    }
   ],
   "source": [
    "df_raw.head(3)"
   ]
  },
  {
   "cell_type": "code",
   "execution_count": 4,
   "id": "8b9f8975-ee34-49f8-b143-52317c0a1b36",
   "metadata": {},
   "outputs": [
    {
     "data": {
      "text/plain": [
       "0"
      ]
     },
     "execution_count": 4,
     "metadata": {},
     "output_type": "execute_result"
    }
   ],
   "source": [
    "# Check duplicates \n",
    "df_raw.duplicated(subset=['customerID']).sum()"
   ]
  },
  {
   "cell_type": "code",
   "execution_count": 5,
   "id": "0cb4d35c-6091-4cc6-8a90-9287dc525696",
   "metadata": {},
   "outputs": [],
   "source": [
    "# deep copy to a working dataframe\n",
    "df = df_raw.copy()  "
   ]
  },
  {
   "cell_type": "code",
   "execution_count": 6,
   "id": "be32b123-d2e8-4121-b9fb-913a9c7b4890",
   "metadata": {},
   "outputs": [],
   "source": [
    "# customerID is not required for analysis, hence drop it\n",
    "df.drop(labels=['Unnamed: 0', 'customerID'], axis=1, inplace=True)  "
   ]
  },
  {
   "cell_type": "code",
   "execution_count": 7,
   "id": "de26eb41-2a0d-4349-9ec0-c7b84ecb1ba4",
   "metadata": {},
   "outputs": [
    {
     "data": {
      "text/plain": [
       "(5986, 20)"
      ]
     },
     "execution_count": 7,
     "metadata": {},
     "output_type": "execute_result"
    }
   ],
   "source": [
    "df.shape"
   ]
  },
  {
   "cell_type": "code",
   "execution_count": 8,
   "id": "1964d919-7686-43c6-b154-5845b1214893",
   "metadata": {},
   "outputs": [],
   "source": [
    "df.columns = df.columns.str.lower()  # convert the column labels to lower case for consistency"
   ]
  },
  {
   "cell_type": "code",
   "execution_count": 9,
   "id": "c6de5ebc-10df-4486-9d81-c809348de1b7",
   "metadata": {},
   "outputs": [
    {
     "data": {
      "text/html": [
       "<div>\n",
       "<style scoped>\n",
       "    .dataframe tbody tr th:only-of-type {\n",
       "        vertical-align: middle;\n",
       "    }\n",
       "\n",
       "    .dataframe tbody tr th {\n",
       "        vertical-align: top;\n",
       "    }\n",
       "\n",
       "    .dataframe thead th {\n",
       "        text-align: right;\n",
       "    }\n",
       "</style>\n",
       "<table border=\"1\" class=\"dataframe\">\n",
       "  <thead>\n",
       "    <tr style=\"text-align: right;\">\n",
       "      <th></th>\n",
       "      <th>gender</th>\n",
       "      <th>seniorcitizen</th>\n",
       "      <th>partner</th>\n",
       "      <th>dependents</th>\n",
       "      <th>tenure</th>\n",
       "      <th>phoneservice</th>\n",
       "      <th>multiplelines</th>\n",
       "      <th>internetservice</th>\n",
       "      <th>onlinesecurity</th>\n",
       "      <th>onlinebackup</th>\n",
       "      <th>deviceprotection</th>\n",
       "      <th>techsupport</th>\n",
       "      <th>streamingtv</th>\n",
       "      <th>streamingmovies</th>\n",
       "      <th>contract</th>\n",
       "      <th>paperlessbilling</th>\n",
       "      <th>paymentmethod</th>\n",
       "      <th>monthlycharges</th>\n",
       "      <th>totalcharges</th>\n",
       "      <th>churn</th>\n",
       "    </tr>\n",
       "  </thead>\n",
       "  <tbody>\n",
       "    <tr>\n",
       "      <th>0</th>\n",
       "      <td>Male</td>\n",
       "      <td>0</td>\n",
       "      <td>Yes</td>\n",
       "      <td>Yes</td>\n",
       "      <td>72</td>\n",
       "      <td>Yes</td>\n",
       "      <td>Yes</td>\n",
       "      <td>No</td>\n",
       "      <td>No internet service</td>\n",
       "      <td>No internet service</td>\n",
       "      <td>No internet service</td>\n",
       "      <td>No internet service</td>\n",
       "      <td>No internet service</td>\n",
       "      <td>No internet service</td>\n",
       "      <td>Two year</td>\n",
       "      <td>No</td>\n",
       "      <td>Credit card (automatic)</td>\n",
       "      <td>24.10</td>\n",
       "      <td>1734.65</td>\n",
       "      <td>No</td>\n",
       "    </tr>\n",
       "    <tr>\n",
       "      <th>1</th>\n",
       "      <td>Female</td>\n",
       "      <td>0</td>\n",
       "      <td>No</td>\n",
       "      <td>No</td>\n",
       "      <td>44</td>\n",
       "      <td>Yes</td>\n",
       "      <td>No</td>\n",
       "      <td>Fiber optic</td>\n",
       "      <td>No</td>\n",
       "      <td>Yes</td>\n",
       "      <td>Yes</td>\n",
       "      <td>No</td>\n",
       "      <td>Yes</td>\n",
       "      <td>No</td>\n",
       "      <td>Month-to-month</td>\n",
       "      <td>Yes</td>\n",
       "      <td>Credit card (automatic)</td>\n",
       "      <td>88.15</td>\n",
       "      <td>3973.2</td>\n",
       "      <td>No</td>\n",
       "    </tr>\n",
       "    <tr>\n",
       "      <th>2</th>\n",
       "      <td>Female</td>\n",
       "      <td>1</td>\n",
       "      <td>Yes</td>\n",
       "      <td>No</td>\n",
       "      <td>38</td>\n",
       "      <td>Yes</td>\n",
       "      <td>Yes</td>\n",
       "      <td>Fiber optic</td>\n",
       "      <td>No</td>\n",
       "      <td>No</td>\n",
       "      <td>No</td>\n",
       "      <td>No</td>\n",
       "      <td>No</td>\n",
       "      <td>No</td>\n",
       "      <td>Month-to-month</td>\n",
       "      <td>Yes</td>\n",
       "      <td>Bank transfer (automatic)</td>\n",
       "      <td>74.95</td>\n",
       "      <td>2869.85</td>\n",
       "      <td>Yes</td>\n",
       "    </tr>\n",
       "  </tbody>\n",
       "</table>\n",
       "</div>"
      ],
      "text/plain": [
       "   gender  seniorcitizen partner dependents  tenure phoneservice  \\\n",
       "0    Male              0     Yes        Yes      72          Yes   \n",
       "1  Female              0      No         No      44          Yes   \n",
       "2  Female              1     Yes         No      38          Yes   \n",
       "\n",
       "  multiplelines internetservice       onlinesecurity         onlinebackup  \\\n",
       "0           Yes              No  No internet service  No internet service   \n",
       "1            No     Fiber optic                   No                  Yes   \n",
       "2           Yes     Fiber optic                   No                   No   \n",
       "\n",
       "      deviceprotection          techsupport          streamingtv  \\\n",
       "0  No internet service  No internet service  No internet service   \n",
       "1                  Yes                   No                  Yes   \n",
       "2                   No                   No                   No   \n",
       "\n",
       "       streamingmovies        contract paperlessbilling  \\\n",
       "0  No internet service        Two year               No   \n",
       "1                   No  Month-to-month              Yes   \n",
       "2                   No  Month-to-month              Yes   \n",
       "\n",
       "               paymentmethod  monthlycharges totalcharges churn  \n",
       "0    Credit card (automatic)           24.10      1734.65    No  \n",
       "1    Credit card (automatic)           88.15       3973.2    No  \n",
       "2  Bank transfer (automatic)           74.95      2869.85   Yes  "
      ]
     },
     "execution_count": 9,
     "metadata": {},
     "output_type": "execute_result"
    }
   ],
   "source": [
    "df.head(3)"
   ]
  },
  {
   "cell_type": "markdown",
   "id": "dd2c019d-ebfd-4b0d-b0df-61768c4d6ae3",
   "metadata": {},
   "source": [
    "### 2.2. Basic Data Checks"
   ]
  },
  {
   "cell_type": "code",
   "execution_count": 10,
   "id": "170a3dd7-b1f5-41c5-a4b4-582ed72a62e4",
   "metadata": {},
   "outputs": [
    {
     "name": "stdout",
     "output_type": "stream",
     "text": [
      "<class 'pandas.core.frame.DataFrame'>\n",
      "RangeIndex: 5986 entries, 0 to 5985\n",
      "Data columns (total 20 columns):\n",
      " #   Column            Non-Null Count  Dtype  \n",
      "---  ------            --------------  -----  \n",
      " 0   gender            5986 non-null   object \n",
      " 1   seniorcitizen     5986 non-null   int64  \n",
      " 2   partner           5986 non-null   object \n",
      " 3   dependents        5986 non-null   object \n",
      " 4   tenure            5986 non-null   int64  \n",
      " 5   phoneservice      5986 non-null   object \n",
      " 6   multiplelines     5986 non-null   object \n",
      " 7   internetservice   5986 non-null   object \n",
      " 8   onlinesecurity    5986 non-null   object \n",
      " 9   onlinebackup      5986 non-null   object \n",
      " 10  deviceprotection  5986 non-null   object \n",
      " 11  techsupport       5986 non-null   object \n",
      " 12  streamingtv       5986 non-null   object \n",
      " 13  streamingmovies   5986 non-null   object \n",
      " 14  contract          5986 non-null   object \n",
      " 15  paperlessbilling  5986 non-null   object \n",
      " 16  paymentmethod     5986 non-null   object \n",
      " 17  monthlycharges    5986 non-null   float64\n",
      " 18  totalcharges      5986 non-null   object \n",
      " 19  churn             5986 non-null   object \n",
      "dtypes: float64(1), int64(2), object(17)\n",
      "memory usage: 935.4+ KB\n"
     ]
    }
   ],
   "source": [
    "# check datatypes\n",
    "df.info()"
   ]
  },
  {
   "cell_type": "code",
   "execution_count": 11,
   "id": "c84e894b-5969-4ec3-9171-9b32e266c07c",
   "metadata": {},
   "outputs": [],
   "source": [
    "# Convert 'TotalCharges' to numeric\n",
    "df['totalcharges'] = pd.to_numeric(df['totalcharges'], errors='coerce')"
   ]
  },
  {
   "cell_type": "code",
   "execution_count": 12,
   "id": "d7cc87b8-40d5-4e34-9614-36a565e19415",
   "metadata": {},
   "outputs": [],
   "source": [
    "df.dropna(inplace=True)"
   ]
  },
  {
   "cell_type": "code",
   "execution_count": 13,
   "id": "e38238cd-dfac-4944-924b-2840b1c37eb0",
   "metadata": {},
   "outputs": [
    {
     "data": {
      "text/plain": [
       "gender              0\n",
       "seniorcitizen       0\n",
       "partner             0\n",
       "dependents          0\n",
       "tenure              0\n",
       "phoneservice        0\n",
       "multiplelines       0\n",
       "internetservice     0\n",
       "onlinesecurity      0\n",
       "onlinebackup        0\n",
       "deviceprotection    0\n",
       "techsupport         0\n",
       "streamingtv         0\n",
       "streamingmovies     0\n",
       "contract            0\n",
       "paperlessbilling    0\n",
       "paymentmethod       0\n",
       "monthlycharges      0\n",
       "totalcharges        0\n",
       "churn               0\n",
       "dtype: int64"
      ]
     },
     "execution_count": 13,
     "metadata": {},
     "output_type": "execute_result"
    }
   ],
   "source": [
    "# check null values\n",
    "df.isnull().sum()"
   ]
  },
  {
   "cell_type": "code",
   "execution_count": 14,
   "id": "e2759055-7192-474e-86ad-24375f916dc5",
   "metadata": {},
   "outputs": [
    {
     "name": "stdout",
     "output_type": "stream",
     "text": [
      "<class 'pandas.core.frame.DataFrame'>\n",
      "Int64Index: 5976 entries, 0 to 5985\n",
      "Data columns (total 20 columns):\n",
      " #   Column            Non-Null Count  Dtype  \n",
      "---  ------            --------------  -----  \n",
      " 0   gender            5976 non-null   object \n",
      " 1   seniorcitizen     5976 non-null   int64  \n",
      " 2   partner           5976 non-null   object \n",
      " 3   dependents        5976 non-null   object \n",
      " 4   tenure            5976 non-null   int64  \n",
      " 5   phoneservice      5976 non-null   object \n",
      " 6   multiplelines     5976 non-null   object \n",
      " 7   internetservice   5976 non-null   object \n",
      " 8   onlinesecurity    5976 non-null   object \n",
      " 9   onlinebackup      5976 non-null   object \n",
      " 10  deviceprotection  5976 non-null   object \n",
      " 11  techsupport       5976 non-null   object \n",
      " 12  streamingtv       5976 non-null   object \n",
      " 13  streamingmovies   5976 non-null   object \n",
      " 14  contract          5976 non-null   object \n",
      " 15  paperlessbilling  5976 non-null   object \n",
      " 16  paymentmethod     5976 non-null   object \n",
      " 17  monthlycharges    5976 non-null   float64\n",
      " 18  totalcharges      5976 non-null   float64\n",
      " 19  churn             5976 non-null   object \n",
      "dtypes: float64(2), int64(2), object(16)\n",
      "memory usage: 980.4+ KB\n"
     ]
    }
   ],
   "source": [
    "df.info()"
   ]
  },
  {
   "cell_type": "code",
   "execution_count": 15,
   "id": "7c0ed665-0e94-4904-9b39-43e6287ef123",
   "metadata": {},
   "outputs": [
    {
     "data": {
      "text/plain": [
       "Index(['gender', 'seniorcitizen', 'partner', 'dependents', 'tenure',\n",
       "       'phoneservice', 'multiplelines', 'internetservice', 'onlinesecurity',\n",
       "       'onlinebackup', 'deviceprotection', 'techsupport', 'streamingtv',\n",
       "       'streamingmovies', 'contract', 'paperlessbilling', 'paymentmethod',\n",
       "       'monthlycharges', 'totalcharges', 'churn'],\n",
       "      dtype='object')"
      ]
     },
     "execution_count": 15,
     "metadata": {},
     "output_type": "execute_result"
    }
   ],
   "source": [
    "df.columns"
   ]
  },
  {
   "cell_type": "code",
   "execution_count": 16,
   "id": "03b6a7d7-189f-4d01-bc8a-8ea00fb15aec",
   "metadata": {},
   "outputs": [
    {
     "data": {
      "text/html": [
       "<div>\n",
       "<style scoped>\n",
       "    .dataframe tbody tr th:only-of-type {\n",
       "        vertical-align: middle;\n",
       "    }\n",
       "\n",
       "    .dataframe tbody tr th {\n",
       "        vertical-align: top;\n",
       "    }\n",
       "\n",
       "    .dataframe thead th {\n",
       "        text-align: right;\n",
       "    }\n",
       "</style>\n",
       "<table border=\"1\" class=\"dataframe\">\n",
       "  <thead>\n",
       "    <tr style=\"text-align: right;\">\n",
       "      <th></th>\n",
       "      <th>seniorcitizen</th>\n",
       "      <th>tenure</th>\n",
       "      <th>monthlycharges</th>\n",
       "      <th>totalcharges</th>\n",
       "    </tr>\n",
       "  </thead>\n",
       "  <tbody>\n",
       "    <tr>\n",
       "      <th>count</th>\n",
       "      <td>5976.000000</td>\n",
       "      <td>5976.000000</td>\n",
       "      <td>5976.000000</td>\n",
       "      <td>5976.000000</td>\n",
       "    </tr>\n",
       "    <tr>\n",
       "      <th>mean</th>\n",
       "      <td>0.161647</td>\n",
       "      <td>32.523092</td>\n",
       "      <td>64.846687</td>\n",
       "      <td>2298.060617</td>\n",
       "    </tr>\n",
       "    <tr>\n",
       "      <th>std</th>\n",
       "      <td>0.368157</td>\n",
       "      <td>24.500858</td>\n",
       "      <td>30.107576</td>\n",
       "      <td>2274.127165</td>\n",
       "    </tr>\n",
       "    <tr>\n",
       "      <th>min</th>\n",
       "      <td>0.000000</td>\n",
       "      <td>1.000000</td>\n",
       "      <td>18.250000</td>\n",
       "      <td>18.800000</td>\n",
       "    </tr>\n",
       "    <tr>\n",
       "      <th>25%</th>\n",
       "      <td>0.000000</td>\n",
       "      <td>9.000000</td>\n",
       "      <td>35.750000</td>\n",
       "      <td>404.312500</td>\n",
       "    </tr>\n",
       "    <tr>\n",
       "      <th>50%</th>\n",
       "      <td>0.000000</td>\n",
       "      <td>29.000000</td>\n",
       "      <td>70.425000</td>\n",
       "      <td>1412.150000</td>\n",
       "    </tr>\n",
       "    <tr>\n",
       "      <th>75%</th>\n",
       "      <td>0.000000</td>\n",
       "      <td>56.000000</td>\n",
       "      <td>89.900000</td>\n",
       "      <td>3846.962500</td>\n",
       "    </tr>\n",
       "    <tr>\n",
       "      <th>max</th>\n",
       "      <td>1.000000</td>\n",
       "      <td>72.000000</td>\n",
       "      <td>118.750000</td>\n",
       "      <td>8684.800000</td>\n",
       "    </tr>\n",
       "  </tbody>\n",
       "</table>\n",
       "</div>"
      ],
      "text/plain": [
       "       seniorcitizen       tenure  monthlycharges  totalcharges\n",
       "count    5976.000000  5976.000000     5976.000000   5976.000000\n",
       "mean        0.161647    32.523092       64.846687   2298.060617\n",
       "std         0.368157    24.500858       30.107576   2274.127165\n",
       "min         0.000000     1.000000       18.250000     18.800000\n",
       "25%         0.000000     9.000000       35.750000    404.312500\n",
       "50%         0.000000    29.000000       70.425000   1412.150000\n",
       "75%         0.000000    56.000000       89.900000   3846.962500\n",
       "max         1.000000    72.000000      118.750000   8684.800000"
      ]
     },
     "execution_count": 16,
     "metadata": {},
     "output_type": "execute_result"
    }
   ],
   "source": [
    "# Basic statistics \n",
    "df.describe()"
   ]
  },
  {
   "cell_type": "code",
   "execution_count": 17,
   "id": "c72bd441-9173-439f-9243-22c0f3359994",
   "metadata": {},
   "outputs": [
    {
     "name": "stdout",
     "output_type": "stream",
     "text": [
      "gender\n",
      "['Male' 'Female']\n",
      "\n",
      "seniorcitizen\n",
      "[0 1]\n",
      "\n",
      "partner\n",
      "['Yes' 'No']\n",
      "\n",
      "dependents\n",
      "['Yes' 'No']\n",
      "\n",
      "tenure\n",
      "[72 44 38  4  2 70 33  1 39 55 52 30 60 50 32 51 69 42 14 62  5 63 67 40\n",
      " 65 16 46 11 49 68 10 53 54 15  3 71  8 64 57 20 26 31  7 35  6 13 23  9\n",
      " 45 17 34 58 12 25 28 29 43 19 41 37 27 22 24 18 56 66 59 48 47 61 21 36]\n",
      "\n",
      "phoneservice\n",
      "['Yes' 'No']\n",
      "\n",
      "multiplelines\n",
      "['Yes' 'No' 'No phone service']\n",
      "\n",
      "internetservice\n",
      "['No' 'Fiber optic' 'DSL']\n",
      "\n",
      "onlinesecurity\n",
      "['No internet service' 'No' 'Yes']\n",
      "\n",
      "onlinebackup\n",
      "['No internet service' 'Yes' 'No']\n",
      "\n",
      "deviceprotection\n",
      "['No internet service' 'Yes' 'No']\n",
      "\n",
      "techsupport\n",
      "['No internet service' 'No' 'Yes']\n",
      "\n",
      "streamingtv\n",
      "['No internet service' 'Yes' 'No']\n",
      "\n",
      "streamingmovies\n",
      "['No internet service' 'No' 'Yes']\n",
      "\n",
      "contract\n",
      "['Two year' 'Month-to-month' 'One year']\n",
      "\n",
      "paperlessbilling\n",
      "['No' 'Yes']\n",
      "\n",
      "paymentmethod\n",
      "['Credit card (automatic)' 'Bank transfer (automatic)' 'Electronic check'\n",
      " 'Mailed check']\n",
      "\n",
      "monthlycharges\n",
      "[24.1  88.15 74.95 ... 59.25 35.35 21.15]\n",
      "\n",
      "totalcharges\n",
      "[1734.65 3973.2  2869.85 ...  306.05 1200.15  457.3 ]\n",
      "\n",
      "churn\n",
      "['No' 'Yes']\n",
      "\n"
     ]
    }
   ],
   "source": [
    "# Print unique values in each column   \n",
    "for columns in df.columns:\n",
    "    print(columns)\n",
    "    print(df[columns].unique())\n",
    "    print()"
   ]
  },
  {
   "cell_type": "markdown",
   "id": "dde9bd36-0f95-40ca-ab36-888fe548e3ba",
   "metadata": {},
   "source": [
    "## **3. Exploratory Data Aanalysis (EDA)**"
   ]
  },
  {
   "cell_type": "markdown",
   "id": "1e4c34ea-a0b6-4322-8b8a-c6c27bb677cc",
   "metadata": {},
   "source": [
    "### 3.1. Label Encode the Target"
   ]
  },
  {
   "cell_type": "code",
   "execution_count": 18,
   "id": "302db575-f39a-40da-ae66-2990ca5c7a5f",
   "metadata": {},
   "outputs": [
    {
     "data": {
      "text/plain": [
       "array(['No', 'Yes'], dtype=object)"
      ]
     },
     "execution_count": 18,
     "metadata": {},
     "output_type": "execute_result"
    }
   ],
   "source": [
    "# 1. Encoding Target Label\n",
    "le = LabelEncoder()\n",
    "df['churn'] = le.fit_transform(df['churn'])\n",
    "le.classes_"
   ]
  },
  {
   "cell_type": "markdown",
   "id": "32ed2bb2-1b55-4722-aee5-79b6ed126c9f",
   "metadata": {},
   "source": [
    "**No Churn : 0**\n",
    "\n",
    "**Churn : 1**"
   ]
  },
  {
   "cell_type": "code",
   "execution_count": 19,
   "id": "2b8fec48-2170-45e2-8a67-fcd352ce640d",
   "metadata": {},
   "outputs": [
    {
     "data": {
      "text/html": [
       "<div>\n",
       "<style scoped>\n",
       "    .dataframe tbody tr th:only-of-type {\n",
       "        vertical-align: middle;\n",
       "    }\n",
       "\n",
       "    .dataframe tbody tr th {\n",
       "        vertical-align: top;\n",
       "    }\n",
       "\n",
       "    .dataframe thead th {\n",
       "        text-align: right;\n",
       "    }\n",
       "</style>\n",
       "<table border=\"1\" class=\"dataframe\">\n",
       "  <thead>\n",
       "    <tr style=\"text-align: right;\">\n",
       "      <th></th>\n",
       "      <th>gender</th>\n",
       "      <th>seniorcitizen</th>\n",
       "      <th>partner</th>\n",
       "      <th>dependents</th>\n",
       "      <th>tenure</th>\n",
       "      <th>phoneservice</th>\n",
       "      <th>multiplelines</th>\n",
       "      <th>internetservice</th>\n",
       "      <th>onlinesecurity</th>\n",
       "      <th>onlinebackup</th>\n",
       "      <th>deviceprotection</th>\n",
       "      <th>techsupport</th>\n",
       "      <th>streamingtv</th>\n",
       "      <th>streamingmovies</th>\n",
       "      <th>contract</th>\n",
       "      <th>paperlessbilling</th>\n",
       "      <th>paymentmethod</th>\n",
       "      <th>monthlycharges</th>\n",
       "      <th>totalcharges</th>\n",
       "      <th>churn</th>\n",
       "    </tr>\n",
       "  </thead>\n",
       "  <tbody>\n",
       "    <tr>\n",
       "      <th>0</th>\n",
       "      <td>Male</td>\n",
       "      <td>0</td>\n",
       "      <td>Yes</td>\n",
       "      <td>Yes</td>\n",
       "      <td>72</td>\n",
       "      <td>Yes</td>\n",
       "      <td>Yes</td>\n",
       "      <td>No</td>\n",
       "      <td>No internet service</td>\n",
       "      <td>No internet service</td>\n",
       "      <td>No internet service</td>\n",
       "      <td>No internet service</td>\n",
       "      <td>No internet service</td>\n",
       "      <td>No internet service</td>\n",
       "      <td>Two year</td>\n",
       "      <td>No</td>\n",
       "      <td>Credit card (automatic)</td>\n",
       "      <td>24.10</td>\n",
       "      <td>1734.65</td>\n",
       "      <td>0</td>\n",
       "    </tr>\n",
       "    <tr>\n",
       "      <th>1</th>\n",
       "      <td>Female</td>\n",
       "      <td>0</td>\n",
       "      <td>No</td>\n",
       "      <td>No</td>\n",
       "      <td>44</td>\n",
       "      <td>Yes</td>\n",
       "      <td>No</td>\n",
       "      <td>Fiber optic</td>\n",
       "      <td>No</td>\n",
       "      <td>Yes</td>\n",
       "      <td>Yes</td>\n",
       "      <td>No</td>\n",
       "      <td>Yes</td>\n",
       "      <td>No</td>\n",
       "      <td>Month-to-month</td>\n",
       "      <td>Yes</td>\n",
       "      <td>Credit card (automatic)</td>\n",
       "      <td>88.15</td>\n",
       "      <td>3973.20</td>\n",
       "      <td>0</td>\n",
       "    </tr>\n",
       "    <tr>\n",
       "      <th>2</th>\n",
       "      <td>Female</td>\n",
       "      <td>1</td>\n",
       "      <td>Yes</td>\n",
       "      <td>No</td>\n",
       "      <td>38</td>\n",
       "      <td>Yes</td>\n",
       "      <td>Yes</td>\n",
       "      <td>Fiber optic</td>\n",
       "      <td>No</td>\n",
       "      <td>No</td>\n",
       "      <td>No</td>\n",
       "      <td>No</td>\n",
       "      <td>No</td>\n",
       "      <td>No</td>\n",
       "      <td>Month-to-month</td>\n",
       "      <td>Yes</td>\n",
       "      <td>Bank transfer (automatic)</td>\n",
       "      <td>74.95</td>\n",
       "      <td>2869.85</td>\n",
       "      <td>1</td>\n",
       "    </tr>\n",
       "  </tbody>\n",
       "</table>\n",
       "</div>"
      ],
      "text/plain": [
       "   gender  seniorcitizen partner dependents  tenure phoneservice  \\\n",
       "0    Male              0     Yes        Yes      72          Yes   \n",
       "1  Female              0      No         No      44          Yes   \n",
       "2  Female              1     Yes         No      38          Yes   \n",
       "\n",
       "  multiplelines internetservice       onlinesecurity         onlinebackup  \\\n",
       "0           Yes              No  No internet service  No internet service   \n",
       "1            No     Fiber optic                   No                  Yes   \n",
       "2           Yes     Fiber optic                   No                   No   \n",
       "\n",
       "      deviceprotection          techsupport          streamingtv  \\\n",
       "0  No internet service  No internet service  No internet service   \n",
       "1                  Yes                   No                  Yes   \n",
       "2                   No                   No                   No   \n",
       "\n",
       "       streamingmovies        contract paperlessbilling  \\\n",
       "0  No internet service        Two year               No   \n",
       "1                   No  Month-to-month              Yes   \n",
       "2                   No  Month-to-month              Yes   \n",
       "\n",
       "               paymentmethod  monthlycharges  totalcharges  churn  \n",
       "0    Credit card (automatic)           24.10       1734.65      0  \n",
       "1    Credit card (automatic)           88.15       3973.20      0  \n",
       "2  Bank transfer (automatic)           74.95       2869.85      1  "
      ]
     },
     "execution_count": 19,
     "metadata": {},
     "output_type": "execute_result"
    }
   ],
   "source": [
    "df.head(3)"
   ]
  },
  {
   "cell_type": "markdown",
   "id": "13265baf-265e-47e2-9123-c58db210c7f6",
   "metadata": {},
   "source": [
    "### 3.2. Univariate Analysis"
   ]
  },
  {
   "cell_type": "code",
   "execution_count": 20,
   "id": "cd62cc6d-e3b0-4e55-af48-2dec6da75541",
   "metadata": {},
   "outputs": [
    {
     "data": {
      "image/png": "[encoded data removed]",
      "text/plain": [
       "<Figure size 800x600 with 1 Axes>"
      ]
     },
     "metadata": {},
     "output_type": "display_data"
    }
   ],
   "source": [
    "plt.figure(figsize=(8, 6))\n",
    "colors = ['#66ff66', '#ff6666']  # Custom colors for the pie chart\n",
    "explode = (0.05, 0)  # Exploding the first slice slightly for emphasis\n",
    "\n",
    "plt.pie(df['churn'].value_counts(),\n",
    "        labels=['No Churn', 'Churn'],   \n",
    "        autopct='%.1f%%', \n",
    "        startangle=60,  # Start angle for better layout\n",
    "        explode=explode,\n",
    "        colors=colors,\n",
    "        wedgeprops={'edgecolor': 'black'},  # Add border\n",
    "        textprops={'fontsize': 14})  # Increase font size for readability\n",
    "\n",
    "plt.title('Customer Churn Distribution', fontsize=16)\n",
    "plt.show()\n"
   ]
  },
  {
   "cell_type": "markdown",
   "id": "62e63689-e56c-418f-bdf6-2fb0d3b88a4f",
   "metadata": {},
   "source": [
    "#### 3.2.1. Histograms"
   ]
  },
  {
   "cell_type": "code",
   "execution_count": 21,
   "id": "c23de40f-094a-4e30-9713-f50bd2e11eda",
   "metadata": {},
   "outputs": [
    {
     "data": {
      "image/png": "[encoded data removed]",
      "text/plain": [
       "<Figure size 2000x600 with 3 Axes>"
      ]
     },
     "metadata": {},
     "output_type": "display_data"
    }
   ],
   "source": [
    "# plot histograms of tenure, monthlycharges, totalcharges \t\n",
    "feature_columns = ['tenure','monthlycharges', 'totalcharges']  \n",
    "\n",
    "sns.set(style=\"whitegrid\")\n",
    "fig, axes = plt.subplots(nrows=1, ncols=3, figsize=(20,6))  \n",
    "axes = axes.flatten() # Flatten axes for easy iteration\n",
    "\n",
    "for i, feature in enumerate(feature_columns):\n",
    "    sns.histplot(df[feature], kde=True, color='royalblue', bins=30, ax=axes[i])\n",
    "    axes[i].set_title(f'{feature}', fontsize=16)\n",
    "    axes[i].set_xlabel(axes[i].get_xlabel(), fontsize=16)\n",
    "    axes[i].set_ylabel(axes[i].get_ylabel(), fontsize=16)\n",
    "\n",
    "    # Set font size for x-axis and y-axis tick labels\n",
    "    axes[i].tick_params(axis='x', labelsize=14)\n",
    "    axes[i].tick_params(axis='y', labelsize=14)\n",
    "\n",
    "plt.tight_layout();"
   ]
  },
  {
   "cell_type": "markdown",
   "id": "899bbd9f-182f-4ed3-9580-7bfca62fac6b",
   "metadata": {},
   "source": [
    "#### 3.2.2. Box plots"
   ]
  },
  {
   "cell_type": "code",
   "execution_count": 22,
   "id": "e457d081-5a5d-48be-bb74-9aeed14d5f0c",
   "metadata": {},
   "outputs": [
    {
     "data": {
      "image/png": "[encoded data removed]",
      "text/plain": [
       "<Figure size 2000x600 with 3 Axes>"
      ]
     },
     "metadata": {},
     "output_type": "display_data"
    }
   ],
   "source": [
    "# plot box plots of tenure, monthlycharges, totalcharges \t\n",
    "feature_columns = ['tenure','monthlycharges', 'totalcharges']  \n",
    "\n",
    "sns.set(style=\"whitegrid\")\n",
    "fig, axes = plt.subplots(nrows=1, ncols=3, figsize=(20,6))  \n",
    "axes = axes.flatten() # Flatten axes for easy iteration\n",
    "\n",
    "for i, feature in enumerate(feature_columns):\n",
    "    sns.boxplot(data=df[feature], ax=axes[i],color='royalblue')\n",
    "    axes[i].set_title(f'{feature}', fontsize=16)\n",
    "    axes[i].set_xlabel(axes[i].get_xlabel(), fontsize=16)\n",
    "    axes[i].set_ylabel('Value', fontsize=16)\n",
    "\n",
    "    # Set font size for x-axis and y-axis tick labels\n",
    "    axes[i].tick_params(axis='x', labelsize=14)\n",
    "    axes[i].tick_params(axis='y', labelsize=14)\n",
    "\n",
    "plt.tight_layout();"
   ]
  },
  {
   "cell_type": "markdown",
   "id": "81ce833b-fa2b-40d0-95fe-685d165155b1",
   "metadata": {},
   "source": [
    "### 3.3. Bivariate Analysis"
   ]
  },
  {
   "cell_type": "markdown",
   "id": "0b1e2ce6-4da1-4b21-a522-a6ba078cd0ab",
   "metadata": {},
   "source": [
    "#### 3.3.1. Correlation matrix"
   ]
  },
  {
   "cell_type": "code",
   "execution_count": 23,
   "id": "08d3491d-f3af-4096-8e88-c9787084d81e",
   "metadata": {},
   "outputs": [
    {
     "data": {
      "text/html": [
       "<div>\n",
       "<style scoped>\n",
       "    .dataframe tbody tr th:only-of-type {\n",
       "        vertical-align: middle;\n",
       "    }\n",
       "\n",
       "    .dataframe tbody tr th {\n",
       "        vertical-align: top;\n",
       "    }\n",
       "\n",
       "    .dataframe thead th {\n",
       "        text-align: right;\n",
       "    }\n",
       "</style>\n",
       "<table border=\"1\" class=\"dataframe\">\n",
       "  <thead>\n",
       "    <tr style=\"text-align: right;\">\n",
       "      <th></th>\n",
       "      <th>seniorcitizen</th>\n",
       "      <th>tenure</th>\n",
       "      <th>monthlycharges</th>\n",
       "      <th>totalcharges</th>\n",
       "      <th>churn</th>\n",
       "    </tr>\n",
       "  </thead>\n",
       "  <tbody>\n",
       "    <tr>\n",
       "      <th>seniorcitizen</th>\n",
       "      <td>1.000000</td>\n",
       "      <td>0.004503</td>\n",
       "      <td>0.219009</td>\n",
       "      <td>0.093160</td>\n",
       "      <td>0.149726</td>\n",
       "    </tr>\n",
       "    <tr>\n",
       "      <th>tenure</th>\n",
       "      <td>0.004503</td>\n",
       "      <td>1.000000</td>\n",
       "      <td>0.255676</td>\n",
       "      <td>0.827439</td>\n",
       "      <td>0.350420</td>\n",
       "    </tr>\n",
       "    <tr>\n",
       "      <th>monthlycharges</th>\n",
       "      <td>0.219009</td>\n",
       "      <td>0.255676</td>\n",
       "      <td>1.000000</td>\n",
       "      <td>0.656534</td>\n",
       "      <td>0.186122</td>\n",
       "    </tr>\n",
       "    <tr>\n",
       "      <th>totalcharges</th>\n",
       "      <td>0.093160</td>\n",
       "      <td>0.827439</td>\n",
       "      <td>0.656534</td>\n",
       "      <td>1.000000</td>\n",
       "      <td>0.197632</td>\n",
       "    </tr>\n",
       "    <tr>\n",
       "      <th>churn</th>\n",
       "      <td>0.149726</td>\n",
       "      <td>0.350420</td>\n",
       "      <td>0.186122</td>\n",
       "      <td>0.197632</td>\n",
       "      <td>1.000000</td>\n",
       "    </tr>\n",
       "  </tbody>\n",
       "</table>\n",
       "</div>"
      ],
      "text/plain": [
       "                seniorcitizen    tenure  monthlycharges  totalcharges  \\\n",
       "seniorcitizen        1.000000  0.004503        0.219009      0.093160   \n",
       "tenure               0.004503  1.000000        0.255676      0.827439   \n",
       "monthlycharges       0.219009  0.255676        1.000000      0.656534   \n",
       "totalcharges         0.093160  0.827439        0.656534      1.000000   \n",
       "churn                0.149726  0.350420        0.186122      0.197632   \n",
       "\n",
       "                   churn  \n",
       "seniorcitizen   0.149726  \n",
       "tenure          0.350420  \n",
       "monthlycharges  0.186122  \n",
       "totalcharges    0.197632  \n",
       "churn           1.000000  "
      ]
     },
     "execution_count": 23,
     "metadata": {},
     "output_type": "execute_result"
    }
   ],
   "source": [
    "corr_df = df.corr(numeric_only=True).abs()\n",
    "corr_df"
   ]
  },
  {
   "cell_type": "code",
   "execution_count": 24,
   "id": "4d5fadd0-977b-4ce9-a3ec-2565619ddce2",
   "metadata": {},
   "outputs": [
    {
     "data": {
      "image/png": "[encoded data removed]",
      "text/plain": [
       "<Figure size 800x400 with 2 Axes>"
      ]
     },
     "metadata": {},
     "output_type": "display_data"
    }
   ],
   "source": [
    "plt.figure(figsize=(8,4))\n",
    "sns.heatmap(corr_df, annot=True, cmap='Blues')\n",
    "plt.show()"
   ]
  },
  {
   "cell_type": "code",
   "execution_count": 25,
   "id": "7ee40f89-86b5-4f24-8edc-17d8de45dfa4",
   "metadata": {},
   "outputs": [],
   "source": [
    "#try to drop one of the column \"totalcharges\" or tenure, in the next iteration"
   ]
  },
  {
   "cell_type": "markdown",
   "id": "39868f2a-ffd1-45cd-bd58-04c9d42f8075",
   "metadata": {},
   "source": [
    "## **4. Data Preparation**"
   ]
  },
  {
   "cell_type": "markdown",
   "id": "b38ba082-b029-4f07-af70-67b39d448a85",
   "metadata": {},
   "source": [
    "### 4.0. Data transformation"
   ]
  },
  {
   "cell_type": "markdown",
   "id": "1f27447c-ccff-4110-89e7-306153b3fe4c",
   "metadata": {},
   "source": [
    "**Replace 'Male' with 1 and 'Female' with 0, and 'Yes' with 1 and 'No' with 0**\n",
    "\n",
    "**\"No internet service\", \"No phone service\" with \"No\"**"
   ]
  },
  {
   "cell_type": "code",
   "execution_count": 26,
   "id": "dc4ffb24-322e-431d-93dd-8f8540fabbd5",
   "metadata": {},
   "outputs": [],
   "source": [
    "df.replace([\"No internet service\", \"No phone service\"], \"No\", inplace=True)\n",
    "df['gender'] = df['gender'].replace({'Male': 1, 'Female': 0})\n",
    "binary_columns = ['partner', 'dependents','phoneservice','multiplelines','onlinesecurity','onlinebackup',\n",
    "                      'deviceprotection', 'techsupport', 'streamingtv','streamingmovies','paperlessbilling']  \n",
    "for col in binary_columns:\n",
    "    df[col] = df[col].replace({'Yes': 1, 'No': 0})"
   ]
  },
  {
   "cell_type": "code",
   "execution_count": 27,
   "id": "d45baf47-adc8-4fe4-bb23-6336b19fb8a5",
   "metadata": {},
   "outputs": [
    {
     "data": {
      "text/html": [
       "<div>\n",
       "<style scoped>\n",
       "    .dataframe tbody tr th:only-of-type {\n",
       "        vertical-align: middle;\n",
       "    }\n",
       "\n",
       "    .dataframe tbody tr th {\n",
       "        vertical-align: top;\n",
       "    }\n",
       "\n",
       "    .dataframe thead th {\n",
       "        text-align: right;\n",
       "    }\n",
       "</style>\n",
       "<table border=\"1\" class=\"dataframe\">\n",
       "  <thead>\n",
       "    <tr style=\"text-align: right;\">\n",
       "      <th></th>\n",
       "      <th>gender</th>\n",
       "      <th>seniorcitizen</th>\n",
       "      <th>partner</th>\n",
       "      <th>dependents</th>\n",
       "      <th>tenure</th>\n",
       "      <th>phoneservice</th>\n",
       "      <th>multiplelines</th>\n",
       "      <th>internetservice</th>\n",
       "      <th>onlinesecurity</th>\n",
       "      <th>onlinebackup</th>\n",
       "      <th>deviceprotection</th>\n",
       "      <th>techsupport</th>\n",
       "      <th>streamingtv</th>\n",
       "      <th>streamingmovies</th>\n",
       "      <th>contract</th>\n",
       "      <th>paperlessbilling</th>\n",
       "      <th>paymentmethod</th>\n",
       "      <th>monthlycharges</th>\n",
       "      <th>totalcharges</th>\n",
       "      <th>churn</th>\n",
       "    </tr>\n",
       "  </thead>\n",
       "  <tbody>\n",
       "    <tr>\n",
       "      <th>0</th>\n",
       "      <td>1</td>\n",
       "      <td>0</td>\n",
       "      <td>1</td>\n",
       "      <td>1</td>\n",
       "      <td>72</td>\n",
       "      <td>1</td>\n",
       "      <td>1</td>\n",
       "      <td>No</td>\n",
       "      <td>0</td>\n",
       "      <td>0</td>\n",
       "      <td>0</td>\n",
       "      <td>0</td>\n",
       "      <td>0</td>\n",
       "      <td>0</td>\n",
       "      <td>Two year</td>\n",
       "      <td>0</td>\n",
       "      <td>Credit card (automatic)</td>\n",
       "      <td>24.10</td>\n",
       "      <td>1734.65</td>\n",
       "      <td>0</td>\n",
       "    </tr>\n",
       "    <tr>\n",
       "      <th>1</th>\n",
       "      <td>0</td>\n",
       "      <td>0</td>\n",
       "      <td>0</td>\n",
       "      <td>0</td>\n",
       "      <td>44</td>\n",
       "      <td>1</td>\n",
       "      <td>0</td>\n",
       "      <td>Fiber optic</td>\n",
       "      <td>0</td>\n",
       "      <td>1</td>\n",
       "      <td>1</td>\n",
       "      <td>0</td>\n",
       "      <td>1</td>\n",
       "      <td>0</td>\n",
       "      <td>Month-to-month</td>\n",
       "      <td>1</td>\n",
       "      <td>Credit card (automatic)</td>\n",
       "      <td>88.15</td>\n",
       "      <td>3973.20</td>\n",
       "      <td>0</td>\n",
       "    </tr>\n",
       "  </tbody>\n",
       "</table>\n",
       "</div>"
      ],
      "text/plain": [
       "   gender  seniorcitizen  partner  dependents  tenure  phoneservice  \\\n",
       "0       1              0        1           1      72             1   \n",
       "1       0              0        0           0      44             1   \n",
       "\n",
       "   multiplelines internetservice  onlinesecurity  onlinebackup  \\\n",
       "0              1              No               0             0   \n",
       "1              0     Fiber optic               0             1   \n",
       "\n",
       "   deviceprotection  techsupport  streamingtv  streamingmovies  \\\n",
       "0                 0            0            0                0   \n",
       "1                 1            0            1                0   \n",
       "\n",
       "         contract  paperlessbilling            paymentmethod  monthlycharges  \\\n",
       "0        Two year                 0  Credit card (automatic)           24.10   \n",
       "1  Month-to-month                 1  Credit card (automatic)           88.15   \n",
       "\n",
       "   totalcharges  churn  \n",
       "0       1734.65      0  \n",
       "1       3973.20      0  "
      ]
     },
     "execution_count": 27,
     "metadata": {},
     "output_type": "execute_result"
    }
   ],
   "source": [
    "df.head(2)"
   ]
  },
  {
   "cell_type": "code",
   "execution_count": 28,
   "id": "12750b75-eea7-4ab0-9591-02bef9b51533",
   "metadata": {},
   "outputs": [
    {
     "data": {
      "text/plain": [
       "(5976, 20)"
      ]
     },
     "execution_count": 28,
     "metadata": {},
     "output_type": "execute_result"
    }
   ],
   "source": [
    "df.shape"
   ]
  },
  {
   "cell_type": "code",
   "execution_count": 29,
   "id": "b9a925ec-a473-4856-8dc0-30274742eb6f",
   "metadata": {},
   "outputs": [
    {
     "data": {
      "text/plain": [
       "array([0, 1], dtype=int64)"
      ]
     },
     "execution_count": 29,
     "metadata": {},
     "output_type": "execute_result"
    }
   ],
   "source": [
    "df['seniorcitizen'].unique()"
   ]
  },
  {
   "cell_type": "markdown",
   "id": "774c857c-2056-48ac-bfcf-6b2274cf90cb",
   "metadata": {},
   "source": [
    "### 4.1 Split the data into features (X) and target (y)"
   ]
  },
  {
   "cell_type": "code",
   "execution_count": 30,
   "id": "b5bd1984-9118-44d0-8178-145cd87bc98b",
   "metadata": {},
   "outputs": [
    {
     "data": {
      "text/html": [
       "<div>\n",
       "<style scoped>\n",
       "    .dataframe tbody tr th:only-of-type {\n",
       "        vertical-align: middle;\n",
       "    }\n",
       "\n",
       "    .dataframe tbody tr th {\n",
       "        vertical-align: top;\n",
       "    }\n",
       "\n",
       "    .dataframe thead th {\n",
       "        text-align: right;\n",
       "    }\n",
       "</style>\n",
       "<table border=\"1\" class=\"dataframe\">\n",
       "  <thead>\n",
       "    <tr style=\"text-align: right;\">\n",
       "      <th></th>\n",
       "      <th>gender</th>\n",
       "      <th>seniorcitizen</th>\n",
       "      <th>partner</th>\n",
       "      <th>dependents</th>\n",
       "      <th>tenure</th>\n",
       "      <th>phoneservice</th>\n",
       "      <th>multiplelines</th>\n",
       "      <th>internetservice</th>\n",
       "      <th>onlinesecurity</th>\n",
       "      <th>onlinebackup</th>\n",
       "      <th>deviceprotection</th>\n",
       "      <th>techsupport</th>\n",
       "      <th>streamingtv</th>\n",
       "      <th>streamingmovies</th>\n",
       "      <th>contract</th>\n",
       "      <th>paperlessbilling</th>\n",
       "      <th>paymentmethod</th>\n",
       "      <th>monthlycharges</th>\n",
       "      <th>totalcharges</th>\n",
       "    </tr>\n",
       "  </thead>\n",
       "  <tbody>\n",
       "    <tr>\n",
       "      <th>0</th>\n",
       "      <td>1</td>\n",
       "      <td>0</td>\n",
       "      <td>1</td>\n",
       "      <td>1</td>\n",
       "      <td>72</td>\n",
       "      <td>1</td>\n",
       "      <td>1</td>\n",
       "      <td>No</td>\n",
       "      <td>0</td>\n",
       "      <td>0</td>\n",
       "      <td>0</td>\n",
       "      <td>0</td>\n",
       "      <td>0</td>\n",
       "      <td>0</td>\n",
       "      <td>Two year</td>\n",
       "      <td>0</td>\n",
       "      <td>Credit card (automatic)</td>\n",
       "      <td>24.10</td>\n",
       "      <td>1734.65</td>\n",
       "    </tr>\n",
       "    <tr>\n",
       "      <th>1</th>\n",
       "      <td>0</td>\n",
       "      <td>0</td>\n",
       "      <td>0</td>\n",
       "      <td>0</td>\n",
       "      <td>44</td>\n",
       "      <td>1</td>\n",
       "      <td>0</td>\n",
       "      <td>Fiber optic</td>\n",
       "      <td>0</td>\n",
       "      <td>1</td>\n",
       "      <td>1</td>\n",
       "      <td>0</td>\n",
       "      <td>1</td>\n",
       "      <td>0</td>\n",
       "      <td>Month-to-month</td>\n",
       "      <td>1</td>\n",
       "      <td>Credit card (automatic)</td>\n",
       "      <td>88.15</td>\n",
       "      <td>3973.20</td>\n",
       "    </tr>\n",
       "    <tr>\n",
       "      <th>2</th>\n",
       "      <td>0</td>\n",
       "      <td>1</td>\n",
       "      <td>1</td>\n",
       "      <td>0</td>\n",
       "      <td>38</td>\n",
       "      <td>1</td>\n",
       "      <td>1</td>\n",
       "      <td>Fiber optic</td>\n",
       "      <td>0</td>\n",
       "      <td>0</td>\n",
       "      <td>0</td>\n",
       "      <td>0</td>\n",
       "      <td>0</td>\n",
       "      <td>0</td>\n",
       "      <td>Month-to-month</td>\n",
       "      <td>1</td>\n",
       "      <td>Bank transfer (automatic)</td>\n",
       "      <td>74.95</td>\n",
       "      <td>2869.85</td>\n",
       "    </tr>\n",
       "  </tbody>\n",
       "</table>\n",
       "</div>"
      ],
      "text/plain": [
       "   gender  seniorcitizen  partner  dependents  tenure  phoneservice  \\\n",
       "0       1              0        1           1      72             1   \n",
       "1       0              0        0           0      44             1   \n",
       "2       0              1        1           0      38             1   \n",
       "\n",
       "   multiplelines internetservice  onlinesecurity  onlinebackup  \\\n",
       "0              1              No               0             0   \n",
       "1              0     Fiber optic               0             1   \n",
       "2              1     Fiber optic               0             0   \n",
       "\n",
       "   deviceprotection  techsupport  streamingtv  streamingmovies  \\\n",
       "0                 0            0            0                0   \n",
       "1                 1            0            1                0   \n",
       "2                 0            0            0                0   \n",
       "\n",
       "         contract  paperlessbilling              paymentmethod  \\\n",
       "0        Two year                 0    Credit card (automatic)   \n",
       "1  Month-to-month                 1    Credit card (automatic)   \n",
       "2  Month-to-month                 1  Bank transfer (automatic)   \n",
       "\n",
       "   monthlycharges  totalcharges  \n",
       "0           24.10       1734.65  \n",
       "1           88.15       3973.20  \n",
       "2           74.95       2869.85  "
      ]
     },
     "execution_count": 30,
     "metadata": {},
     "output_type": "execute_result"
    }
   ],
   "source": [
    "# Features and Target\n",
    "X = df.drop(columns=['churn'])\n",
    "y = df['churn']\n",
    "X.head(3)"
   ]
  },
  {
   "cell_type": "code",
   "execution_count": 31,
   "id": "16b89df0-c334-497d-8d6e-22e026e017e3",
   "metadata": {},
   "outputs": [
    {
     "data": {
      "text/plain": [
       "0    0\n",
       "1    0\n",
       "2    1\n",
       "3    0\n",
       "4    0\n",
       "Name: churn, dtype: int32"
      ]
     },
     "execution_count": 31,
     "metadata": {},
     "output_type": "execute_result"
    }
   ],
   "source": [
    "y.head()"
   ]
  },
  {
   "cell_type": "code",
   "execution_count": 32,
   "id": "638c48e4-7fe0-4340-8750-bf6bc0b227df",
   "metadata": {},
   "outputs": [],
   "source": [
    "# store categorical and numerical column labels to a list\n",
    "categorical_cols = X.select_dtypes(include=['object']).columns.tolist()\n",
    "numerical_cols = X.select_dtypes(include=['int64', 'float64']).columns.tolist()"
   ]
  },
  {
   "cell_type": "code",
   "execution_count": 33,
   "id": "3e5095cd-f649-446c-810c-b893a9181428",
   "metadata": {},
   "outputs": [
    {
     "data": {
      "text/plain": [
       "['gender',\n",
       " 'seniorcitizen',\n",
       " 'partner',\n",
       " 'dependents',\n",
       " 'tenure',\n",
       " 'phoneservice',\n",
       " 'multiplelines',\n",
       " 'onlinesecurity',\n",
       " 'onlinebackup',\n",
       " 'deviceprotection',\n",
       " 'techsupport',\n",
       " 'streamingtv',\n",
       " 'streamingmovies',\n",
       " 'paperlessbilling',\n",
       " 'monthlycharges',\n",
       " 'totalcharges']"
      ]
     },
     "execution_count": 33,
     "metadata": {},
     "output_type": "execute_result"
    }
   ],
   "source": [
    "numerical_cols"
   ]
  },
  {
   "cell_type": "code",
   "execution_count": 34,
   "id": "ca99f924-3f68-4454-9d8b-824d0901df54",
   "metadata": {},
   "outputs": [
    {
     "data": {
      "text/plain": [
       "['internetservice', 'contract', 'paymentmethod']"
      ]
     },
     "execution_count": 34,
     "metadata": {},
     "output_type": "execute_result"
    }
   ],
   "source": [
    "categorical_cols"
   ]
  },
  {
   "cell_type": "markdown",
   "id": "d0be87bc-4deb-4b44-8491-100d0d995803",
   "metadata": {},
   "source": [
    "### 4.2 Train-test split"
   ]
  },
  {
   "cell_type": "code",
   "execution_count": 35,
   "id": "4290014f-d6cd-4e51-9e4e-fd6e03267500",
   "metadata": {},
   "outputs": [],
   "source": [
    "X_train, X_test, y_train, y_test = train_test_split(X, y, test_size=0.1, random_state=3, shuffle=True, stratify=y)"
   ]
  },
  {
   "cell_type": "code",
   "execution_count": 36,
   "id": "77358cc3-ca56-4f94-a9c4-f594f1411299",
   "metadata": {},
   "outputs": [
    {
     "data": {
      "text/plain": [
       "((5378, 19), (598, 19), (5378,), (598,))"
      ]
     },
     "execution_count": 36,
     "metadata": {},
     "output_type": "execute_result"
    }
   ],
   "source": [
    "X_train.shape, X_test.shape, y_train.shape, y_test.shape"
   ]
  },
  {
   "cell_type": "code",
   "execution_count": 37,
   "id": "cb03c6fc-76a2-4ae7-ad2f-1c2cd97bc2b1",
   "metadata": {},
   "outputs": [
    {
     "data": {
      "text/html": [
       "<div>\n",
       "<style scoped>\n",
       "    .dataframe tbody tr th:only-of-type {\n",
       "        vertical-align: middle;\n",
       "    }\n",
       "\n",
       "    .dataframe tbody tr th {\n",
       "        vertical-align: top;\n",
       "    }\n",
       "\n",
       "    .dataframe thead th {\n",
       "        text-align: right;\n",
       "    }\n",
       "</style>\n",
       "<table border=\"1\" class=\"dataframe\">\n",
       "  <thead>\n",
       "    <tr style=\"text-align: right;\">\n",
       "      <th></th>\n",
       "      <th>gender</th>\n",
       "      <th>seniorcitizen</th>\n",
       "      <th>partner</th>\n",
       "      <th>dependents</th>\n",
       "      <th>tenure</th>\n",
       "      <th>phoneservice</th>\n",
       "      <th>multiplelines</th>\n",
       "      <th>internetservice</th>\n",
       "      <th>onlinesecurity</th>\n",
       "      <th>onlinebackup</th>\n",
       "      <th>deviceprotection</th>\n",
       "      <th>techsupport</th>\n",
       "      <th>streamingtv</th>\n",
       "      <th>streamingmovies</th>\n",
       "      <th>contract</th>\n",
       "      <th>paperlessbilling</th>\n",
       "      <th>paymentmethod</th>\n",
       "      <th>monthlycharges</th>\n",
       "      <th>totalcharges</th>\n",
       "    </tr>\n",
       "  </thead>\n",
       "  <tbody>\n",
       "    <tr>\n",
       "      <th>224</th>\n",
       "      <td>0</td>\n",
       "      <td>0</td>\n",
       "      <td>1</td>\n",
       "      <td>1</td>\n",
       "      <td>7</td>\n",
       "      <td>0</td>\n",
       "      <td>0</td>\n",
       "      <td>DSL</td>\n",
       "      <td>1</td>\n",
       "      <td>0</td>\n",
       "      <td>0</td>\n",
       "      <td>1</td>\n",
       "      <td>0</td>\n",
       "      <td>0</td>\n",
       "      <td>Month-to-month</td>\n",
       "      <td>0</td>\n",
       "      <td>Mailed check</td>\n",
       "      <td>34.65</td>\n",
       "      <td>246.60</td>\n",
       "    </tr>\n",
       "    <tr>\n",
       "      <th>3899</th>\n",
       "      <td>1</td>\n",
       "      <td>0</td>\n",
       "      <td>0</td>\n",
       "      <td>0</td>\n",
       "      <td>2</td>\n",
       "      <td>1</td>\n",
       "      <td>0</td>\n",
       "      <td>No</td>\n",
       "      <td>0</td>\n",
       "      <td>0</td>\n",
       "      <td>0</td>\n",
       "      <td>0</td>\n",
       "      <td>0</td>\n",
       "      <td>0</td>\n",
       "      <td>Month-to-month</td>\n",
       "      <td>0</td>\n",
       "      <td>Mailed check</td>\n",
       "      <td>20.75</td>\n",
       "      <td>44.20</td>\n",
       "    </tr>\n",
       "    <tr>\n",
       "      <th>5964</th>\n",
       "      <td>1</td>\n",
       "      <td>0</td>\n",
       "      <td>1</td>\n",
       "      <td>1</td>\n",
       "      <td>32</td>\n",
       "      <td>0</td>\n",
       "      <td>0</td>\n",
       "      <td>DSL</td>\n",
       "      <td>0</td>\n",
       "      <td>0</td>\n",
       "      <td>1</td>\n",
       "      <td>1</td>\n",
       "      <td>0</td>\n",
       "      <td>0</td>\n",
       "      <td>One year</td>\n",
       "      <td>1</td>\n",
       "      <td>Mailed check</td>\n",
       "      <td>36.25</td>\n",
       "      <td>1151.05</td>\n",
       "    </tr>\n",
       "    <tr>\n",
       "      <th>2920</th>\n",
       "      <td>0</td>\n",
       "      <td>1</td>\n",
       "      <td>0</td>\n",
       "      <td>0</td>\n",
       "      <td>23</td>\n",
       "      <td>1</td>\n",
       "      <td>1</td>\n",
       "      <td>Fiber optic</td>\n",
       "      <td>0</td>\n",
       "      <td>0</td>\n",
       "      <td>1</td>\n",
       "      <td>0</td>\n",
       "      <td>0</td>\n",
       "      <td>0</td>\n",
       "      <td>Month-to-month</td>\n",
       "      <td>1</td>\n",
       "      <td>Mailed check</td>\n",
       "      <td>79.35</td>\n",
       "      <td>1835.30</td>\n",
       "    </tr>\n",
       "    <tr>\n",
       "      <th>3902</th>\n",
       "      <td>0</td>\n",
       "      <td>0</td>\n",
       "      <td>1</td>\n",
       "      <td>1</td>\n",
       "      <td>62</td>\n",
       "      <td>1</td>\n",
       "      <td>1</td>\n",
       "      <td>Fiber optic</td>\n",
       "      <td>1</td>\n",
       "      <td>0</td>\n",
       "      <td>0</td>\n",
       "      <td>0</td>\n",
       "      <td>1</td>\n",
       "      <td>1</td>\n",
       "      <td>Two year</td>\n",
       "      <td>1</td>\n",
       "      <td>Bank transfer (automatic)</td>\n",
       "      <td>101.15</td>\n",
       "      <td>6638.35</td>\n",
       "    </tr>\n",
       "  </tbody>\n",
       "</table>\n",
       "</div>"
      ],
      "text/plain": [
       "      gender  seniorcitizen  partner  dependents  tenure  phoneservice  \\\n",
       "224        0              0        1           1       7             0   \n",
       "3899       1              0        0           0       2             1   \n",
       "5964       1              0        1           1      32             0   \n",
       "2920       0              1        0           0      23             1   \n",
       "3902       0              0        1           1      62             1   \n",
       "\n",
       "      multiplelines internetservice  onlinesecurity  onlinebackup  \\\n",
       "224               0             DSL               1             0   \n",
       "3899              0              No               0             0   \n",
       "5964              0             DSL               0             0   \n",
       "2920              1     Fiber optic               0             0   \n",
       "3902              1     Fiber optic               1             0   \n",
       "\n",
       "      deviceprotection  techsupport  streamingtv  streamingmovies  \\\n",
       "224                  0            1            0                0   \n",
       "3899                 0            0            0                0   \n",
       "5964                 1            1            0                0   \n",
       "2920                 1            0            0                0   \n",
       "3902                 0            0            1                1   \n",
       "\n",
       "            contract  paperlessbilling              paymentmethod  \\\n",
       "224   Month-to-month                 0               Mailed check   \n",
       "3899  Month-to-month                 0               Mailed check   \n",
       "5964        One year                 1               Mailed check   \n",
       "2920  Month-to-month                 1               Mailed check   \n",
       "3902        Two year                 1  Bank transfer (automatic)   \n",
       "\n",
       "      monthlycharges  totalcharges  \n",
       "224            34.65        246.60  \n",
       "3899           20.75         44.20  \n",
       "5964           36.25       1151.05  \n",
       "2920           79.35       1835.30  \n",
       "3902          101.15       6638.35  "
      ]
     },
     "execution_count": 37,
     "metadata": {},
     "output_type": "execute_result"
    }
   ],
   "source": [
    "X_train.head()"
   ]
  },
  {
   "cell_type": "code",
   "execution_count": 38,
   "id": "52be1944-8a77-41ad-bb45-b28fce87d504",
   "metadata": {},
   "outputs": [
    {
     "data": {
      "text/html": [
       "<div>\n",
       "<style scoped>\n",
       "    .dataframe tbody tr th:only-of-type {\n",
       "        vertical-align: middle;\n",
       "    }\n",
       "\n",
       "    .dataframe tbody tr th {\n",
       "        vertical-align: top;\n",
       "    }\n",
       "\n",
       "    .dataframe thead th {\n",
       "        text-align: right;\n",
       "    }\n",
       "</style>\n",
       "<table border=\"1\" class=\"dataframe\">\n",
       "  <thead>\n",
       "    <tr style=\"text-align: right;\">\n",
       "      <th></th>\n",
       "      <th>gender</th>\n",
       "      <th>seniorcitizen</th>\n",
       "      <th>partner</th>\n",
       "      <th>dependents</th>\n",
       "      <th>tenure</th>\n",
       "      <th>phoneservice</th>\n",
       "      <th>multiplelines</th>\n",
       "      <th>internetservice</th>\n",
       "      <th>onlinesecurity</th>\n",
       "      <th>onlinebackup</th>\n",
       "      <th>deviceprotection</th>\n",
       "      <th>techsupport</th>\n",
       "      <th>streamingtv</th>\n",
       "      <th>streamingmovies</th>\n",
       "      <th>contract</th>\n",
       "      <th>paperlessbilling</th>\n",
       "      <th>paymentmethod</th>\n",
       "      <th>monthlycharges</th>\n",
       "      <th>totalcharges</th>\n",
       "    </tr>\n",
       "  </thead>\n",
       "  <tbody>\n",
       "    <tr>\n",
       "      <th>5268</th>\n",
       "      <td>1</td>\n",
       "      <td>0</td>\n",
       "      <td>0</td>\n",
       "      <td>0</td>\n",
       "      <td>1</td>\n",
       "      <td>1</td>\n",
       "      <td>0</td>\n",
       "      <td>No</td>\n",
       "      <td>0</td>\n",
       "      <td>0</td>\n",
       "      <td>0</td>\n",
       "      <td>0</td>\n",
       "      <td>0</td>\n",
       "      <td>0</td>\n",
       "      <td>Month-to-month</td>\n",
       "      <td>1</td>\n",
       "      <td>Bank transfer (automatic)</td>\n",
       "      <td>20.2</td>\n",
       "      <td>20.20</td>\n",
       "    </tr>\n",
       "    <tr>\n",
       "      <th>947</th>\n",
       "      <td>0</td>\n",
       "      <td>1</td>\n",
       "      <td>0</td>\n",
       "      <td>0</td>\n",
       "      <td>20</td>\n",
       "      <td>1</td>\n",
       "      <td>1</td>\n",
       "      <td>Fiber optic</td>\n",
       "      <td>0</td>\n",
       "      <td>1</td>\n",
       "      <td>1</td>\n",
       "      <td>0</td>\n",
       "      <td>0</td>\n",
       "      <td>1</td>\n",
       "      <td>Month-to-month</td>\n",
       "      <td>1</td>\n",
       "      <td>Electronic check</td>\n",
       "      <td>94.1</td>\n",
       "      <td>1782.40</td>\n",
       "    </tr>\n",
       "    <tr>\n",
       "      <th>5749</th>\n",
       "      <td>1</td>\n",
       "      <td>0</td>\n",
       "      <td>1</td>\n",
       "      <td>1</td>\n",
       "      <td>19</td>\n",
       "      <td>1</td>\n",
       "      <td>0</td>\n",
       "      <td>No</td>\n",
       "      <td>0</td>\n",
       "      <td>0</td>\n",
       "      <td>0</td>\n",
       "      <td>0</td>\n",
       "      <td>0</td>\n",
       "      <td>0</td>\n",
       "      <td>Month-to-month</td>\n",
       "      <td>0</td>\n",
       "      <td>Mailed check</td>\n",
       "      <td>20.6</td>\n",
       "      <td>414.95</td>\n",
       "    </tr>\n",
       "  </tbody>\n",
       "</table>\n",
       "</div>"
      ],
      "text/plain": [
       "      gender  seniorcitizen  partner  dependents  tenure  phoneservice  \\\n",
       "5268       1              0        0           0       1             1   \n",
       "947        0              1        0           0      20             1   \n",
       "5749       1              0        1           1      19             1   \n",
       "\n",
       "      multiplelines internetservice  onlinesecurity  onlinebackup  \\\n",
       "5268              0              No               0             0   \n",
       "947               1     Fiber optic               0             1   \n",
       "5749              0              No               0             0   \n",
       "\n",
       "      deviceprotection  techsupport  streamingtv  streamingmovies  \\\n",
       "5268                 0            0            0                0   \n",
       "947                  1            0            0                1   \n",
       "5749                 0            0            0                0   \n",
       "\n",
       "            contract  paperlessbilling              paymentmethod  \\\n",
       "5268  Month-to-month                 1  Bank transfer (automatic)   \n",
       "947   Month-to-month                 1           Electronic check   \n",
       "5749  Month-to-month                 0               Mailed check   \n",
       "\n",
       "      monthlycharges  totalcharges  \n",
       "5268            20.2         20.20  \n",
       "947             94.1       1782.40  \n",
       "5749            20.6        414.95  "
      ]
     },
     "execution_count": 38,
     "metadata": {},
     "output_type": "execute_result"
    }
   ],
   "source": [
    "X_test.head(3)"
   ]
  },
  {
   "cell_type": "markdown",
   "id": "eb53112a-1559-4a11-a02b-572573c7a272",
   "metadata": {},
   "source": [
    "### 4.3. Data transformation pipeline"
   ]
  },
  {
   "cell_type": "code",
   "execution_count": 39,
   "id": "b65c9eec-bd99-4a47-a616-97685e47d826",
   "metadata": {},
   "outputs": [],
   "source": [
    "# Preprocessing pipeline\n",
    "preprocessor = ColumnTransformer([   \n",
    "        ('onehot', OneHotEncoder(handle_unknown='ignore', sparse_output=False), ['internetservice','contract','paymentmethod'])  # Apply OneHotEncoder to other categorical cols\n",
    "    ],\n",
    "    remainder='passthrough'  # Keep other columns as-is\n",
    ")\n",
    "\n",
    "# check : apply the pipeline check the resulting dataframe\n",
    "X_train_new = preprocessor.fit_transform(X_train)\n",
    "X_train_new = pd.DataFrame(X_train_new)"
   ]
  },
  {
   "cell_type": "code",
   "execution_count": 40,
   "id": "923adae9-8d10-438c-8556-e6fc9ec0ca4e",
   "metadata": {},
   "outputs": [
    {
     "data": {
      "text/html": [
       "<div>\n",
       "<style scoped>\n",
       "    .dataframe tbody tr th:only-of-type {\n",
       "        vertical-align: middle;\n",
       "    }\n",
       "\n",
       "    .dataframe tbody tr th {\n",
       "        vertical-align: top;\n",
       "    }\n",
       "\n",
       "    .dataframe thead th {\n",
       "        text-align: right;\n",
       "    }\n",
       "</style>\n",
       "<table border=\"1\" class=\"dataframe\">\n",
       "  <thead>\n",
       "    <tr style=\"text-align: right;\">\n",
       "      <th></th>\n",
       "      <th>0</th>\n",
       "      <th>1</th>\n",
       "      <th>2</th>\n",
       "      <th>3</th>\n",
       "      <th>4</th>\n",
       "    </tr>\n",
       "  </thead>\n",
       "  <tbody>\n",
       "    <tr>\n",
       "      <th>0</th>\n",
       "      <td>1.00</td>\n",
       "      <td>0.00</td>\n",
       "      <td>1.00</td>\n",
       "      <td>0.00</td>\n",
       "      <td>0.00</td>\n",
       "    </tr>\n",
       "    <tr>\n",
       "      <th>1</th>\n",
       "      <td>0.00</td>\n",
       "      <td>0.00</td>\n",
       "      <td>0.00</td>\n",
       "      <td>1.00</td>\n",
       "      <td>1.00</td>\n",
       "    </tr>\n",
       "    <tr>\n",
       "      <th>2</th>\n",
       "      <td>0.00</td>\n",
       "      <td>1.00</td>\n",
       "      <td>0.00</td>\n",
       "      <td>0.00</td>\n",
       "      <td>0.00</td>\n",
       "    </tr>\n",
       "    <tr>\n",
       "      <th>3</th>\n",
       "      <td>1.00</td>\n",
       "      <td>1.00</td>\n",
       "      <td>0.00</td>\n",
       "      <td>1.00</td>\n",
       "      <td>0.00</td>\n",
       "    </tr>\n",
       "    <tr>\n",
       "      <th>4</th>\n",
       "      <td>0.00</td>\n",
       "      <td>0.00</td>\n",
       "      <td>1.00</td>\n",
       "      <td>0.00</td>\n",
       "      <td>0.00</td>\n",
       "    </tr>\n",
       "    <tr>\n",
       "      <th>5</th>\n",
       "      <td>0.00</td>\n",
       "      <td>0.00</td>\n",
       "      <td>0.00</td>\n",
       "      <td>0.00</td>\n",
       "      <td>1.00</td>\n",
       "    </tr>\n",
       "    <tr>\n",
       "      <th>6</th>\n",
       "      <td>0.00</td>\n",
       "      <td>0.00</td>\n",
       "      <td>0.00</td>\n",
       "      <td>0.00</td>\n",
       "      <td>1.00</td>\n",
       "    </tr>\n",
       "    <tr>\n",
       "      <th>7</th>\n",
       "      <td>0.00</td>\n",
       "      <td>0.00</td>\n",
       "      <td>0.00</td>\n",
       "      <td>0.00</td>\n",
       "      <td>0.00</td>\n",
       "    </tr>\n",
       "    <tr>\n",
       "      <th>8</th>\n",
       "      <td>0.00</td>\n",
       "      <td>0.00</td>\n",
       "      <td>0.00</td>\n",
       "      <td>0.00</td>\n",
       "      <td>0.00</td>\n",
       "    </tr>\n",
       "    <tr>\n",
       "      <th>9</th>\n",
       "      <td>1.00</td>\n",
       "      <td>1.00</td>\n",
       "      <td>1.00</td>\n",
       "      <td>1.00</td>\n",
       "      <td>0.00</td>\n",
       "    </tr>\n",
       "    <tr>\n",
       "      <th>10</th>\n",
       "      <td>0.00</td>\n",
       "      <td>1.00</td>\n",
       "      <td>1.00</td>\n",
       "      <td>0.00</td>\n",
       "      <td>0.00</td>\n",
       "    </tr>\n",
       "    <tr>\n",
       "      <th>11</th>\n",
       "      <td>0.00</td>\n",
       "      <td>0.00</td>\n",
       "      <td>0.00</td>\n",
       "      <td>1.00</td>\n",
       "      <td>0.00</td>\n",
       "    </tr>\n",
       "    <tr>\n",
       "      <th>12</th>\n",
       "      <td>1.00</td>\n",
       "      <td>0.00</td>\n",
       "      <td>1.00</td>\n",
       "      <td>0.00</td>\n",
       "      <td>1.00</td>\n",
       "    </tr>\n",
       "    <tr>\n",
       "      <th>13</th>\n",
       "      <td>1.00</td>\n",
       "      <td>0.00</td>\n",
       "      <td>1.00</td>\n",
       "      <td>0.00</td>\n",
       "      <td>1.00</td>\n",
       "    </tr>\n",
       "    <tr>\n",
       "      <th>14</th>\n",
       "      <td>7.00</td>\n",
       "      <td>2.00</td>\n",
       "      <td>32.00</td>\n",
       "      <td>23.00</td>\n",
       "      <td>62.00</td>\n",
       "    </tr>\n",
       "    <tr>\n",
       "      <th>15</th>\n",
       "      <td>0.00</td>\n",
       "      <td>1.00</td>\n",
       "      <td>0.00</td>\n",
       "      <td>1.00</td>\n",
       "      <td>1.00</td>\n",
       "    </tr>\n",
       "    <tr>\n",
       "      <th>16</th>\n",
       "      <td>0.00</td>\n",
       "      <td>0.00</td>\n",
       "      <td>0.00</td>\n",
       "      <td>1.00</td>\n",
       "      <td>1.00</td>\n",
       "    </tr>\n",
       "    <tr>\n",
       "      <th>17</th>\n",
       "      <td>1.00</td>\n",
       "      <td>0.00</td>\n",
       "      <td>0.00</td>\n",
       "      <td>0.00</td>\n",
       "      <td>1.00</td>\n",
       "    </tr>\n",
       "    <tr>\n",
       "      <th>18</th>\n",
       "      <td>0.00</td>\n",
       "      <td>0.00</td>\n",
       "      <td>0.00</td>\n",
       "      <td>0.00</td>\n",
       "      <td>0.00</td>\n",
       "    </tr>\n",
       "    <tr>\n",
       "      <th>19</th>\n",
       "      <td>0.00</td>\n",
       "      <td>0.00</td>\n",
       "      <td>1.00</td>\n",
       "      <td>1.00</td>\n",
       "      <td>0.00</td>\n",
       "    </tr>\n",
       "    <tr>\n",
       "      <th>20</th>\n",
       "      <td>1.00</td>\n",
       "      <td>0.00</td>\n",
       "      <td>1.00</td>\n",
       "      <td>0.00</td>\n",
       "      <td>0.00</td>\n",
       "    </tr>\n",
       "    <tr>\n",
       "      <th>21</th>\n",
       "      <td>0.00</td>\n",
       "      <td>0.00</td>\n",
       "      <td>0.00</td>\n",
       "      <td>0.00</td>\n",
       "      <td>1.00</td>\n",
       "    </tr>\n",
       "    <tr>\n",
       "      <th>22</th>\n",
       "      <td>0.00</td>\n",
       "      <td>0.00</td>\n",
       "      <td>0.00</td>\n",
       "      <td>0.00</td>\n",
       "      <td>1.00</td>\n",
       "    </tr>\n",
       "    <tr>\n",
       "      <th>23</th>\n",
       "      <td>0.00</td>\n",
       "      <td>0.00</td>\n",
       "      <td>1.00</td>\n",
       "      <td>1.00</td>\n",
       "      <td>1.00</td>\n",
       "    </tr>\n",
       "    <tr>\n",
       "      <th>24</th>\n",
       "      <td>34.65</td>\n",
       "      <td>20.75</td>\n",
       "      <td>36.25</td>\n",
       "      <td>79.35</td>\n",
       "      <td>101.15</td>\n",
       "    </tr>\n",
       "    <tr>\n",
       "      <th>25</th>\n",
       "      <td>246.60</td>\n",
       "      <td>44.20</td>\n",
       "      <td>1151.05</td>\n",
       "      <td>1835.30</td>\n",
       "      <td>6638.35</td>\n",
       "    </tr>\n",
       "  </tbody>\n",
       "</table>\n",
       "</div>"
      ],
      "text/plain": [
       "         0      1        2        3        4\n",
       "0     1.00   0.00     1.00     0.00     0.00\n",
       "1     0.00   0.00     0.00     1.00     1.00\n",
       "2     0.00   1.00     0.00     0.00     0.00\n",
       "3     1.00   1.00     0.00     1.00     0.00\n",
       "4     0.00   0.00     1.00     0.00     0.00\n",
       "5     0.00   0.00     0.00     0.00     1.00\n",
       "6     0.00   0.00     0.00     0.00     1.00\n",
       "7     0.00   0.00     0.00     0.00     0.00\n",
       "8     0.00   0.00     0.00     0.00     0.00\n",
       "9     1.00   1.00     1.00     1.00     0.00\n",
       "10    0.00   1.00     1.00     0.00     0.00\n",
       "11    0.00   0.00     0.00     1.00     0.00\n",
       "12    1.00   0.00     1.00     0.00     1.00\n",
       "13    1.00   0.00     1.00     0.00     1.00\n",
       "14    7.00   2.00    32.00    23.00    62.00\n",
       "15    0.00   1.00     0.00     1.00     1.00\n",
       "16    0.00   0.00     0.00     1.00     1.00\n",
       "17    1.00   0.00     0.00     0.00     1.00\n",
       "18    0.00   0.00     0.00     0.00     0.00\n",
       "19    0.00   0.00     1.00     1.00     0.00\n",
       "20    1.00   0.00     1.00     0.00     0.00\n",
       "21    0.00   0.00     0.00     0.00     1.00\n",
       "22    0.00   0.00     0.00     0.00     1.00\n",
       "23    0.00   0.00     1.00     1.00     1.00\n",
       "24   34.65  20.75    36.25    79.35   101.15\n",
       "25  246.60  44.20  1151.05  1835.30  6638.35"
      ]
     },
     "execution_count": 40,
     "metadata": {},
     "output_type": "execute_result"
    }
   ],
   "source": [
    "X_train_new.head().T"
   ]
  },
  {
   "cell_type": "markdown",
   "id": "84c38581-6b65-4d2c-8e14-e2488371081b",
   "metadata": {},
   "source": [
    "#### **4.3.1 Normalizing the Input data**"
   ]
  },
  {
   "cell_type": "markdown",
   "id": "2d5efab9-1e69-4cfd-96c5-eae948a3e53f",
   "metadata": {},
   "source": [
    "**Since Random Forest is a Tree-based model, hence normalization of variables is optional**"
   ]
  },
  {
   "cell_type": "markdown",
   "id": "faa68e38-96ec-4644-bde2-f61049d8e405",
   "metadata": {},
   "source": [
    "## **4. Random Forest Model**"
   ]
  },
  {
   "cell_type": "markdown",
   "id": "b472ea20-b3f8-4ab5-8a56-0591c5cfae76",
   "metadata": {},
   "source": [
    "https://scikit-learn.org/stable/modules/generated/sklearn.ensemble.RandomForestClassifier.html"
   ]
  },
  {
   "cell_type": "markdown",
   "id": "5068ca75-8a70-4309-8dcd-cf1f20b01bbc",
   "metadata": {},
   "source": [
    "RandomForestClassifier\n",
    "class sklearn.ensemble.RandomForestClassifier(n_estimators=100, *, criterion='gini', max_depth=None, min_samples_split=2, min_samples_leaf=1, min_weight_fraction_leaf=0.0, max_features='sqrt', max_leaf_nodes=None, min_impurity_decrease=0.0, bootstrap=True, oob_score=False, n_jobs=None, random_state=None, verbose=0, warm_start=False, class_weight=None, ccp_alpha=0.0, max_samples=None, monotonic_cst=None)"
   ]
  },
  {
   "cell_type": "markdown",
   "id": "2ded6e43-d294-41ae-873c-c45a3bdbcaac",
   "metadata": {},
   "source": [
    "### 4.1. Baseline Model"
   ]
  },
  {
   "cell_type": "code",
   "execution_count": 41,
   "id": "e572d24d-4bf8-4b20-9ca1-ed91dd4cfffb",
   "metadata": {},
   "outputs": [
    {
     "name": "stdout",
     "output_type": "stream",
     "text": [
      "Class distribution after SMOTE:\n",
      "0    3950\n",
      "1    3950\n",
      "Name: churn, dtype: int64\n"
     ]
    }
   ],
   "source": [
    "# check point\n",
    "X_train_transformed = preprocessor.fit_transform(X_train)\n",
    "\n",
    "smote = SMOTE(random_state=3)\n",
    "X_res, y_res = smote.fit_resample(X_train_transformed, y_train)\n",
    "\n",
    "print(\"Class distribution after SMOTE:\")\n",
    "print(pd.Series(y_res).value_counts())"
   ]
  },
  {
   "cell_type": "code",
   "execution_count": 42,
   "id": "ce9252b2-eeb8-485a-929e-79e179afecb3",
   "metadata": {},
   "outputs": [],
   "source": [
    "rfc = RandomForestClassifier(n_estimators=1000, \n",
    "                             criterion='gini', \n",
    "                             max_depth=30, \n",
    "                             max_features=0.30, \n",
    "                             max_samples=0.75, \n",
    "                             oob_score=True,\n",
    "                             class_weight='balanced',\n",
    "                             random_state=3)"
   ]
  },
  {
   "cell_type": "code",
   "execution_count": 43,
   "id": "fd58fc2d-d05b-4768-9c34-d491cd8ca0bf",
   "metadata": {},
   "outputs": [],
   "source": [
    "from imblearn.pipeline import Pipeline  # Import from imblearn for SMOTE support\n",
    "\n",
    "pipeline_rfc = Pipeline([(\"col_transformer\", preprocessor),\n",
    "                         (\"smote\", SMOTE(random_state=3)),  # Step 2: SMOTE for handling class imbalance\n",
    "                         (\"model\", rfc)])"
   ]
  },
  {
   "cell_type": "code",
   "execution_count": 44,
   "id": "51d20d40-193a-45ef-a8e7-55945963c5d2",
   "metadata": {},
   "outputs": [
    {
     "data": {
      "text/html": [
       "<style>#sk-container-id-1 {color: black;background-color: white;}#sk-container-id-1 pre{padding: 0;}#sk-container-id-1 div.sk-toggleable {background-color: white;}#sk-container-id-1 label.sk-toggleable__label {cursor: pointer;display: block;width: 100%;margin-bottom: 0;padding: 0.3em;box-sizing: border-box;text-align: center;}#sk-container-id-1 label.sk-toggleable__label-arrow:before {content: \"▸\";float: left;margin-right: 0.25em;color: #696969;}#sk-container-id-1 label.sk-toggleable__label-arrow:hover:before {color: black;}#sk-container-id-1 div.sk-estimator:hover label.sk-toggleable__label-arrow:before {color: black;}#sk-container-id-1 div.sk-toggleable__content {max-height: 0;max-width: 0;overflow: hidden;text-align: left;background-color: #f0f8ff;}#sk-container-id-1 div.sk-toggleable__content pre {margin: 0.2em;color: black;border-radius: 0.25em;background-color: #f0f8ff;}#sk-container-id-1 input.sk-toggleable__control:checked~div.sk-toggleable__content {max-height: 200px;max-width: 100%;overflow: auto;}#sk-container-id-1 input.sk-toggleable__control:checked~label.sk-toggleable__label-arrow:before {content: \"▾\";}#sk-container-id-1 div.sk-estimator input.sk-toggleable__control:checked~label.sk-toggleable__label {background-color: #d4ebff;}#sk-container-id-1 div.sk-label input.sk-toggleable__control:checked~label.sk-toggleable__label {background-color: #d4ebff;}#sk-container-id-1 input.sk-hidden--visually {border: 0;clip: rect(1px 1px 1px 1px);clip: rect(1px, 1px, 1px, 1px);height: 1px;margin: -1px;overflow: hidden;padding: 0;position: absolute;width: 1px;}#sk-container-id-1 div.sk-estimator {font-family: monospace;background-color: #f0f8ff;border: 1px dotted black;border-radius: 0.25em;box-sizing: border-box;margin-bottom: 0.5em;}#sk-container-id-1 div.sk-estimator:hover {background-color: #d4ebff;}#sk-container-id-1 div.sk-parallel-item::after {content: \"\";width: 100%;border-bottom: 1px solid gray;flex-grow: 1;}#sk-container-id-1 div.sk-label:hover label.sk-toggleable__label {background-color: #d4ebff;}#sk-container-id-1 div.sk-serial::before {content: \"\";position: absolute;border-left: 1px solid gray;box-sizing: border-box;top: 0;bottom: 0;left: 50%;z-index: 0;}#sk-container-id-1 div.sk-serial {display: flex;flex-direction: column;align-items: center;background-color: white;padding-right: 0.2em;padding-left: 0.2em;position: relative;}#sk-container-id-1 div.sk-item {position: relative;z-index: 1;}#sk-container-id-1 div.sk-parallel {display: flex;align-items: stretch;justify-content: center;background-color: white;position: relative;}#sk-container-id-1 div.sk-item::before, #sk-container-id-1 div.sk-parallel-item::before {content: \"\";position: absolute;border-left: 1px solid gray;box-sizing: border-box;top: 0;bottom: 0;left: 50%;z-index: -1;}#sk-container-id-1 div.sk-parallel-item {display: flex;flex-direction: column;z-index: 1;position: relative;background-color: white;}#sk-container-id-1 div.sk-parallel-item:first-child::after {align-self: flex-end;width: 50%;}#sk-container-id-1 div.sk-parallel-item:last-child::after {align-self: flex-start;width: 50%;}#sk-container-id-1 div.sk-parallel-item:only-child::after {width: 0;}#sk-container-id-1 div.sk-dashed-wrapped {border: 1px dashed gray;margin: 0 0.4em 0.5em 0.4em;box-sizing: border-box;padding-bottom: 0.4em;background-color: white;}#sk-container-id-1 div.sk-label label {font-family: monospace;font-weight: bold;display: inline-block;line-height: 1.2em;}#sk-container-id-1 div.sk-label-container {text-align: center;}#sk-container-id-1 div.sk-container {/* jupyter's `normalize.less` sets `[hidden] { display: none; }` but bootstrap.min.css set `[hidden] { display: none !important; }` so we also need the `!important` here to be able to override the default hidden behavior on the sphinx rendered scikit-learn.org. See: https://github.com/scikit-learn/scikit-learn/issues/21755 */display: inline-block !important;position: relative;}#sk-container-id-1 div.sk-text-repr-fallback {display: none;}</style><div id=\"sk-container-id-1\" class=\"sk-top-container\"><div class=\"sk-text-repr-fallback\"><pre>Pipeline(steps=[(&#x27;col_transformer&#x27;,\n",
       "                 ColumnTransformer(remainder=&#x27;passthrough&#x27;,\n",
       "                                   transformers=[(&#x27;onehot&#x27;,\n",
       "                                                  OneHotEncoder(handle_unknown=&#x27;ignore&#x27;,\n",
       "                                                                sparse_output=False),\n",
       "                                                  [&#x27;internetservice&#x27;,\n",
       "                                                   &#x27;contract&#x27;,\n",
       "                                                   &#x27;paymentmethod&#x27;])])),\n",
       "                (&#x27;smote&#x27;, SMOTE(random_state=3)),\n",
       "                (&#x27;model&#x27;,\n",
       "                 RandomForestClassifier(class_weight=&#x27;balanced&#x27;, max_depth=30,\n",
       "                                        max_features=0.3, max_samples=0.75,\n",
       "                                        n_estimators=1000, oob_score=True,\n",
       "                                        random_state=3))])</pre><b>In a Jupyter environment, please rerun this cell to show the HTML representation or trust the notebook. <br />On GitHub, the HTML representation is unable to render, please try loading this page with nbviewer.org.</b></div><div class=\"sk-container\" hidden><div class=\"sk-item sk-dashed-wrapped\"><div class=\"sk-label-container\"><div class=\"sk-label sk-toggleable\"><input class=\"sk-toggleable__control sk-hidden--visually\" id=\"sk-estimator-id-1\" type=\"checkbox\" ><label for=\"sk-estimator-id-1\" class=\"sk-toggleable__label sk-toggleable__label-arrow\">Pipeline</label><div class=\"sk-toggleable__content\"><pre>Pipeline(steps=[(&#x27;col_transformer&#x27;,\n",
       "                 ColumnTransformer(remainder=&#x27;passthrough&#x27;,\n",
       "                                   transformers=[(&#x27;onehot&#x27;,\n",
       "                                                  OneHotEncoder(handle_unknown=&#x27;ignore&#x27;,\n",
       "                                                                sparse_output=False),\n",
       "                                                  [&#x27;internetservice&#x27;,\n",
       "                                                   &#x27;contract&#x27;,\n",
       "                                                   &#x27;paymentmethod&#x27;])])),\n",
       "                (&#x27;smote&#x27;, SMOTE(random_state=3)),\n",
       "                (&#x27;model&#x27;,\n",
       "                 RandomForestClassifier(class_weight=&#x27;balanced&#x27;, max_depth=30,\n",
       "                                        max_features=0.3, max_samples=0.75,\n",
       "                                        n_estimators=1000, oob_score=True,\n",
       "                                        random_state=3))])</pre></div></div></div><div class=\"sk-serial\"><div class=\"sk-item sk-dashed-wrapped\"><div class=\"sk-label-container\"><div class=\"sk-label sk-toggleable\"><input class=\"sk-toggleable__control sk-hidden--visually\" id=\"sk-estimator-id-2\" type=\"checkbox\" ><label for=\"sk-estimator-id-2\" class=\"sk-toggleable__label sk-toggleable__label-arrow\">col_transformer: ColumnTransformer</label><div class=\"sk-toggleable__content\"><pre>ColumnTransformer(remainder=&#x27;passthrough&#x27;,\n",
       "                  transformers=[(&#x27;onehot&#x27;,\n",
       "                                 OneHotEncoder(handle_unknown=&#x27;ignore&#x27;,\n",
       "                                               sparse_output=False),\n",
       "                                 [&#x27;internetservice&#x27;, &#x27;contract&#x27;,\n",
       "                                  &#x27;paymentmethod&#x27;])])</pre></div></div></div><div class=\"sk-parallel\"><div class=\"sk-parallel-item\"><div class=\"sk-item\"><div class=\"sk-label-container\"><div class=\"sk-label sk-toggleable\"><input class=\"sk-toggleable__control sk-hidden--visually\" id=\"sk-estimator-id-3\" type=\"checkbox\" ><label for=\"sk-estimator-id-3\" class=\"sk-toggleable__label sk-toggleable__label-arrow\">onehot</label><div class=\"sk-toggleable__content\"><pre>[&#x27;internetservice&#x27;, &#x27;contract&#x27;, &#x27;paymentmethod&#x27;]</pre></div></div></div><div class=\"sk-serial\"><div class=\"sk-item\"><div class=\"sk-estimator sk-toggleable\"><input class=\"sk-toggleable__control sk-hidden--visually\" id=\"sk-estimator-id-4\" type=\"checkbox\" ><label for=\"sk-estimator-id-4\" class=\"sk-toggleable__label sk-toggleable__label-arrow\">OneHotEncoder</label><div class=\"sk-toggleable__content\"><pre>OneHotEncoder(handle_unknown=&#x27;ignore&#x27;, sparse_output=False)</pre></div></div></div></div></div></div><div class=\"sk-parallel-item\"><div class=\"sk-item\"><div class=\"sk-label-container\"><div class=\"sk-label sk-toggleable\"><input class=\"sk-toggleable__control sk-hidden--visually\" id=\"sk-estimator-id-5\" type=\"checkbox\" ><label for=\"sk-estimator-id-5\" class=\"sk-toggleable__label sk-toggleable__label-arrow\">remainder</label><div class=\"sk-toggleable__content\"><pre>[&#x27;gender&#x27;, &#x27;seniorcitizen&#x27;, &#x27;partner&#x27;, &#x27;dependents&#x27;, &#x27;tenure&#x27;, &#x27;phoneservice&#x27;, &#x27;multiplelines&#x27;, &#x27;onlinesecurity&#x27;, &#x27;onlinebackup&#x27;, &#x27;deviceprotection&#x27;, &#x27;techsupport&#x27;, &#x27;streamingtv&#x27;, &#x27;streamingmovies&#x27;, &#x27;paperlessbilling&#x27;, &#x27;monthlycharges&#x27;, &#x27;totalcharges&#x27;]</pre></div></div></div><div class=\"sk-serial\"><div class=\"sk-item\"><div class=\"sk-estimator sk-toggleable\"><input class=\"sk-toggleable__control sk-hidden--visually\" id=\"sk-estimator-id-6\" type=\"checkbox\" ><label for=\"sk-estimator-id-6\" class=\"sk-toggleable__label sk-toggleable__label-arrow\">passthrough</label><div class=\"sk-toggleable__content\"><pre>passthrough</pre></div></div></div></div></div></div></div></div><div class=\"sk-item\"><div class=\"sk-estimator sk-toggleable\"><input class=\"sk-toggleable__control sk-hidden--visually\" id=\"sk-estimator-id-7\" type=\"checkbox\" ><label for=\"sk-estimator-id-7\" class=\"sk-toggleable__label sk-toggleable__label-arrow\">SMOTE</label><div class=\"sk-toggleable__content\"><pre>SMOTE(random_state=3)</pre></div></div></div><div class=\"sk-item\"><div class=\"sk-estimator sk-toggleable\"><input class=\"sk-toggleable__control sk-hidden--visually\" id=\"sk-estimator-id-8\" type=\"checkbox\" ><label for=\"sk-estimator-id-8\" class=\"sk-toggleable__label sk-toggleable__label-arrow\">RandomForestClassifier</label><div class=\"sk-toggleable__content\"><pre>RandomForestClassifier(class_weight=&#x27;balanced&#x27;, max_depth=30, max_features=0.3,\n",
       "                       max_samples=0.75, n_estimators=1000, oob_score=True,\n",
       "                       random_state=3)</pre></div></div></div></div></div></div></div>"
      ],
      "text/plain": [
       "Pipeline(steps=[('col_transformer',\n",
       "                 ColumnTransformer(remainder='passthrough',\n",
       "                                   transformers=[('onehot',\n",
       "                                                  OneHotEncoder(handle_unknown='ignore',\n",
       "                                                                sparse_output=False),\n",
       "                                                  ['internetservice',\n",
       "                                                   'contract',\n",
       "                                                   'paymentmethod'])])),\n",
       "                ('smote', SMOTE(random_state=3)),\n",
       "                ('model',\n",
       "                 RandomForestClassifier(class_weight='balanced', max_depth=30,\n",
       "                                        max_features=0.3, max_samples=0.75,\n",
       "                                        n_estimators=1000, oob_score=True,\n",
       "                                        random_state=3))])"
      ]
     },
     "execution_count": 44,
     "metadata": {},
     "output_type": "execute_result"
    }
   ],
   "source": [
    "pipeline_rfc.fit(X_train,y_train)"
   ]
  },
  {
   "cell_type": "code",
   "execution_count": 45,
   "id": "faec4ed1-c139-4382-9d55-13fc6d1a6294",
   "metadata": {},
   "outputs": [
    {
     "data": {
      "text/plain": [
       "{'col_transformer': ColumnTransformer(remainder='passthrough',\n",
       "                   transformers=[('onehot',\n",
       "                                  OneHotEncoder(handle_unknown='ignore',\n",
       "                                                sparse_output=False),\n",
       "                                  ['internetservice', 'contract',\n",
       "                                   'paymentmethod'])]),\n",
       " 'smote': SMOTE(random_state=3),\n",
       " 'model': RandomForestClassifier(class_weight='balanced', max_depth=30, max_features=0.3,\n",
       "                        max_samples=0.75, n_estimators=1000, oob_score=True,\n",
       "                        random_state=3)}"
      ]
     },
     "execution_count": 45,
     "metadata": {},
     "output_type": "execute_result"
    }
   ],
   "source": [
    "pipeline_rfc.named_steps"
   ]
  },
  {
   "cell_type": "code",
   "execution_count": 46,
   "id": "71622f5d-24f4-4acb-9f1e-f6f1764fb1b1",
   "metadata": {},
   "outputs": [],
   "source": [
    "y_pred = pipeline_rfc.predict(X_test)"
   ]
  },
  {
   "cell_type": "code",
   "execution_count": 47,
   "id": "97e3c5ce-e9b3-4832-b8f1-f9af728ee7ed",
   "metadata": {},
   "outputs": [
    {
     "data": {
      "text/plain": [
       "0.7892976588628763"
      ]
     },
     "execution_count": 47,
     "metadata": {},
     "output_type": "execute_result"
    }
   ],
   "source": [
    "accuracy_score(y_test,y_pred)"
   ]
  },
  {
   "cell_type": "code",
   "execution_count": 48,
   "id": "2a704f26-c8d7-4c31-bb9b-5dc2aaf28a5d",
   "metadata": {},
   "outputs": [],
   "source": [
    "rfc = pipeline_rfc.named_steps['model']"
   ]
  },
  {
   "cell_type": "code",
   "execution_count": 49,
   "id": "32457196-f456-47de-a30c-a9eb3cdd5818",
   "metadata": {},
   "outputs": [
    {
     "data": {
      "text/plain": [
       "0.8584810126582278"
      ]
     },
     "execution_count": 49,
     "metadata": {},
     "output_type": "execute_result"
    }
   ],
   "source": [
    "rfc.oob_score_   # accuracy of the model on Out of Bag(oob) data samples (whcih can be treated as validation set)"
   ]
  },
  {
   "cell_type": "markdown",
   "id": "19558391-d6d3-4d4b-b65e-bf62f626fb6c",
   "metadata": {},
   "source": [
    "### 4.2. Cross Validation"
   ]
  },
  {
   "cell_type": "code",
   "execution_count": 50,
   "id": "34fc5667-bacc-400b-9140-9de44ad92acb",
   "metadata": {},
   "outputs": [
    {
     "data": {
      "text/plain": [
       "0.7000198615771613"
      ]
     },
     "execution_count": 50,
     "metadata": {},
     "output_type": "execute_result"
    }
   ],
   "source": [
    "cross_val_score(pipeline_rfc, X_train, y_train, cv=3, scoring='recall_macro').mean()"
   ]
  },
  {
   "cell_type": "code",
   "execution_count": 51,
   "id": "05c71e19-a2b2-401c-a05a-7d90f6b705d9",
   "metadata": {},
   "outputs": [],
   "source": [
    "#metrics.get_scorer_names()"
   ]
  },
  {
   "cell_type": "markdown",
   "id": "d2fb163f-f015-4de5-b97c-58c4dd33a10b",
   "metadata": {},
   "source": [
    "### 4.3. GridSearch"
   ]
  },
  {
   "cell_type": "code",
   "execution_count": 52,
   "id": "71cc9c3b-007a-4bb9-9f4f-529c129c059a",
   "metadata": {},
   "outputs": [],
   "source": [
    "# parameters for gridsearchcv\n",
    "params = {\n",
    "    'model__max_features' : [0.2,0.3,0.4],       # percentage of features to consider at every split\n",
    "    'model__max_samples' : [0.5,0.75],   # percentage of samples to draw from training data to train each base estimator\n",
    "    'model__n_estimators':[100,500,1000],     # Number of trees in random forest\n",
    "    'model__max_depth':[5,10,20,None]      # None : nodes are expanded until all leaves are pure or until all leaves contain less than min_samples_split samples.\n",
    "}"
   ]
  },
  {
   "cell_type": "code",
   "execution_count": 53,
   "id": "6590f7eb-00c4-4637-81cc-90f4c00f3182",
   "metadata": {},
   "outputs": [],
   "source": [
    "grid = GridSearchCV(pipeline_rfc, params, cv=3, scoring='recall_macro')\n",
    "#grid.fit(X_train, y_train)"
   ]
  },
  {
   "cell_type": "code",
   "execution_count": 54,
   "id": "2b1d8654-915b-4c13-bc2f-1e08579b2b0d",
   "metadata": {},
   "outputs": [],
   "source": [
    "#grid.best_score_"
   ]
  },
  {
   "cell_type": "code",
   "execution_count": 55,
   "id": "91c4c720-8728-448c-8b01-bb7b22179919",
   "metadata": {},
   "outputs": [],
   "source": [
    "#grid.best_params_"
   ]
  },
  {
   "cell_type": "markdown",
   "id": "3ee9b69b-db3a-4fe5-bb1c-8531103de3c1",
   "metadata": {},
   "source": [
    "### 4.4. Final model on the tuned parameters"
   ]
  },
  {
   "cell_type": "code",
   "execution_count": 56,
   "id": "581aefff-da83-4344-b95a-3e329d48f452",
   "metadata": {},
   "outputs": [],
   "source": [
    "# Preprocessing pipeline\n",
    "preprocessor_treebased = ColumnTransformer([   \n",
    "        ('onehot', OneHotEncoder(handle_unknown='ignore', sparse_output=False), ['internetservice','contract','paymentmethod'])  # Apply OneHotEncoder to other categorical cols\n",
    "    ],\n",
    "    remainder='passthrough'  # Keep other columns as-is\n",
    ")"
   ]
  },
  {
   "cell_type": "code",
   "execution_count": 57,
   "id": "1f418f16-fd68-4560-8e34-0fc5aab9ed6c",
   "metadata": {},
   "outputs": [],
   "source": [
    "rfc = RandomForestClassifier(n_estimators=100, \n",
    "                             criterion='gini', \n",
    "                             max_depth=5, \n",
    "                             max_features=0.30, \n",
    "                             max_samples=0.75, \n",
    "                             oob_score=True,                            \n",
    "                             random_state=3)"
   ]
  },
  {
   "cell_type": "code",
   "execution_count": 58,
   "id": "ae8811b3-4e67-4761-bc78-be8befa4734b",
   "metadata": {},
   "outputs": [],
   "source": [
    "from imblearn.pipeline import Pipeline  # Import from imblearn for SMOTE support\n",
    "\n",
    "pipeline_rfc = Pipeline([(\"col_transformer\", preprocessor_treebased),\n",
    "                         (\"smote\", SMOTE(random_state=3)),  # Step 2: SMOTE for handling class imbalance\n",
    "                         (\"model\", rfc)])\n",
    "\n",
    "pipeline_rfc.fit(X_train,y_train)\n",
    "y_pred = pipeline_rfc.predict(X_test)"
   ]
  },
  {
   "cell_type": "code",
   "execution_count": null,
   "id": "ceaec7af-d7f8-4c34-9a0f-e6049ece390c",
   "metadata": {},
   "outputs": [],
   "source": []
  },
  {
   "cell_type": "code",
   "execution_count": 106,
   "id": "864fae73-2ea7-4889-aacc-1e45143057b8",
   "metadata": {},
   "outputs": [],
   "source": [
    "from imblearn.pipeline import Pipeline  # Import from imblearn for SMOTE support\n",
    "\n",
    "# Using Random forest for feature selection\n",
    "rfc_fs = RandomForestClassifier(n_estimators=1000, random_state=3)\n",
    "\n",
    "rfc = RandomForestClassifier(n_estimators=1000, \n",
    "                             criterion='gini', \n",
    "                             max_depth=5, \n",
    "                             max_features=0.30, \n",
    "                             max_samples=0.75, \n",
    "                             oob_score=True,                            \n",
    "                             random_state=3)\n",
    "\n",
    "# SelectFromModel \n",
    "feature_selector_rfc = SelectFromModel(rfc_fs, threshold='1.25*mean')  # Keep features with importance above threshold\n",
    "\n",
    "# Pipeline with feature selection step + final model to be trained, here I am using Random forest\n",
    "pipe_rf = Pipeline([\n",
    "    (\"col_transformer\", preprocessor_treebased),\n",
    "    (\"smote\", SMOTE(random_state=3)),  # Step 2: SMOTE for handling class imbalance\n",
    "    ('feature_selection', feature_selector_rfc),\n",
    "    ('model', rfc)\n",
    "])\n",
    "\n",
    "pipe_rf.fit(X_train, y_train)\n",
    "y_pred = pipe_rf.predict(X_test)"
   ]
  },
  {
   "cell_type": "code",
   "execution_count": 107,
   "id": "254e7446-0b0c-4868-b07d-10def16a0f70",
   "metadata": {},
   "outputs": [
    {
     "data": {
      "image/png": "[encoded data removed]",
      "text/plain": [
       "<Figure size 600x400 with 2 Axes>"
      ]
     },
     "metadata": {},
     "output_type": "display_data"
    }
   ],
   "source": [
    "confusion_mat = confusion_matrix(y_test, y_pred)\n",
    "n_labels=df['churn'].nunique()\n",
    "pd.DataFrame(confusion_mat,columns=list(range(0,n_labels)))\n",
    "plt.figure(figsize=(6,4))\n",
    "sns.heatmap(confusion_mat, annot=True, fmt='d', cmap='Blues')\n",
    "plt.ylabel('True Label')\n",
    "plt.xlabel('Predicted Label');"
   ]
  },
  {
   "cell_type": "code",
   "execution_count": null,
   "id": "aca0f641-bc55-414f-98a8-c154f6e78f1d",
   "metadata": {},
   "outputs": [],
   "source": []
  },
  {
   "cell_type": "code",
   "execution_count": null,
   "id": "5a520e30-04a1-4ce8-a291-967805567e2f",
   "metadata": {},
   "outputs": [],
   "source": []
  },
  {
   "cell_type": "code",
   "execution_count": null,
   "id": "4ee5f24c-b61d-41a7-a8d6-68cc48b2d025",
   "metadata": {},
   "outputs": [],
   "source": []
  },
  {
   "cell_type": "code",
   "execution_count": null,
   "id": "b6bda2e7-1626-42e4-8ffc-9ef3094f417e",
   "metadata": {},
   "outputs": [],
   "source": []
  },
  {
   "cell_type": "code",
   "execution_count": null,
   "id": "d67c9da0-524e-4e91-93da-dc325f9ca525",
   "metadata": {},
   "outputs": [],
   "source": []
  },
  {
   "cell_type": "code",
   "execution_count": null,
   "id": "46a3c5de-d139-4d45-b4b1-eb9a85f22cf0",
   "metadata": {},
   "outputs": [],
   "source": []
  },
  {
   "cell_type": "code",
   "execution_count": null,
   "id": "51d102a4-d366-440a-a7a0-757bdd00a325",
   "metadata": {},
   "outputs": [],
   "source": []
  },
  {
   "cell_type": "code",
   "execution_count": 59,
   "id": "af2aa06a-eac6-48b8-a5f6-ce6db99f31ab",
   "metadata": {},
   "outputs": [
    {
     "data": {
      "text/plain": [
       "0.8334177215189873"
      ]
     },
     "execution_count": 59,
     "metadata": {},
     "output_type": "execute_result"
    }
   ],
   "source": [
    "rfc = pipeline_rfc.named_steps['model']\n",
    "rfc.oob_score_   # accuracy of the model on Out of Bag(oob) data samples (whcih can be treated as validation set)"
   ]
  },
  {
   "cell_type": "markdown",
   "id": "f54bfe7e-54be-469a-9d56-08667c6ecc1c",
   "metadata": {},
   "source": [
    "### 4.5. Confusion Matrix & Classification Report"
   ]
  },
  {
   "cell_type": "code",
   "execution_count": 60,
   "id": "5dd62e3c-9812-4640-a92c-bf38be125f0b",
   "metadata": {},
   "outputs": [],
   "source": [
    "def evaluate_model(model, X_test, y_test, model_name):\n",
    "    y_pred = model.predict(X_test)\n",
    "    accuracy = accuracy_score(y_test, y_pred)\n",
    "    conf_matrix = confusion_matrix(y_test, y_pred)\n",
    "    class_report = classification_report(y_test, y_pred)\n",
    "    f1_score_weighted = f1_score(y_test, y_pred, average='weighted')\n",
    "\n",
    "    print(\"-\"*70)\n",
    "    print(f'{model_name} F1_score(weighted): {f1_score_weighted:.2f}')\n",
    "    print(\"\")\n",
    "    print(f'{model_name} Classification Report:\\n{class_report}')\n",
    "    print(\"-\"*70)\n",
    " \n",
    "    disp = ConfusionMatrixDisplay(confusion_matrix=conf_matrix, display_labels=['No Churn', 'Churn'])\n",
    "    plt.style.use(\"default\")\n",
    "    disp.plot(cmap='Blues')\n",
    "    #plt.figure(figsize=(10,4))\n",
    "    plt.title(f'{model_name} Confusion Matrix')\n",
    "    plt.grid(visible=False)\n",
    "    plt.show();"
   ]
  },
  {
   "cell_type": "code",
   "execution_count": 61,
   "id": "2239fe10-eb4e-4f34-8d26-1a1aacf2d3a3",
   "metadata": {},
   "outputs": [
    {
     "name": "stdout",
     "output_type": "stream",
     "text": [
      "----------------------------------------------------------------------\n",
      "\n",
      "Random Forest Results:\n",
      "----------------------------------------------------------------------\n",
      "Random Forest F1_score(weighted): 0.79\n",
      "\n",
      "Random Forest Classification Report:\n",
      "              precision    recall  f1-score   support\n",
      "\n",
      "           0       0.90      0.80      0.85       439\n",
      "           1       0.58      0.74      0.65       159\n",
      "\n",
      "    accuracy                           0.79       598\n",
      "   macro avg       0.74      0.77      0.75       598\n",
      "weighted avg       0.81      0.79      0.79       598\n",
      "\n",
      "----------------------------------------------------------------------\n"
     ]
    },
    {
     "data": {
      "image/png": "[encoded data removed]",
      "text/plain": [
       "<Figure size 640x480 with 2 Axes>"
      ]
     },
     "metadata": {},
     "output_type": "display_data"
    }
   ],
   "source": [
    "print(\"-\"*70)\n",
    "print(\"\\nRandom Forest Results:\")\n",
    "evaluate_model(pipeline_rfc, X_test, y_test, \"Random Forest\")"
   ]
  },
  {
   "cell_type": "code",
   "execution_count": 62,
   "id": "990f742d-d5f5-477b-9875-223265b64f3e",
   "metadata": {},
   "outputs": [
    {
     "name": "stdout",
     "output_type": "stream",
     "text": [
      "ROC AUC Score: 0.8452027907909629\n"
     ]
    },
    {
     "data": {
      "image/png": "[encoded data removed]",
      "text/plain": [
       "<Figure size 640x480 with 1 Axes>"
      ]
     },
     "metadata": {},
     "output_type": "display_data"
    }
   ],
   "source": [
    "y_proba = pipeline_rfc.predict_proba(X_test)[:, 1]\n",
    "\n",
    "# Print ROC AUC Score\n",
    "print(\"ROC AUC Score:\", roc_auc_score(y_test, y_proba))\n",
    "\n",
    "# Plotting ROC AUC Curve\n",
    "fpr, tpr, _ = roc_curve(y_test, y_proba)\n",
    "plt.figure()\n",
    "plt.plot(fpr, tpr, color='darkorange', lw=2, label='ROC curve (area = %0.2f)' % roc_auc_score(y_test, y_proba))\n",
    "plt.plot([0, 1], [0, 1], color='navy', lw=2, linestyle='--')\n",
    "plt.xlim([0.0, 1.0])\n",
    "plt.ylim([0.0, 1.05])\n",
    "plt.xlabel('False Positive Rate')\n",
    "plt.ylabel('True Positive Rate')\n",
    "plt.title('Receiver Operating Characteristic')\n",
    "plt.legend(loc=\"lower right\")\n",
    "plt.show()"
   ]
  },
  {
   "cell_type": "markdown",
   "id": "05477a79-b667-4e20-ac5b-ce69564d6cbf",
   "metadata": {},
   "source": [
    "### 4.7. Feature Importance"
   ]
  },
  {
   "cell_type": "code",
   "execution_count": 63,
   "id": "0e64effa-ae3b-43ed-994d-15b964b38acb",
   "metadata": {},
   "outputs": [
    {
     "data": {
      "text/html": [
       "<style>#sk-container-id-2 {color: black;background-color: white;}#sk-container-id-2 pre{padding: 0;}#sk-container-id-2 div.sk-toggleable {background-color: white;}#sk-container-id-2 label.sk-toggleable__label {cursor: pointer;display: block;width: 100%;margin-bottom: 0;padding: 0.3em;box-sizing: border-box;text-align: center;}#sk-container-id-2 label.sk-toggleable__label-arrow:before {content: \"▸\";float: left;margin-right: 0.25em;color: #696969;}#sk-container-id-2 label.sk-toggleable__label-arrow:hover:before {color: black;}#sk-container-id-2 div.sk-estimator:hover label.sk-toggleable__label-arrow:before {color: black;}#sk-container-id-2 div.sk-toggleable__content {max-height: 0;max-width: 0;overflow: hidden;text-align: left;background-color: #f0f8ff;}#sk-container-id-2 div.sk-toggleable__content pre {margin: 0.2em;color: black;border-radius: 0.25em;background-color: #f0f8ff;}#sk-container-id-2 input.sk-toggleable__control:checked~div.sk-toggleable__content {max-height: 200px;max-width: 100%;overflow: auto;}#sk-container-id-2 input.sk-toggleable__control:checked~label.sk-toggleable__label-arrow:before {content: \"▾\";}#sk-container-id-2 div.sk-estimator input.sk-toggleable__control:checked~label.sk-toggleable__label {background-color: #d4ebff;}#sk-container-id-2 div.sk-label input.sk-toggleable__control:checked~label.sk-toggleable__label {background-color: #d4ebff;}#sk-container-id-2 input.sk-hidden--visually {border: 0;clip: rect(1px 1px 1px 1px);clip: rect(1px, 1px, 1px, 1px);height: 1px;margin: -1px;overflow: hidden;padding: 0;position: absolute;width: 1px;}#sk-container-id-2 div.sk-estimator {font-family: monospace;background-color: #f0f8ff;border: 1px dotted black;border-radius: 0.25em;box-sizing: border-box;margin-bottom: 0.5em;}#sk-container-id-2 div.sk-estimator:hover {background-color: #d4ebff;}#sk-container-id-2 div.sk-parallel-item::after {content: \"\";width: 100%;border-bottom: 1px solid gray;flex-grow: 1;}#sk-container-id-2 div.sk-label:hover label.sk-toggleable__label {background-color: #d4ebff;}#sk-container-id-2 div.sk-serial::before {content: \"\";position: absolute;border-left: 1px solid gray;box-sizing: border-box;top: 0;bottom: 0;left: 50%;z-index: 0;}#sk-container-id-2 div.sk-serial {display: flex;flex-direction: column;align-items: center;background-color: white;padding-right: 0.2em;padding-left: 0.2em;position: relative;}#sk-container-id-2 div.sk-item {position: relative;z-index: 1;}#sk-container-id-2 div.sk-parallel {display: flex;align-items: stretch;justify-content: center;background-color: white;position: relative;}#sk-container-id-2 div.sk-item::before, #sk-container-id-2 div.sk-parallel-item::before {content: \"\";position: absolute;border-left: 1px solid gray;box-sizing: border-box;top: 0;bottom: 0;left: 50%;z-index: -1;}#sk-container-id-2 div.sk-parallel-item {display: flex;flex-direction: column;z-index: 1;position: relative;background-color: white;}#sk-container-id-2 div.sk-parallel-item:first-child::after {align-self: flex-end;width: 50%;}#sk-container-id-2 div.sk-parallel-item:last-child::after {align-self: flex-start;width: 50%;}#sk-container-id-2 div.sk-parallel-item:only-child::after {width: 0;}#sk-container-id-2 div.sk-dashed-wrapped {border: 1px dashed gray;margin: 0 0.4em 0.5em 0.4em;box-sizing: border-box;padding-bottom: 0.4em;background-color: white;}#sk-container-id-2 div.sk-label label {font-family: monospace;font-weight: bold;display: inline-block;line-height: 1.2em;}#sk-container-id-2 div.sk-label-container {text-align: center;}#sk-container-id-2 div.sk-container {/* jupyter's `normalize.less` sets `[hidden] { display: none; }` but bootstrap.min.css set `[hidden] { display: none !important; }` so we also need the `!important` here to be able to override the default hidden behavior on the sphinx rendered scikit-learn.org. See: https://github.com/scikit-learn/scikit-learn/issues/21755 */display: inline-block !important;position: relative;}#sk-container-id-2 div.sk-text-repr-fallback {display: none;}</style><div id=\"sk-container-id-2\" class=\"sk-top-container\"><div class=\"sk-text-repr-fallback\"><pre>RandomForestClassifier(max_depth=5, max_features=0.3, max_samples=0.75,\n",
       "                       oob_score=True, random_state=3)</pre><b>In a Jupyter environment, please rerun this cell to show the HTML representation or trust the notebook. <br />On GitHub, the HTML representation is unable to render, please try loading this page with nbviewer.org.</b></div><div class=\"sk-container\" hidden><div class=\"sk-item\"><div class=\"sk-estimator sk-toggleable\"><input class=\"sk-toggleable__control sk-hidden--visually\" id=\"sk-estimator-id-9\" type=\"checkbox\" checked><label for=\"sk-estimator-id-9\" class=\"sk-toggleable__label sk-toggleable__label-arrow\">RandomForestClassifier</label><div class=\"sk-toggleable__content\"><pre>RandomForestClassifier(max_depth=5, max_features=0.3, max_samples=0.75,\n",
       "                       oob_score=True, random_state=3)</pre></div></div></div></div></div>"
      ],
      "text/plain": [
       "RandomForestClassifier(max_depth=5, max_features=0.3, max_samples=0.75,\n",
       "                       oob_score=True, random_state=3)"
      ]
     },
     "execution_count": 63,
     "metadata": {},
     "output_type": "execute_result"
    }
   ],
   "source": [
    "pipeline_rfc.named_steps['model']"
   ]
  },
  {
   "cell_type": "code",
   "execution_count": 64,
   "id": "65ebea74-a262-4009-958e-32dea7b401cb",
   "metadata": {},
   "outputs": [
    {
     "data": {
      "text/plain": [
       "Index(['gender', 'seniorcitizen', 'partner', 'dependents', 'tenure',\n",
       "       'phoneservice', 'multiplelines', 'internetservice', 'onlinesecurity',\n",
       "       'onlinebackup', 'deviceprotection', 'techsupport', 'streamingtv',\n",
       "       'streamingmovies', 'contract', 'paperlessbilling', 'paymentmethod',\n",
       "       'monthlycharges', 'totalcharges'],\n",
       "      dtype='object')"
      ]
     },
     "execution_count": 64,
     "metadata": {},
     "output_type": "execute_result"
    }
   ],
   "source": [
    "X_train.columns   # but during one-hot-encoding the columns are swapped, check in previous steps"
   ]
  },
  {
   "cell_type": "code",
   "execution_count": 65,
   "id": "cfdbb23f-ddb0-4e2a-8b99-e659e14ced45",
   "metadata": {},
   "outputs": [
    {
     "data": {
      "text/plain": [
       "{'col_transformer': ColumnTransformer(remainder='passthrough',\n",
       "                   transformers=[('onehot',\n",
       "                                  OneHotEncoder(handle_unknown='ignore',\n",
       "                                                sparse_output=False),\n",
       "                                  ['internetservice', 'contract',\n",
       "                                   'paymentmethod'])]),\n",
       " 'smote': SMOTE(random_state=3),\n",
       " 'model': RandomForestClassifier(max_depth=5, max_features=0.3, max_samples=0.75,\n",
       "                        oob_score=True, random_state=3)}"
      ]
     },
     "execution_count": 65,
     "metadata": {},
     "output_type": "execute_result"
    }
   ],
   "source": [
    "pipeline_rfc.named_steps"
   ]
  },
  {
   "cell_type": "markdown",
   "id": "1a1f0410-b16f-43e0-83d9-e9853b875772",
   "metadata": {},
   "source": [
    "https://scikit-learn.org/stable/modules/generated/sklearn.preprocessing.OneHotEncoder.html#sklearn.preprocessing.OneHotEncoder.get_feature_names_out"
   ]
  },
  {
   "cell_type": "code",
   "execution_count": 66,
   "id": "2186629b-e5e6-4102-b0e1-7caee0b58ce3",
   "metadata": {},
   "outputs": [
    {
     "data": {
      "text/plain": [
       "array(['onehot__internetservice_DSL',\n",
       "       'onehot__internetservice_Fiber optic',\n",
       "       'onehot__internetservice_No', 'onehot__contract_Month-to-month',\n",
       "       'onehot__contract_One year', 'onehot__contract_Two year',\n",
       "       'onehot__paymentmethod_Bank transfer (automatic)',\n",
       "       'onehot__paymentmethod_Credit card (automatic)',\n",
       "       'onehot__paymentmethod_Electronic check',\n",
       "       'onehot__paymentmethod_Mailed check', 'remainder__gender',\n",
       "       'remainder__seniorcitizen', 'remainder__partner',\n",
       "       'remainder__dependents', 'remainder__tenure',\n",
       "       'remainder__phoneservice', 'remainder__multiplelines',\n",
       "       'remainder__onlinesecurity', 'remainder__onlinebackup',\n",
       "       'remainder__deviceprotection', 'remainder__techsupport',\n",
       "       'remainder__streamingtv', 'remainder__streamingmovies',\n",
       "       'remainder__paperlessbilling', 'remainder__monthlycharges',\n",
       "       'remainder__totalcharges'], dtype=object)"
      ]
     },
     "execution_count": 66,
     "metadata": {},
     "output_type": "execute_result"
    }
   ],
   "source": [
    "# Get the transformed feature names after applying preprocessing step in the pipeline\n",
    "#ohe = pipeline_rfc.named_steps['col_transformer'].named_transformers_['onehot']\n",
    "ohe = pipeline_rfc.named_steps['col_transformer']\n",
    "ohe_feature_names = ohe.get_feature_names_out()\n",
    "ohe_feature_names"
   ]
  },
  {
   "cell_type": "code",
   "execution_count": 67,
   "id": "6ff8c7f4-a0e2-429f-965a-69b84cc209a7",
   "metadata": {},
   "outputs": [
    {
     "data": {
      "text/plain": [
       "26"
      ]
     },
     "execution_count": 67,
     "metadata": {},
     "output_type": "execute_result"
    }
   ],
   "source": [
    "len(ohe_feature_names)"
   ]
  },
  {
   "cell_type": "code",
   "execution_count": 68,
   "id": "30216ba3-9664-4346-b9e8-fc53335dd259",
   "metadata": {},
   "outputs": [
    {
     "data": {
      "text/plain": [
       "array([0.00939675, 0.07570959, 0.0252137 , 0.26257358, 0.02315806,\n",
       "       0.05712798, 0.00696375, 0.00385561, 0.20330168, 0.00423739,\n",
       "       0.00194181, 0.00587234, 0.01514363, 0.01251474, 0.0828782 ,\n",
       "       0.00193816, 0.004001  , 0.04004867, 0.00786107, 0.0006658 ,\n",
       "       0.03399601, 0.00395604, 0.00512288, 0.05718729, 0.02148824,\n",
       "       0.03384604])"
      ]
     },
     "execution_count": 68,
     "metadata": {},
     "output_type": "execute_result"
    }
   ],
   "source": [
    "# The importance of a feature is computed as the (normalized) total reduction of the criterion brought by that feature. \n",
    "# It is also known as the Gini importance.\n",
    "feature_imp_value = rfc.feature_importances_\n",
    "feature_imp_value"
   ]
  },
  {
   "cell_type": "code",
   "execution_count": 69,
   "id": "b8f3e674-3064-4603-922d-2f8b94b1baa1",
   "metadata": {},
   "outputs": [
    {
     "data": {
      "text/html": [
       "<div>\n",
       "<style scoped>\n",
       "    .dataframe tbody tr th:only-of-type {\n",
       "        vertical-align: middle;\n",
       "    }\n",
       "\n",
       "    .dataframe tbody tr th {\n",
       "        vertical-align: top;\n",
       "    }\n",
       "\n",
       "    .dataframe thead th {\n",
       "        text-align: right;\n",
       "    }\n",
       "</style>\n",
       "<table border=\"1\" class=\"dataframe\">\n",
       "  <thead>\n",
       "    <tr style=\"text-align: right;\">\n",
       "      <th></th>\n",
       "      <th>Feature</th>\n",
       "      <th>Importance</th>\n",
       "    </tr>\n",
       "  </thead>\n",
       "  <tbody>\n",
       "    <tr>\n",
       "      <th>0</th>\n",
       "      <td>contract_Month-to-month</td>\n",
       "      <td>0.262574</td>\n",
       "    </tr>\n",
       "    <tr>\n",
       "      <th>1</th>\n",
       "      <td>paymentmethod_Electronic check</td>\n",
       "      <td>0.203302</td>\n",
       "    </tr>\n",
       "    <tr>\n",
       "      <th>2</th>\n",
       "      <td>tenure</td>\n",
       "      <td>0.082878</td>\n",
       "    </tr>\n",
       "    <tr>\n",
       "      <th>3</th>\n",
       "      <td>internetservice_Fiber optic</td>\n",
       "      <td>0.075710</td>\n",
       "    </tr>\n",
       "    <tr>\n",
       "      <th>4</th>\n",
       "      <td>paperlessbilling</td>\n",
       "      <td>0.057187</td>\n",
       "    </tr>\n",
       "    <tr>\n",
       "      <th>5</th>\n",
       "      <td>contract_Two year</td>\n",
       "      <td>0.057128</td>\n",
       "    </tr>\n",
       "    <tr>\n",
       "      <th>6</th>\n",
       "      <td>onlinesecurity</td>\n",
       "      <td>0.040049</td>\n",
       "    </tr>\n",
       "    <tr>\n",
       "      <th>7</th>\n",
       "      <td>techsupport</td>\n",
       "      <td>0.033996</td>\n",
       "    </tr>\n",
       "    <tr>\n",
       "      <th>8</th>\n",
       "      <td>totalcharges</td>\n",
       "      <td>0.033846</td>\n",
       "    </tr>\n",
       "    <tr>\n",
       "      <th>9</th>\n",
       "      <td>internetservice_No</td>\n",
       "      <td>0.025214</td>\n",
       "    </tr>\n",
       "    <tr>\n",
       "      <th>10</th>\n",
       "      <td>contract_One year</td>\n",
       "      <td>0.023158</td>\n",
       "    </tr>\n",
       "    <tr>\n",
       "      <th>11</th>\n",
       "      <td>monthlycharges</td>\n",
       "      <td>0.021488</td>\n",
       "    </tr>\n",
       "    <tr>\n",
       "      <th>12</th>\n",
       "      <td>partner</td>\n",
       "      <td>0.015144</td>\n",
       "    </tr>\n",
       "    <tr>\n",
       "      <th>13</th>\n",
       "      <td>dependents</td>\n",
       "      <td>0.012515</td>\n",
       "    </tr>\n",
       "    <tr>\n",
       "      <th>14</th>\n",
       "      <td>internetservice_DSL</td>\n",
       "      <td>0.009397</td>\n",
       "    </tr>\n",
       "    <tr>\n",
       "      <th>15</th>\n",
       "      <td>onlinebackup</td>\n",
       "      <td>0.007861</td>\n",
       "    </tr>\n",
       "    <tr>\n",
       "      <th>16</th>\n",
       "      <td>paymentmethod_Bank transfer (automatic)</td>\n",
       "      <td>0.006964</td>\n",
       "    </tr>\n",
       "    <tr>\n",
       "      <th>17</th>\n",
       "      <td>seniorcitizen</td>\n",
       "      <td>0.005872</td>\n",
       "    </tr>\n",
       "    <tr>\n",
       "      <th>18</th>\n",
       "      <td>streamingmovies</td>\n",
       "      <td>0.005123</td>\n",
       "    </tr>\n",
       "    <tr>\n",
       "      <th>19</th>\n",
       "      <td>paymentmethod_Mailed check</td>\n",
       "      <td>0.004237</td>\n",
       "    </tr>\n",
       "    <tr>\n",
       "      <th>20</th>\n",
       "      <td>multiplelines</td>\n",
       "      <td>0.004001</td>\n",
       "    </tr>\n",
       "    <tr>\n",
       "      <th>21</th>\n",
       "      <td>streamingtv</td>\n",
       "      <td>0.003956</td>\n",
       "    </tr>\n",
       "    <tr>\n",
       "      <th>22</th>\n",
       "      <td>paymentmethod_Credit card (automatic)</td>\n",
       "      <td>0.003856</td>\n",
       "    </tr>\n",
       "    <tr>\n",
       "      <th>23</th>\n",
       "      <td>gender</td>\n",
       "      <td>0.001942</td>\n",
       "    </tr>\n",
       "    <tr>\n",
       "      <th>24</th>\n",
       "      <td>phoneservice</td>\n",
       "      <td>0.001938</td>\n",
       "    </tr>\n",
       "    <tr>\n",
       "      <th>25</th>\n",
       "      <td>deviceprotection</td>\n",
       "      <td>0.000666</td>\n",
       "    </tr>\n",
       "  </tbody>\n",
       "</table>\n",
       "</div>"
      ],
      "text/plain": [
       "                                    Feature  Importance\n",
       "0                   contract_Month-to-month    0.262574\n",
       "1            paymentmethod_Electronic check    0.203302\n",
       "2                                    tenure    0.082878\n",
       "3               internetservice_Fiber optic    0.075710\n",
       "4                          paperlessbilling    0.057187\n",
       "5                         contract_Two year    0.057128\n",
       "6                            onlinesecurity    0.040049\n",
       "7                               techsupport    0.033996\n",
       "8                              totalcharges    0.033846\n",
       "9                        internetservice_No    0.025214\n",
       "10                        contract_One year    0.023158\n",
       "11                           monthlycharges    0.021488\n",
       "12                                  partner    0.015144\n",
       "13                               dependents    0.012515\n",
       "14                      internetservice_DSL    0.009397\n",
       "15                             onlinebackup    0.007861\n",
       "16  paymentmethod_Bank transfer (automatic)    0.006964\n",
       "17                            seniorcitizen    0.005872\n",
       "18                          streamingmovies    0.005123\n",
       "19               paymentmethod_Mailed check    0.004237\n",
       "20                            multiplelines    0.004001\n",
       "21                              streamingtv    0.003956\n",
       "22    paymentmethod_Credit card (automatic)    0.003856\n",
       "23                                   gender    0.001942\n",
       "24                             phoneservice    0.001938\n",
       "25                         deviceprotection    0.000666"
      ]
     },
     "execution_count": 69,
     "metadata": {},
     "output_type": "execute_result"
    }
   ],
   "source": [
    "# feature names from after preprocessing step in the pipeline \n",
    "feature_names = np.array(ohe_feature_names)\n",
    "\n",
    "# Remove 'onehot__' and 'remainder__' prefixes\n",
    "feature_names = [name.replace('onehot__', '').replace('remainder__', '') for name in feature_names]\n",
    "\n",
    "Feature_Imp_df = pd.DataFrame({\n",
    "    'Feature': feature_names,   \n",
    "    'Importance': feature_imp_value    \n",
    "}).sort_values(by='Importance', ascending=False).reset_index(drop=True)   # sorting in descending order\n",
    "\n",
    "Feature_Imp_df"
   ]
  },
  {
   "cell_type": "code",
   "execution_count": 70,
   "id": "f6a98ec8-1d0c-40bd-b40a-a517fe5e38f6",
   "metadata": {},
   "outputs": [
    {
     "data": {
      "image/png": "[encoded data removed]",
      "text/plain": [
       "<Figure size 1000x600 with 1 Axes>"
      ]
     },
     "metadata": {},
     "output_type": "display_data"
    }
   ],
   "source": [
    "plt.figure(figsize=(10, 6))\n",
    "sns.barplot(data=Feature_Imp_df, x='Importance', y='Feature', color='royalblue')\n",
    "plt.title('Feature Importances')\n",
    "plt.xlabel('Importance')\n",
    "plt.ylabel('Feature')\n",
    "plt.tight_layout()\n",
    "plt.show()"
   ]
  },
  {
   "cell_type": "markdown",
   "id": "89ee0966-644b-4ca9-afba-4932f1e6df73",
   "metadata": {},
   "source": [
    "## **5. XG Boost Model**"
   ]
  },
  {
   "cell_type": "markdown",
   "id": "63629ad0-f90b-4849-88bf-8f267cd7649f",
   "metadata": {},
   "source": [
    "### 5.1. Train the model in Pipeline"
   ]
  },
  {
   "cell_type": "code",
   "execution_count": 71,
   "id": "5fc1e404-63f5-4d35-870e-26b82f61bc18",
   "metadata": {
    "colab": {
     "base_uri": "https://localhost:8080/",
     "height": 248
    },
    "executionInfo": {
     "elapsed": 486,
     "status": "ok",
     "timestamp": 1709813992857,
     "user": {
      "displayName": "Dipanjan “DJ” Sarkar",
      "userId": "05135987707016476934"
     },
     "user_tz": -60
    },
    "id": "3YDKSEcBJqTE",
    "outputId": "541fc9f9-d6f4-44c6-82e6-7e77d52a9a37"
   },
   "outputs": [
    {
     "data": {
      "text/html": [
       "<style>#sk-container-id-3 {color: black;background-color: white;}#sk-container-id-3 pre{padding: 0;}#sk-container-id-3 div.sk-toggleable {background-color: white;}#sk-container-id-3 label.sk-toggleable__label {cursor: pointer;display: block;width: 100%;margin-bottom: 0;padding: 0.3em;box-sizing: border-box;text-align: center;}#sk-container-id-3 label.sk-toggleable__label-arrow:before {content: \"▸\";float: left;margin-right: 0.25em;color: #696969;}#sk-container-id-3 label.sk-toggleable__label-arrow:hover:before {color: black;}#sk-container-id-3 div.sk-estimator:hover label.sk-toggleable__label-arrow:before {color: black;}#sk-container-id-3 div.sk-toggleable__content {max-height: 0;max-width: 0;overflow: hidden;text-align: left;background-color: #f0f8ff;}#sk-container-id-3 div.sk-toggleable__content pre {margin: 0.2em;color: black;border-radius: 0.25em;background-color: #f0f8ff;}#sk-container-id-3 input.sk-toggleable__control:checked~div.sk-toggleable__content {max-height: 200px;max-width: 100%;overflow: auto;}#sk-container-id-3 input.sk-toggleable__control:checked~label.sk-toggleable__label-arrow:before {content: \"▾\";}#sk-container-id-3 div.sk-estimator input.sk-toggleable__control:checked~label.sk-toggleable__label {background-color: #d4ebff;}#sk-container-id-3 div.sk-label input.sk-toggleable__control:checked~label.sk-toggleable__label {background-color: #d4ebff;}#sk-container-id-3 input.sk-hidden--visually {border: 0;clip: rect(1px 1px 1px 1px);clip: rect(1px, 1px, 1px, 1px);height: 1px;margin: -1px;overflow: hidden;padding: 0;position: absolute;width: 1px;}#sk-container-id-3 div.sk-estimator {font-family: monospace;background-color: #f0f8ff;border: 1px dotted black;border-radius: 0.25em;box-sizing: border-box;margin-bottom: 0.5em;}#sk-container-id-3 div.sk-estimator:hover {background-color: #d4ebff;}#sk-container-id-3 div.sk-parallel-item::after {content: \"\";width: 100%;border-bottom: 1px solid gray;flex-grow: 1;}#sk-container-id-3 div.sk-label:hover label.sk-toggleable__label {background-color: #d4ebff;}#sk-container-id-3 div.sk-serial::before {content: \"\";position: absolute;border-left: 1px solid gray;box-sizing: border-box;top: 0;bottom: 0;left: 50%;z-index: 0;}#sk-container-id-3 div.sk-serial {display: flex;flex-direction: column;align-items: center;background-color: white;padding-right: 0.2em;padding-left: 0.2em;position: relative;}#sk-container-id-3 div.sk-item {position: relative;z-index: 1;}#sk-container-id-3 div.sk-parallel {display: flex;align-items: stretch;justify-content: center;background-color: white;position: relative;}#sk-container-id-3 div.sk-item::before, #sk-container-id-3 div.sk-parallel-item::before {content: \"\";position: absolute;border-left: 1px solid gray;box-sizing: border-box;top: 0;bottom: 0;left: 50%;z-index: -1;}#sk-container-id-3 div.sk-parallel-item {display: flex;flex-direction: column;z-index: 1;position: relative;background-color: white;}#sk-container-id-3 div.sk-parallel-item:first-child::after {align-self: flex-end;width: 50%;}#sk-container-id-3 div.sk-parallel-item:last-child::after {align-self: flex-start;width: 50%;}#sk-container-id-3 div.sk-parallel-item:only-child::after {width: 0;}#sk-container-id-3 div.sk-dashed-wrapped {border: 1px dashed gray;margin: 0 0.4em 0.5em 0.4em;box-sizing: border-box;padding-bottom: 0.4em;background-color: white;}#sk-container-id-3 div.sk-label label {font-family: monospace;font-weight: bold;display: inline-block;line-height: 1.2em;}#sk-container-id-3 div.sk-label-container {text-align: center;}#sk-container-id-3 div.sk-container {/* jupyter's `normalize.less` sets `[hidden] { display: none; }` but bootstrap.min.css set `[hidden] { display: none !important; }` so we also need the `!important` here to be able to override the default hidden behavior on the sphinx rendered scikit-learn.org. See: https://github.com/scikit-learn/scikit-learn/issues/21755 */display: inline-block !important;position: relative;}#sk-container-id-3 div.sk-text-repr-fallback {display: none;}</style><div id=\"sk-container-id-3\" class=\"sk-top-container\"><div class=\"sk-text-repr-fallback\"><pre>XGBClassifier(base_score=None, booster=None, callbacks=None,\n",
       "              colsample_bylevel=None, colsample_bynode=None,\n",
       "              colsample_bytree=None, device=None, early_stopping_rounds=None,\n",
       "              enable_categorical=False, eval_metric=None, feature_types=None,\n",
       "              gamma=None, grow_policy=None, importance_type=None,\n",
       "              interaction_constraints=None, learning_rate=None, max_bin=None,\n",
       "              max_cat_threshold=None, max_cat_to_onehot=None,\n",
       "              max_delta_step=None, max_depth=None, max_leaves=None,\n",
       "              min_child_weight=None, missing=nan, monotone_constraints=None,\n",
       "              multi_strategy=None, n_estimators=None, n_jobs=None,\n",
       "              num_parallel_tree=None, random_state=3, ...)</pre><b>In a Jupyter environment, please rerun this cell to show the HTML representation or trust the notebook. <br />On GitHub, the HTML representation is unable to render, please try loading this page with nbviewer.org.</b></div><div class=\"sk-container\" hidden><div class=\"sk-item\"><div class=\"sk-estimator sk-toggleable\"><input class=\"sk-toggleable__control sk-hidden--visually\" id=\"sk-estimator-id-10\" type=\"checkbox\" checked><label for=\"sk-estimator-id-10\" class=\"sk-toggleable__label sk-toggleable__label-arrow\">XGBClassifier</label><div class=\"sk-toggleable__content\"><pre>XGBClassifier(base_score=None, booster=None, callbacks=None,\n",
       "              colsample_bylevel=None, colsample_bynode=None,\n",
       "              colsample_bytree=None, device=None, early_stopping_rounds=None,\n",
       "              enable_categorical=False, eval_metric=None, feature_types=None,\n",
       "              gamma=None, grow_policy=None, importance_type=None,\n",
       "              interaction_constraints=None, learning_rate=None, max_bin=None,\n",
       "              max_cat_threshold=None, max_cat_to_onehot=None,\n",
       "              max_delta_step=None, max_depth=None, max_leaves=None,\n",
       "              min_child_weight=None, missing=nan, monotone_constraints=None,\n",
       "              multi_strategy=None, n_estimators=None, n_jobs=None,\n",
       "              num_parallel_tree=None, random_state=3, ...)</pre></div></div></div></div></div>"
      ],
      "text/plain": [
       "XGBClassifier(base_score=None, booster=None, callbacks=None,\n",
       "              colsample_bylevel=None, colsample_bynode=None,\n",
       "              colsample_bytree=None, device=None, early_stopping_rounds=None,\n",
       "              enable_categorical=False, eval_metric=None, feature_types=None,\n",
       "              gamma=None, grow_policy=None, importance_type=None,\n",
       "              interaction_constraints=None, learning_rate=None, max_bin=None,\n",
       "              max_cat_threshold=None, max_cat_to_onehot=None,\n",
       "              max_delta_step=None, max_depth=None, max_leaves=None,\n",
       "              min_child_weight=None, missing=nan, monotone_constraints=None,\n",
       "              multi_strategy=None, n_estimators=None, n_jobs=None,\n",
       "              num_parallel_tree=None, random_state=3, ...)"
      ]
     },
     "execution_count": 71,
     "metadata": {},
     "output_type": "execute_result"
    }
   ],
   "source": [
    "xgb = XGBClassifier(random_state=3)\n",
    "xgb"
   ]
  },
  {
   "cell_type": "code",
   "execution_count": 72,
   "id": "dbc25e30-2949-4f2d-9b7f-98e504bbeafd",
   "metadata": {
    "colab": {
     "base_uri": "https://localhost:8080/"
    },
    "executionInfo": {
     "elapsed": 627,
     "status": "ok",
     "timestamp": 1709813997336,
     "user": {
      "displayName": "Dipanjan “DJ” Sarkar",
      "userId": "05135987707016476934"
     },
     "user_tz": -60
    },
    "id": "TSkFe9fl2LId",
    "outputId": "156c528a-62a4-40d2-d089-84d594e450b4"
   },
   "outputs": [
    {
     "data": {
      "text/plain": [
       "{'objective': 'binary:logistic',\n",
       " 'base_score': None,\n",
       " 'booster': None,\n",
       " 'callbacks': None,\n",
       " 'colsample_bylevel': None,\n",
       " 'colsample_bynode': None,\n",
       " 'colsample_bytree': None,\n",
       " 'device': None,\n",
       " 'early_stopping_rounds': None,\n",
       " 'enable_categorical': False,\n",
       " 'eval_metric': None,\n",
       " 'feature_types': None,\n",
       " 'gamma': None,\n",
       " 'grow_policy': None,\n",
       " 'importance_type': None,\n",
       " 'interaction_constraints': None,\n",
       " 'learning_rate': None,\n",
       " 'max_bin': None,\n",
       " 'max_cat_threshold': None,\n",
       " 'max_cat_to_onehot': None,\n",
       " 'max_delta_step': None,\n",
       " 'max_depth': None,\n",
       " 'max_leaves': None,\n",
       " 'min_child_weight': None,\n",
       " 'missing': nan,\n",
       " 'monotone_constraints': None,\n",
       " 'multi_strategy': None,\n",
       " 'n_estimators': None,\n",
       " 'n_jobs': None,\n",
       " 'num_parallel_tree': None,\n",
       " 'random_state': 3,\n",
       " 'reg_alpha': None,\n",
       " 'reg_lambda': None,\n",
       " 'sampling_method': None,\n",
       " 'scale_pos_weight': None,\n",
       " 'subsample': None,\n",
       " 'tree_method': None,\n",
       " 'validate_parameters': None,\n",
       " 'verbosity': None}"
      ]
     },
     "execution_count": 72,
     "metadata": {},
     "output_type": "execute_result"
    }
   ],
   "source": [
    "xgb.get_params()"
   ]
  },
  {
   "cell_type": "code",
   "execution_count": 143,
   "id": "9c48e1f7-ef9d-414f-b51f-87be9c663887",
   "metadata": {},
   "outputs": [],
   "source": [
    "#xgb = XGBClassifier(n_estimators=500, subsample=0.75 , colsample_bytree=0.5, random_state=3)\n",
    "# lambda: L2 regularization term on weights. Higher values increase the regularization.\n",
    "# alpha: L1 regularization term on weights. Higher values increase the regularization.\n",
    "# subsample: percentage of rows used for each tree construction.\n",
    "# colsample_bytree: percentage of columns used for each tree construction. \n",
    "\n",
    "xgb = XGBClassifier(n_estimators=100,\n",
    "                    max_depth=3, \n",
    "                    subsample=0.5 , \n",
    "                    colsample_bynode=0.4, \n",
    "                    learning_rate=0.01,\n",
    "                    random_state=3)\n",
    "\n",
    "pipeline_xgb = Pipeline([(\"col_transformer\", preprocessor_treebased),\n",
    "                         (\"smote\", SMOTE(random_state=42)),  # Step 2: SMOTE for handling class imbalance\n",
    "                         (\"model\", xgb)])\n",
    "# train the model\n",
    "pipeline_xgb.fit(X_train, y_train)\n",
    "y_pred = pipeline_xgb.predict(X_test)"
   ]
  },
  {
   "cell_type": "markdown",
   "id": "ce144cd4-123b-4c3e-b036-320edb038ed3",
   "metadata": {},
   "source": [
    "### 5.2. Confusion Matrix & Classification Report"
   ]
  },
  {
   "cell_type": "code",
   "execution_count": 144,
   "id": "10370b37-2150-4f40-b91a-fac3782067cb",
   "metadata": {},
   "outputs": [
    {
     "name": "stdout",
     "output_type": "stream",
     "text": [
      "----------------------------------------------------------------------\n",
      "\n",
      "XGBoost Results:\n",
      "----------------------------------------------------------------------\n",
      "XGBoost F1_score(weighted): 0.78\n",
      "\n",
      "XGBoost Classification Report:\n",
      "              precision    recall  f1-score   support\n",
      "\n",
      "           0       0.90      0.77      0.83       439\n",
      "           1       0.55      0.75      0.63       159\n",
      "\n",
      "    accuracy                           0.77       598\n",
      "   macro avg       0.72      0.76      0.73       598\n",
      "weighted avg       0.80      0.77      0.78       598\n",
      "\n",
      "----------------------------------------------------------------------\n"
     ]
    },
    {
     "data": {
      "image/png": "[encoded data removed]",
      "text/plain": [
       "<Figure size 640x480 with 2 Axes>"
      ]
     },
     "metadata": {},
     "output_type": "display_data"
    }
   ],
   "source": [
    "print(\"-\"*70)\n",
    "print(\"\\nXGBoost Results:\")\n",
    "evaluate_model(pipeline_xgb, X_test, y_test, \"XGBoost\")"
   ]
  },
  {
   "cell_type": "code",
   "execution_count": 75,
   "id": "33994b8a-7d41-4510-bcf8-9858deb8144b",
   "metadata": {},
   "outputs": [
    {
     "name": "stdout",
     "output_type": "stream",
     "text": [
      "ROC AUC Score: 0.8369006174696638\n"
     ]
    },
    {
     "data": {
      "image/png": "[encoded data removed]",
      "text/plain": [
       "<Figure size 640x480 with 1 Axes>"
      ]
     },
     "metadata": {},
     "output_type": "display_data"
    }
   ],
   "source": [
    "y_proba = pipeline_xgb.predict_proba(X_test)[:, 1]\n",
    "\n",
    "# Print ROC AUC Score\n",
    "print(\"ROC AUC Score:\", roc_auc_score(y_test, y_proba))\n",
    "\n",
    "# Plotting ROC AUC Curve\n",
    "fpr, tpr, _ = roc_curve(y_test, y_proba)\n",
    "plt.figure()\n",
    "plt.plot(fpr, tpr, color='darkorange', lw=2, label='ROC curve (area = %0.2f)' % roc_auc_score(y_test, y_proba))\n",
    "plt.plot([0, 1], [0, 1], color='navy', lw=2, linestyle='--')\n",
    "plt.xlim([0.0, 1.0])\n",
    "plt.ylim([0.0, 1.05])\n",
    "plt.xlabel('False Positive Rate')\n",
    "plt.ylabel('True Positive Rate')\n",
    "plt.title('Receiver Operating Characteristic')\n",
    "plt.legend(loc=\"lower right\")\n",
    "plt.show()"
   ]
  },
  {
   "cell_type": "markdown",
   "id": "ee5268ec-ab11-41bb-b57c-46932cb1b3fa",
   "metadata": {},
   "source": [
    "### 5.3. Feature Importance"
   ]
  },
  {
   "cell_type": "code",
   "execution_count": 76,
   "id": "060edef1-b068-4fed-903c-2f9d610d687f",
   "metadata": {},
   "outputs": [
    {
     "data": {
      "text/html": [
       "<style>#sk-container-id-4 {color: black;background-color: white;}#sk-container-id-4 pre{padding: 0;}#sk-container-id-4 div.sk-toggleable {background-color: white;}#sk-container-id-4 label.sk-toggleable__label {cursor: pointer;display: block;width: 100%;margin-bottom: 0;padding: 0.3em;box-sizing: border-box;text-align: center;}#sk-container-id-4 label.sk-toggleable__label-arrow:before {content: \"▸\";float: left;margin-right: 0.25em;color: #696969;}#sk-container-id-4 label.sk-toggleable__label-arrow:hover:before {color: black;}#sk-container-id-4 div.sk-estimator:hover label.sk-toggleable__label-arrow:before {color: black;}#sk-container-id-4 div.sk-toggleable__content {max-height: 0;max-width: 0;overflow: hidden;text-align: left;background-color: #f0f8ff;}#sk-container-id-4 div.sk-toggleable__content pre {margin: 0.2em;color: black;border-radius: 0.25em;background-color: #f0f8ff;}#sk-container-id-4 input.sk-toggleable__control:checked~div.sk-toggleable__content {max-height: 200px;max-width: 100%;overflow: auto;}#sk-container-id-4 input.sk-toggleable__control:checked~label.sk-toggleable__label-arrow:before {content: \"▾\";}#sk-container-id-4 div.sk-estimator input.sk-toggleable__control:checked~label.sk-toggleable__label {background-color: #d4ebff;}#sk-container-id-4 div.sk-label input.sk-toggleable__control:checked~label.sk-toggleable__label {background-color: #d4ebff;}#sk-container-id-4 input.sk-hidden--visually {border: 0;clip: rect(1px 1px 1px 1px);clip: rect(1px, 1px, 1px, 1px);height: 1px;margin: -1px;overflow: hidden;padding: 0;position: absolute;width: 1px;}#sk-container-id-4 div.sk-estimator {font-family: monospace;background-color: #f0f8ff;border: 1px dotted black;border-radius: 0.25em;box-sizing: border-box;margin-bottom: 0.5em;}#sk-container-id-4 div.sk-estimator:hover {background-color: #d4ebff;}#sk-container-id-4 div.sk-parallel-item::after {content: \"\";width: 100%;border-bottom: 1px solid gray;flex-grow: 1;}#sk-container-id-4 div.sk-label:hover label.sk-toggleable__label {background-color: #d4ebff;}#sk-container-id-4 div.sk-serial::before {content: \"\";position: absolute;border-left: 1px solid gray;box-sizing: border-box;top: 0;bottom: 0;left: 50%;z-index: 0;}#sk-container-id-4 div.sk-serial {display: flex;flex-direction: column;align-items: center;background-color: white;padding-right: 0.2em;padding-left: 0.2em;position: relative;}#sk-container-id-4 div.sk-item {position: relative;z-index: 1;}#sk-container-id-4 div.sk-parallel {display: flex;align-items: stretch;justify-content: center;background-color: white;position: relative;}#sk-container-id-4 div.sk-item::before, #sk-container-id-4 div.sk-parallel-item::before {content: \"\";position: absolute;border-left: 1px solid gray;box-sizing: border-box;top: 0;bottom: 0;left: 50%;z-index: -1;}#sk-container-id-4 div.sk-parallel-item {display: flex;flex-direction: column;z-index: 1;position: relative;background-color: white;}#sk-container-id-4 div.sk-parallel-item:first-child::after {align-self: flex-end;width: 50%;}#sk-container-id-4 div.sk-parallel-item:last-child::after {align-self: flex-start;width: 50%;}#sk-container-id-4 div.sk-parallel-item:only-child::after {width: 0;}#sk-container-id-4 div.sk-dashed-wrapped {border: 1px dashed gray;margin: 0 0.4em 0.5em 0.4em;box-sizing: border-box;padding-bottom: 0.4em;background-color: white;}#sk-container-id-4 div.sk-label label {font-family: monospace;font-weight: bold;display: inline-block;line-height: 1.2em;}#sk-container-id-4 div.sk-label-container {text-align: center;}#sk-container-id-4 div.sk-container {/* jupyter's `normalize.less` sets `[hidden] { display: none; }` but bootstrap.min.css set `[hidden] { display: none !important; }` so we also need the `!important` here to be able to override the default hidden behavior on the sphinx rendered scikit-learn.org. See: https://github.com/scikit-learn/scikit-learn/issues/21755 */display: inline-block !important;position: relative;}#sk-container-id-4 div.sk-text-repr-fallback {display: none;}</style><div id=\"sk-container-id-4\" class=\"sk-top-container\"><div class=\"sk-text-repr-fallback\"><pre>XGBClassifier(base_score=None, booster=None, callbacks=None,\n",
       "              colsample_bylevel=None, colsample_bynode=0.3,\n",
       "              colsample_bytree=None, device=None, early_stopping_rounds=None,\n",
       "              enable_categorical=False, eval_metric=None, feature_types=None,\n",
       "              gamma=None, grow_policy=None, importance_type=None,\n",
       "              interaction_constraints=None, learning_rate=0.001, max_bin=None,\n",
       "              max_cat_threshold=None, max_cat_to_onehot=None,\n",
       "              max_delta_step=None, max_depth=3, max_leaves=None,\n",
       "              min_child_weight=None, missing=nan, monotone_constraints=None,\n",
       "              multi_strategy=None, n_estimators=50, n_jobs=None,\n",
       "              num_parallel_tree=None, random_state=3, ...)</pre><b>In a Jupyter environment, please rerun this cell to show the HTML representation or trust the notebook. <br />On GitHub, the HTML representation is unable to render, please try loading this page with nbviewer.org.</b></div><div class=\"sk-container\" hidden><div class=\"sk-item\"><div class=\"sk-estimator sk-toggleable\"><input class=\"sk-toggleable__control sk-hidden--visually\" id=\"sk-estimator-id-11\" type=\"checkbox\" checked><label for=\"sk-estimator-id-11\" class=\"sk-toggleable__label sk-toggleable__label-arrow\">XGBClassifier</label><div class=\"sk-toggleable__content\"><pre>XGBClassifier(base_score=None, booster=None, callbacks=None,\n",
       "              colsample_bylevel=None, colsample_bynode=0.3,\n",
       "              colsample_bytree=None, device=None, early_stopping_rounds=None,\n",
       "              enable_categorical=False, eval_metric=None, feature_types=None,\n",
       "              gamma=None, grow_policy=None, importance_type=None,\n",
       "              interaction_constraints=None, learning_rate=0.001, max_bin=None,\n",
       "              max_cat_threshold=None, max_cat_to_onehot=None,\n",
       "              max_delta_step=None, max_depth=3, max_leaves=None,\n",
       "              min_child_weight=None, missing=nan, monotone_constraints=None,\n",
       "              multi_strategy=None, n_estimators=50, n_jobs=None,\n",
       "              num_parallel_tree=None, random_state=3, ...)</pre></div></div></div></div></div>"
      ],
      "text/plain": [
       "XGBClassifier(base_score=None, booster=None, callbacks=None,\n",
       "              colsample_bylevel=None, colsample_bynode=0.3,\n",
       "              colsample_bytree=None, device=None, early_stopping_rounds=None,\n",
       "              enable_categorical=False, eval_metric=None, feature_types=None,\n",
       "              gamma=None, grow_policy=None, importance_type=None,\n",
       "              interaction_constraints=None, learning_rate=0.001, max_bin=None,\n",
       "              max_cat_threshold=None, max_cat_to_onehot=None,\n",
       "              max_delta_step=None, max_depth=3, max_leaves=None,\n",
       "              min_child_weight=None, missing=nan, monotone_constraints=None,\n",
       "              multi_strategy=None, n_estimators=50, n_jobs=None,\n",
       "              num_parallel_tree=None, random_state=3, ...)"
      ]
     },
     "execution_count": 76,
     "metadata": {},
     "output_type": "execute_result"
    }
   ],
   "source": [
    "xgb_model = pipeline_xgb['model']\n",
    "xgb_model"
   ]
  },
  {
   "cell_type": "code",
   "execution_count": 77,
   "id": "c0d2d2f8-e83d-4fcf-a42b-065a69ca39c6",
   "metadata": {},
   "outputs": [
    {
     "data": {
      "text/plain": [
       "array([0.00487288, 0.07862995, 0.06183032, 0.15726987, 0.04988925,\n",
       "       0.13400799, 0.02382415, 0.01728931, 0.07293256, 0.01613295,\n",
       "       0.        , 0.        , 0.03557401, 0.00995662, 0.05828609,\n",
       "       0.02333207, 0.03124113, 0.04604307, 0.01910556, 0.00946625,\n",
       "       0.02520037, 0.00990929, 0.00806128, 0.05858013, 0.01804407,\n",
       "       0.03052086], dtype=float32)"
      ]
     },
     "execution_count": 77,
     "metadata": {},
     "output_type": "execute_result"
    }
   ],
   "source": [
    "# The importance of a feature is computed as the (normalized) total reduction of the criterion brought by that feature. \n",
    "# It is also known as the Gini importance.\n",
    "feature_imp_value = xgb_model.feature_importances_\n",
    "feature_imp_value"
   ]
  },
  {
   "cell_type": "code",
   "execution_count": 78,
   "id": "c58e04f5-807e-4c03-bbf2-d94f8c4564ff",
   "metadata": {},
   "outputs": [
    {
     "data": {
      "text/plain": [
       "array(['onehot__internetservice_DSL',\n",
       "       'onehot__internetservice_Fiber optic',\n",
       "       'onehot__internetservice_No', 'onehot__contract_Month-to-month',\n",
       "       'onehot__contract_One year', 'onehot__contract_Two year',\n",
       "       'onehot__paymentmethod_Bank transfer (automatic)',\n",
       "       'onehot__paymentmethod_Credit card (automatic)',\n",
       "       'onehot__paymentmethod_Electronic check',\n",
       "       'onehot__paymentmethod_Mailed check', 'remainder__gender',\n",
       "       'remainder__seniorcitizen', 'remainder__partner',\n",
       "       'remainder__dependents', 'remainder__tenure',\n",
       "       'remainder__phoneservice', 'remainder__multiplelines',\n",
       "       'remainder__onlinesecurity', 'remainder__onlinebackup',\n",
       "       'remainder__deviceprotection', 'remainder__techsupport',\n",
       "       'remainder__streamingtv', 'remainder__streamingmovies',\n",
       "       'remainder__paperlessbilling', 'remainder__monthlycharges',\n",
       "       'remainder__totalcharges'], dtype=object)"
      ]
     },
     "execution_count": 78,
     "metadata": {},
     "output_type": "execute_result"
    }
   ],
   "source": [
    "# Get the transformed feature names after applying preprocessing step in the pipeline\n",
    "#ohe = pipeline_rfc.named_steps['col_transformer'].named_transformers_['onehot']\n",
    "ohe = pipeline_xgb.named_steps['col_transformer']\n",
    "ohe_feature_names = ohe.get_feature_names_out()\n",
    "ohe_feature_names"
   ]
  },
  {
   "cell_type": "code",
   "execution_count": 79,
   "id": "7b3d6450-0e5a-49d6-84db-8a4af5fe3747",
   "metadata": {},
   "outputs": [
    {
     "data": {
      "text/html": [
       "<div>\n",
       "<style scoped>\n",
       "    .dataframe tbody tr th:only-of-type {\n",
       "        vertical-align: middle;\n",
       "    }\n",
       "\n",
       "    .dataframe tbody tr th {\n",
       "        vertical-align: top;\n",
       "    }\n",
       "\n",
       "    .dataframe thead th {\n",
       "        text-align: right;\n",
       "    }\n",
       "</style>\n",
       "<table border=\"1\" class=\"dataframe\">\n",
       "  <thead>\n",
       "    <tr style=\"text-align: right;\">\n",
       "      <th></th>\n",
       "      <th>Feature</th>\n",
       "      <th>Importance</th>\n",
       "    </tr>\n",
       "  </thead>\n",
       "  <tbody>\n",
       "    <tr>\n",
       "      <th>0</th>\n",
       "      <td>contract_Month-to-month</td>\n",
       "      <td>0.157270</td>\n",
       "    </tr>\n",
       "    <tr>\n",
       "      <th>1</th>\n",
       "      <td>contract_Two year</td>\n",
       "      <td>0.134008</td>\n",
       "    </tr>\n",
       "    <tr>\n",
       "      <th>2</th>\n",
       "      <td>internetservice_Fiber optic</td>\n",
       "      <td>0.078630</td>\n",
       "    </tr>\n",
       "    <tr>\n",
       "      <th>3</th>\n",
       "      <td>paymentmethod_Electronic check</td>\n",
       "      <td>0.072933</td>\n",
       "    </tr>\n",
       "    <tr>\n",
       "      <th>4</th>\n",
       "      <td>internetservice_No</td>\n",
       "      <td>0.061830</td>\n",
       "    </tr>\n",
       "    <tr>\n",
       "      <th>5</th>\n",
       "      <td>paperlessbilling</td>\n",
       "      <td>0.058580</td>\n",
       "    </tr>\n",
       "    <tr>\n",
       "      <th>6</th>\n",
       "      <td>tenure</td>\n",
       "      <td>0.058286</td>\n",
       "    </tr>\n",
       "    <tr>\n",
       "      <th>7</th>\n",
       "      <td>contract_One year</td>\n",
       "      <td>0.049889</td>\n",
       "    </tr>\n",
       "    <tr>\n",
       "      <th>8</th>\n",
       "      <td>onlinesecurity</td>\n",
       "      <td>0.046043</td>\n",
       "    </tr>\n",
       "    <tr>\n",
       "      <th>9</th>\n",
       "      <td>partner</td>\n",
       "      <td>0.035574</td>\n",
       "    </tr>\n",
       "    <tr>\n",
       "      <th>10</th>\n",
       "      <td>multiplelines</td>\n",
       "      <td>0.031241</td>\n",
       "    </tr>\n",
       "    <tr>\n",
       "      <th>11</th>\n",
       "      <td>totalcharges</td>\n",
       "      <td>0.030521</td>\n",
       "    </tr>\n",
       "    <tr>\n",
       "      <th>12</th>\n",
       "      <td>techsupport</td>\n",
       "      <td>0.025200</td>\n",
       "    </tr>\n",
       "    <tr>\n",
       "      <th>13</th>\n",
       "      <td>paymentmethod_Bank transfer (automatic)</td>\n",
       "      <td>0.023824</td>\n",
       "    </tr>\n",
       "    <tr>\n",
       "      <th>14</th>\n",
       "      <td>phoneservice</td>\n",
       "      <td>0.023332</td>\n",
       "    </tr>\n",
       "    <tr>\n",
       "      <th>15</th>\n",
       "      <td>onlinebackup</td>\n",
       "      <td>0.019106</td>\n",
       "    </tr>\n",
       "    <tr>\n",
       "      <th>16</th>\n",
       "      <td>monthlycharges</td>\n",
       "      <td>0.018044</td>\n",
       "    </tr>\n",
       "    <tr>\n",
       "      <th>17</th>\n",
       "      <td>paymentmethod_Credit card (automatic)</td>\n",
       "      <td>0.017289</td>\n",
       "    </tr>\n",
       "    <tr>\n",
       "      <th>18</th>\n",
       "      <td>paymentmethod_Mailed check</td>\n",
       "      <td>0.016133</td>\n",
       "    </tr>\n",
       "    <tr>\n",
       "      <th>19</th>\n",
       "      <td>dependents</td>\n",
       "      <td>0.009957</td>\n",
       "    </tr>\n",
       "    <tr>\n",
       "      <th>20</th>\n",
       "      <td>streamingtv</td>\n",
       "      <td>0.009909</td>\n",
       "    </tr>\n",
       "    <tr>\n",
       "      <th>21</th>\n",
       "      <td>deviceprotection</td>\n",
       "      <td>0.009466</td>\n",
       "    </tr>\n",
       "    <tr>\n",
       "      <th>22</th>\n",
       "      <td>streamingmovies</td>\n",
       "      <td>0.008061</td>\n",
       "    </tr>\n",
       "    <tr>\n",
       "      <th>23</th>\n",
       "      <td>internetservice_DSL</td>\n",
       "      <td>0.004873</td>\n",
       "    </tr>\n",
       "    <tr>\n",
       "      <th>24</th>\n",
       "      <td>seniorcitizen</td>\n",
       "      <td>0.000000</td>\n",
       "    </tr>\n",
       "    <tr>\n",
       "      <th>25</th>\n",
       "      <td>gender</td>\n",
       "      <td>0.000000</td>\n",
       "    </tr>\n",
       "  </tbody>\n",
       "</table>\n",
       "</div>"
      ],
      "text/plain": [
       "                                    Feature  Importance\n",
       "0                   contract_Month-to-month    0.157270\n",
       "1                         contract_Two year    0.134008\n",
       "2               internetservice_Fiber optic    0.078630\n",
       "3            paymentmethod_Electronic check    0.072933\n",
       "4                        internetservice_No    0.061830\n",
       "5                          paperlessbilling    0.058580\n",
       "6                                    tenure    0.058286\n",
       "7                         contract_One year    0.049889\n",
       "8                            onlinesecurity    0.046043\n",
       "9                                   partner    0.035574\n",
       "10                            multiplelines    0.031241\n",
       "11                             totalcharges    0.030521\n",
       "12                              techsupport    0.025200\n",
       "13  paymentmethod_Bank transfer (automatic)    0.023824\n",
       "14                             phoneservice    0.023332\n",
       "15                             onlinebackup    0.019106\n",
       "16                           monthlycharges    0.018044\n",
       "17    paymentmethod_Credit card (automatic)    0.017289\n",
       "18               paymentmethod_Mailed check    0.016133\n",
       "19                               dependents    0.009957\n",
       "20                              streamingtv    0.009909\n",
       "21                         deviceprotection    0.009466\n",
       "22                          streamingmovies    0.008061\n",
       "23                      internetservice_DSL    0.004873\n",
       "24                            seniorcitizen    0.000000\n",
       "25                                   gender    0.000000"
      ]
     },
     "execution_count": 79,
     "metadata": {},
     "output_type": "execute_result"
    }
   ],
   "source": [
    "# feature names from after preprocessing step in the pipeline \n",
    "feature_names = np.array(ohe_feature_names)\n",
    "\n",
    "# Remove 'onehot__' and 'remainder__' prefixes\n",
    "feature_names = [name.replace('onehot__', '').replace('remainder__', '') for name in feature_names]\n",
    "\n",
    "Feature_Imp_df = pd.DataFrame({\n",
    "    'Feature': feature_names,   \n",
    "    'Importance': feature_imp_value    \n",
    "}).sort_values(by='Importance', ascending=False).reset_index(drop=True)   # sorting in descending order\n",
    "\n",
    "Feature_Imp_df"
   ]
  },
  {
   "cell_type": "code",
   "execution_count": 80,
   "id": "35e1a522-c433-4b7d-b9cc-a0140c838722",
   "metadata": {},
   "outputs": [
    {
     "data": {
      "image/png": "[encoded data removed]",
      "text/plain": [
       "<Figure size 1000x600 with 1 Axes>"
      ]
     },
     "metadata": {},
     "output_type": "display_data"
    }
   ],
   "source": [
    "plt.figure(figsize=(10, 6))\n",
    "sns.barplot(data=Feature_Imp_df, x='Importance', y='Feature', color='royalblue')\n",
    "plt.title('Feature Importances')\n",
    "plt.xlabel('Importance')\n",
    "plt.ylabel('Feature')\n",
    "plt.tight_layout()\n",
    "plt.show()"
   ]
  },
  {
   "cell_type": "markdown",
   "id": "9ab4bed2-300d-4dc8-9edf-b13e6df1e7f4",
   "metadata": {},
   "source": [
    "## **6. Logistic Regression Model**"
   ]
  },
  {
   "cell_type": "markdown",
   "id": "7a09f095-c9a8-4291-b305-79274f569818",
   "metadata": {},
   "source": [
    "### 6.1. Train the model in Pipeline"
   ]
  },
  {
   "cell_type": "code",
   "execution_count": 81,
   "id": "4998f710-56c4-4db2-9fef-a648c2835ce8",
   "metadata": {},
   "outputs": [],
   "source": [
    "lr = LogisticRegression(max_iter=1000, random_state=3)\n",
    "#lr = LogisticRegression(class_weight={0:1,1:200},solver='sag', max_iter=5000,random_state=3)"
   ]
  },
  {
   "cell_type": "code",
   "execution_count": 82,
   "id": "2815ea7a-88cb-4ae3-b2c7-b9096f43bb4c",
   "metadata": {},
   "outputs": [],
   "source": [
    "from imblearn.pipeline import Pipeline  # Import from imblearn for SMOTE support\n",
    "\n",
    "numerical_cols = ['tenure', 'monthlycharges', 'totalcharges']\n",
    "categorical_cols = ['internetservice','contract','paymentmethod']\n",
    "\n",
    "# Preprocessing pipeline\n",
    "preprocessor_lr = ColumnTransformer([\n",
    "        ('num', StandardScaler(), numerical_cols),\n",
    "        ('onehot', OneHotEncoder(handle_unknown='ignore', sparse_output=False), categorical_cols)  # Apply OneHotEncoder to other categorical cols\n",
    "    ],\n",
    "    remainder='passthrough'  # Keep other columns as-is\n",
    ")\n",
    "\n",
    "pipeline_lr = Pipeline([(\"col_transformer\", preprocessor_lr),\n",
    "                         (\"smote\", SMOTE(random_state=3)),  # Step 2: SMOTE for handling class imbalance\n",
    "                         (\"model\", lr)])"
   ]
  },
  {
   "cell_type": "code",
   "execution_count": 83,
   "id": "c2f140d4-2471-401b-ae23-386b821ea031",
   "metadata": {},
   "outputs": [
    {
     "data": {
      "text/html": [
       "<style>#sk-container-id-5 {color: black;background-color: white;}#sk-container-id-5 pre{padding: 0;}#sk-container-id-5 div.sk-toggleable {background-color: white;}#sk-container-id-5 label.sk-toggleable__label {cursor: pointer;display: block;width: 100%;margin-bottom: 0;padding: 0.3em;box-sizing: border-box;text-align: center;}#sk-container-id-5 label.sk-toggleable__label-arrow:before {content: \"▸\";float: left;margin-right: 0.25em;color: #696969;}#sk-container-id-5 label.sk-toggleable__label-arrow:hover:before {color: black;}#sk-container-id-5 div.sk-estimator:hover label.sk-toggleable__label-arrow:before {color: black;}#sk-container-id-5 div.sk-toggleable__content {max-height: 0;max-width: 0;overflow: hidden;text-align: left;background-color: #f0f8ff;}#sk-container-id-5 div.sk-toggleable__content pre {margin: 0.2em;color: black;border-radius: 0.25em;background-color: #f0f8ff;}#sk-container-id-5 input.sk-toggleable__control:checked~div.sk-toggleable__content {max-height: 200px;max-width: 100%;overflow: auto;}#sk-container-id-5 input.sk-toggleable__control:checked~label.sk-toggleable__label-arrow:before {content: \"▾\";}#sk-container-id-5 div.sk-estimator input.sk-toggleable__control:checked~label.sk-toggleable__label {background-color: #d4ebff;}#sk-container-id-5 div.sk-label input.sk-toggleable__control:checked~label.sk-toggleable__label {background-color: #d4ebff;}#sk-container-id-5 input.sk-hidden--visually {border: 0;clip: rect(1px 1px 1px 1px);clip: rect(1px, 1px, 1px, 1px);height: 1px;margin: -1px;overflow: hidden;padding: 0;position: absolute;width: 1px;}#sk-container-id-5 div.sk-estimator {font-family: monospace;background-color: #f0f8ff;border: 1px dotted black;border-radius: 0.25em;box-sizing: border-box;margin-bottom: 0.5em;}#sk-container-id-5 div.sk-estimator:hover {background-color: #d4ebff;}#sk-container-id-5 div.sk-parallel-item::after {content: \"\";width: 100%;border-bottom: 1px solid gray;flex-grow: 1;}#sk-container-id-5 div.sk-label:hover label.sk-toggleable__label {background-color: #d4ebff;}#sk-container-id-5 div.sk-serial::before {content: \"\";position: absolute;border-left: 1px solid gray;box-sizing: border-box;top: 0;bottom: 0;left: 50%;z-index: 0;}#sk-container-id-5 div.sk-serial {display: flex;flex-direction: column;align-items: center;background-color: white;padding-right: 0.2em;padding-left: 0.2em;position: relative;}#sk-container-id-5 div.sk-item {position: relative;z-index: 1;}#sk-container-id-5 div.sk-parallel {display: flex;align-items: stretch;justify-content: center;background-color: white;position: relative;}#sk-container-id-5 div.sk-item::before, #sk-container-id-5 div.sk-parallel-item::before {content: \"\";position: absolute;border-left: 1px solid gray;box-sizing: border-box;top: 0;bottom: 0;left: 50%;z-index: -1;}#sk-container-id-5 div.sk-parallel-item {display: flex;flex-direction: column;z-index: 1;position: relative;background-color: white;}#sk-container-id-5 div.sk-parallel-item:first-child::after {align-self: flex-end;width: 50%;}#sk-container-id-5 div.sk-parallel-item:last-child::after {align-self: flex-start;width: 50%;}#sk-container-id-5 div.sk-parallel-item:only-child::after {width: 0;}#sk-container-id-5 div.sk-dashed-wrapped {border: 1px dashed gray;margin: 0 0.4em 0.5em 0.4em;box-sizing: border-box;padding-bottom: 0.4em;background-color: white;}#sk-container-id-5 div.sk-label label {font-family: monospace;font-weight: bold;display: inline-block;line-height: 1.2em;}#sk-container-id-5 div.sk-label-container {text-align: center;}#sk-container-id-5 div.sk-container {/* jupyter's `normalize.less` sets `[hidden] { display: none; }` but bootstrap.min.css set `[hidden] { display: none !important; }` so we also need the `!important` here to be able to override the default hidden behavior on the sphinx rendered scikit-learn.org. See: https://github.com/scikit-learn/scikit-learn/issues/21755 */display: inline-block !important;position: relative;}#sk-container-id-5 div.sk-text-repr-fallback {display: none;}</style><div id=\"sk-container-id-5\" class=\"sk-top-container\"><div class=\"sk-text-repr-fallback\"><pre>Pipeline(steps=[(&#x27;col_transformer&#x27;,\n",
       "                 ColumnTransformer(remainder=&#x27;passthrough&#x27;,\n",
       "                                   transformers=[(&#x27;num&#x27;, StandardScaler(),\n",
       "                                                  [&#x27;tenure&#x27;, &#x27;monthlycharges&#x27;,\n",
       "                                                   &#x27;totalcharges&#x27;]),\n",
       "                                                 (&#x27;onehot&#x27;,\n",
       "                                                  OneHotEncoder(handle_unknown=&#x27;ignore&#x27;,\n",
       "                                                                sparse_output=False),\n",
       "                                                  [&#x27;internetservice&#x27;,\n",
       "                                                   &#x27;contract&#x27;,\n",
       "                                                   &#x27;paymentmethod&#x27;])])),\n",
       "                (&#x27;smote&#x27;, SMOTE(random_state=3)),\n",
       "                (&#x27;model&#x27;, LogisticRegression(max_iter=1000, random_state=3))])</pre><b>In a Jupyter environment, please rerun this cell to show the HTML representation or trust the notebook. <br />On GitHub, the HTML representation is unable to render, please try loading this page with nbviewer.org.</b></div><div class=\"sk-container\" hidden><div class=\"sk-item sk-dashed-wrapped\"><div class=\"sk-label-container\"><div class=\"sk-label sk-toggleable\"><input class=\"sk-toggleable__control sk-hidden--visually\" id=\"sk-estimator-id-12\" type=\"checkbox\" ><label for=\"sk-estimator-id-12\" class=\"sk-toggleable__label sk-toggleable__label-arrow\">Pipeline</label><div class=\"sk-toggleable__content\"><pre>Pipeline(steps=[(&#x27;col_transformer&#x27;,\n",
       "                 ColumnTransformer(remainder=&#x27;passthrough&#x27;,\n",
       "                                   transformers=[(&#x27;num&#x27;, StandardScaler(),\n",
       "                                                  [&#x27;tenure&#x27;, &#x27;monthlycharges&#x27;,\n",
       "                                                   &#x27;totalcharges&#x27;]),\n",
       "                                                 (&#x27;onehot&#x27;,\n",
       "                                                  OneHotEncoder(handle_unknown=&#x27;ignore&#x27;,\n",
       "                                                                sparse_output=False),\n",
       "                                                  [&#x27;internetservice&#x27;,\n",
       "                                                   &#x27;contract&#x27;,\n",
       "                                                   &#x27;paymentmethod&#x27;])])),\n",
       "                (&#x27;smote&#x27;, SMOTE(random_state=3)),\n",
       "                (&#x27;model&#x27;, LogisticRegression(max_iter=1000, random_state=3))])</pre></div></div></div><div class=\"sk-serial\"><div class=\"sk-item sk-dashed-wrapped\"><div class=\"sk-label-container\"><div class=\"sk-label sk-toggleable\"><input class=\"sk-toggleable__control sk-hidden--visually\" id=\"sk-estimator-id-13\" type=\"checkbox\" ><label for=\"sk-estimator-id-13\" class=\"sk-toggleable__label sk-toggleable__label-arrow\">col_transformer: ColumnTransformer</label><div class=\"sk-toggleable__content\"><pre>ColumnTransformer(remainder=&#x27;passthrough&#x27;,\n",
       "                  transformers=[(&#x27;num&#x27;, StandardScaler(),\n",
       "                                 [&#x27;tenure&#x27;, &#x27;monthlycharges&#x27;, &#x27;totalcharges&#x27;]),\n",
       "                                (&#x27;onehot&#x27;,\n",
       "                                 OneHotEncoder(handle_unknown=&#x27;ignore&#x27;,\n",
       "                                               sparse_output=False),\n",
       "                                 [&#x27;internetservice&#x27;, &#x27;contract&#x27;,\n",
       "                                  &#x27;paymentmethod&#x27;])])</pre></div></div></div><div class=\"sk-parallel\"><div class=\"sk-parallel-item\"><div class=\"sk-item\"><div class=\"sk-label-container\"><div class=\"sk-label sk-toggleable\"><input class=\"sk-toggleable__control sk-hidden--visually\" id=\"sk-estimator-id-14\" type=\"checkbox\" ><label for=\"sk-estimator-id-14\" class=\"sk-toggleable__label sk-toggleable__label-arrow\">num</label><div class=\"sk-toggleable__content\"><pre>[&#x27;tenure&#x27;, &#x27;monthlycharges&#x27;, &#x27;totalcharges&#x27;]</pre></div></div></div><div class=\"sk-serial\"><div class=\"sk-item\"><div class=\"sk-estimator sk-toggleable\"><input class=\"sk-toggleable__control sk-hidden--visually\" id=\"sk-estimator-id-15\" type=\"checkbox\" ><label for=\"sk-estimator-id-15\" class=\"sk-toggleable__label sk-toggleable__label-arrow\">StandardScaler</label><div class=\"sk-toggleable__content\"><pre>StandardScaler()</pre></div></div></div></div></div></div><div class=\"sk-parallel-item\"><div class=\"sk-item\"><div class=\"sk-label-container\"><div class=\"sk-label sk-toggleable\"><input class=\"sk-toggleable__control sk-hidden--visually\" id=\"sk-estimator-id-16\" type=\"checkbox\" ><label for=\"sk-estimator-id-16\" class=\"sk-toggleable__label sk-toggleable__label-arrow\">onehot</label><div class=\"sk-toggleable__content\"><pre>[&#x27;internetservice&#x27;, &#x27;contract&#x27;, &#x27;paymentmethod&#x27;]</pre></div></div></div><div class=\"sk-serial\"><div class=\"sk-item\"><div class=\"sk-estimator sk-toggleable\"><input class=\"sk-toggleable__control sk-hidden--visually\" id=\"sk-estimator-id-17\" type=\"checkbox\" ><label for=\"sk-estimator-id-17\" class=\"sk-toggleable__label sk-toggleable__label-arrow\">OneHotEncoder</label><div class=\"sk-toggleable__content\"><pre>OneHotEncoder(handle_unknown=&#x27;ignore&#x27;, sparse_output=False)</pre></div></div></div></div></div></div><div class=\"sk-parallel-item\"><div class=\"sk-item\"><div class=\"sk-label-container\"><div class=\"sk-label sk-toggleable\"><input class=\"sk-toggleable__control sk-hidden--visually\" id=\"sk-estimator-id-18\" type=\"checkbox\" ><label for=\"sk-estimator-id-18\" class=\"sk-toggleable__label sk-toggleable__label-arrow\">remainder</label><div class=\"sk-toggleable__content\"><pre>[&#x27;gender&#x27;, &#x27;seniorcitizen&#x27;, &#x27;partner&#x27;, &#x27;dependents&#x27;, &#x27;phoneservice&#x27;, &#x27;multiplelines&#x27;, &#x27;onlinesecurity&#x27;, &#x27;onlinebackup&#x27;, &#x27;deviceprotection&#x27;, &#x27;techsupport&#x27;, &#x27;streamingtv&#x27;, &#x27;streamingmovies&#x27;, &#x27;paperlessbilling&#x27;]</pre></div></div></div><div class=\"sk-serial\"><div class=\"sk-item\"><div class=\"sk-estimator sk-toggleable\"><input class=\"sk-toggleable__control sk-hidden--visually\" id=\"sk-estimator-id-19\" type=\"checkbox\" ><label for=\"sk-estimator-id-19\" class=\"sk-toggleable__label sk-toggleable__label-arrow\">passthrough</label><div class=\"sk-toggleable__content\"><pre>passthrough</pre></div></div></div></div></div></div></div></div><div class=\"sk-item\"><div class=\"sk-estimator sk-toggleable\"><input class=\"sk-toggleable__control sk-hidden--visually\" id=\"sk-estimator-id-20\" type=\"checkbox\" ><label for=\"sk-estimator-id-20\" class=\"sk-toggleable__label sk-toggleable__label-arrow\">SMOTE</label><div class=\"sk-toggleable__content\"><pre>SMOTE(random_state=3)</pre></div></div></div><div class=\"sk-item\"><div class=\"sk-estimator sk-toggleable\"><input class=\"sk-toggleable__control sk-hidden--visually\" id=\"sk-estimator-id-21\" type=\"checkbox\" ><label for=\"sk-estimator-id-21\" class=\"sk-toggleable__label sk-toggleable__label-arrow\">LogisticRegression</label><div class=\"sk-toggleable__content\"><pre>LogisticRegression(max_iter=1000, random_state=3)</pre></div></div></div></div></div></div></div>"
      ],
      "text/plain": [
       "Pipeline(steps=[('col_transformer',\n",
       "                 ColumnTransformer(remainder='passthrough',\n",
       "                                   transformers=[('num', StandardScaler(),\n",
       "                                                  ['tenure', 'monthlycharges',\n",
       "                                                   'totalcharges']),\n",
       "                                                 ('onehot',\n",
       "                                                  OneHotEncoder(handle_unknown='ignore',\n",
       "                                                                sparse_output=False),\n",
       "                                                  ['internetservice',\n",
       "                                                   'contract',\n",
       "                                                   'paymentmethod'])])),\n",
       "                ('smote', SMOTE(random_state=3)),\n",
       "                ('model', LogisticRegression(max_iter=1000, random_state=3))])"
      ]
     },
     "execution_count": 83,
     "metadata": {},
     "output_type": "execute_result"
    }
   ],
   "source": [
    "pipeline_lr.fit(X_train,y_train)"
   ]
  },
  {
   "cell_type": "code",
   "execution_count": 84,
   "id": "88d81e73-b23a-4e7e-9c83-514dfb246b9d",
   "metadata": {},
   "outputs": [],
   "source": [
    "y_pred = pipeline_lr.predict(X_test)"
   ]
  },
  {
   "cell_type": "markdown",
   "id": "b7a764e5-5583-4926-9d68-669394ef5578",
   "metadata": {},
   "source": [
    "### 6.2. Confusion Matrix & Classification Report"
   ]
  },
  {
   "cell_type": "code",
   "execution_count": 85,
   "id": "d1247217-ee29-44b6-ac11-647fc75d8628",
   "metadata": {},
   "outputs": [
    {
     "name": "stdout",
     "output_type": "stream",
     "text": [
      "----------------------------------------------------------------------\n",
      "\\Logistic Regression Results:\n",
      "----------------------------------------------------------------------\n",
      "Logistic Regression F1_score(weighted): 0.76\n",
      "\n",
      "Logistic Regression Classification Report:\n",
      "              precision    recall  f1-score   support\n",
      "\n",
      "           0       0.90      0.75      0.82       439\n",
      "           1       0.52      0.77      0.62       159\n",
      "\n",
      "    accuracy                           0.75       598\n",
      "   macro avg       0.71      0.76      0.72       598\n",
      "weighted avg       0.80      0.75      0.76       598\n",
      "\n",
      "----------------------------------------------------------------------\n"
     ]
    },
    {
     "data": {
      "image/png": "[encoded data removed]",
      "text/plain": [
       "<Figure size 640x480 with 2 Axes>"
      ]
     },
     "metadata": {},
     "output_type": "display_data"
    }
   ],
   "source": [
    "print(\"-\"*70)\n",
    "print(\"\\Logistic Regression Results:\")\n",
    "evaluate_model(pipeline_lr, X_test, y_test, \"Logistic Regression\")"
   ]
  },
  {
   "cell_type": "code",
   "execution_count": 86,
   "id": "6d3cb4be-7942-4465-b447-6e1e0228e220",
   "metadata": {},
   "outputs": [
    {
     "name": "stdout",
     "output_type": "stream",
     "text": [
      "ROC AUC Score: 0.8340854715548488\n"
     ]
    },
    {
     "data": {
      "image/png": "[encoded data removed]",
      "text/plain": [
       "<Figure size 640x480 with 1 Axes>"
      ]
     },
     "metadata": {},
     "output_type": "display_data"
    }
   ],
   "source": [
    "y_proba = pipeline_lr.predict_proba(X_test)[:, 1]\n",
    "\n",
    "# Print ROC AUC Score\n",
    "print(\"ROC AUC Score:\", roc_auc_score(y_test, y_proba))\n",
    "\n",
    "# Plotting ROC AUC Curve\n",
    "fpr, tpr, _ = roc_curve(y_test, y_proba)\n",
    "plt.figure()\n",
    "plt.plot(fpr, tpr, color='darkorange', lw=2, label='ROC curve (area = %0.2f)' % roc_auc_score(y_test, y_proba))\n",
    "plt.plot([0, 1], [0, 1], color='navy', lw=2, linestyle='--')\n",
    "plt.xlim([0.0, 1.0])\n",
    "plt.ylim([0.0, 1.05])\n",
    "plt.xlabel('False Positive Rate')\n",
    "plt.ylabel('True Positive Rate')\n",
    "plt.title('Receiver Operating Characteristic')\n",
    "plt.legend(loc=\"lower right\")\n",
    "plt.show()"
   ]
  },
  {
   "cell_type": "markdown",
   "id": "f82d9234-e7de-4d8f-9a4b-c8808380c88a",
   "metadata": {},
   "source": [
    "### 6.3. Feature Importance"
   ]
  },
  {
   "cell_type": "code",
   "execution_count": 87,
   "id": "a41e37e6-8991-4845-9de1-9bc2bfdbe09f",
   "metadata": {},
   "outputs": [
    {
     "data": {
      "text/html": [
       "<style>#sk-container-id-6 {color: black;background-color: white;}#sk-container-id-6 pre{padding: 0;}#sk-container-id-6 div.sk-toggleable {background-color: white;}#sk-container-id-6 label.sk-toggleable__label {cursor: pointer;display: block;width: 100%;margin-bottom: 0;padding: 0.3em;box-sizing: border-box;text-align: center;}#sk-container-id-6 label.sk-toggleable__label-arrow:before {content: \"▸\";float: left;margin-right: 0.25em;color: #696969;}#sk-container-id-6 label.sk-toggleable__label-arrow:hover:before {color: black;}#sk-container-id-6 div.sk-estimator:hover label.sk-toggleable__label-arrow:before {color: black;}#sk-container-id-6 div.sk-toggleable__content {max-height: 0;max-width: 0;overflow: hidden;text-align: left;background-color: #f0f8ff;}#sk-container-id-6 div.sk-toggleable__content pre {margin: 0.2em;color: black;border-radius: 0.25em;background-color: #f0f8ff;}#sk-container-id-6 input.sk-toggleable__control:checked~div.sk-toggleable__content {max-height: 200px;max-width: 100%;overflow: auto;}#sk-container-id-6 input.sk-toggleable__control:checked~label.sk-toggleable__label-arrow:before {content: \"▾\";}#sk-container-id-6 div.sk-estimator input.sk-toggleable__control:checked~label.sk-toggleable__label {background-color: #d4ebff;}#sk-container-id-6 div.sk-label input.sk-toggleable__control:checked~label.sk-toggleable__label {background-color: #d4ebff;}#sk-container-id-6 input.sk-hidden--visually {border: 0;clip: rect(1px 1px 1px 1px);clip: rect(1px, 1px, 1px, 1px);height: 1px;margin: -1px;overflow: hidden;padding: 0;position: absolute;width: 1px;}#sk-container-id-6 div.sk-estimator {font-family: monospace;background-color: #f0f8ff;border: 1px dotted black;border-radius: 0.25em;box-sizing: border-box;margin-bottom: 0.5em;}#sk-container-id-6 div.sk-estimator:hover {background-color: #d4ebff;}#sk-container-id-6 div.sk-parallel-item::after {content: \"\";width: 100%;border-bottom: 1px solid gray;flex-grow: 1;}#sk-container-id-6 div.sk-label:hover label.sk-toggleable__label {background-color: #d4ebff;}#sk-container-id-6 div.sk-serial::before {content: \"\";position: absolute;border-left: 1px solid gray;box-sizing: border-box;top: 0;bottom: 0;left: 50%;z-index: 0;}#sk-container-id-6 div.sk-serial {display: flex;flex-direction: column;align-items: center;background-color: white;padding-right: 0.2em;padding-left: 0.2em;position: relative;}#sk-container-id-6 div.sk-item {position: relative;z-index: 1;}#sk-container-id-6 div.sk-parallel {display: flex;align-items: stretch;justify-content: center;background-color: white;position: relative;}#sk-container-id-6 div.sk-item::before, #sk-container-id-6 div.sk-parallel-item::before {content: \"\";position: absolute;border-left: 1px solid gray;box-sizing: border-box;top: 0;bottom: 0;left: 50%;z-index: -1;}#sk-container-id-6 div.sk-parallel-item {display: flex;flex-direction: column;z-index: 1;position: relative;background-color: white;}#sk-container-id-6 div.sk-parallel-item:first-child::after {align-self: flex-end;width: 50%;}#sk-container-id-6 div.sk-parallel-item:last-child::after {align-self: flex-start;width: 50%;}#sk-container-id-6 div.sk-parallel-item:only-child::after {width: 0;}#sk-container-id-6 div.sk-dashed-wrapped {border: 1px dashed gray;margin: 0 0.4em 0.5em 0.4em;box-sizing: border-box;padding-bottom: 0.4em;background-color: white;}#sk-container-id-6 div.sk-label label {font-family: monospace;font-weight: bold;display: inline-block;line-height: 1.2em;}#sk-container-id-6 div.sk-label-container {text-align: center;}#sk-container-id-6 div.sk-container {/* jupyter's `normalize.less` sets `[hidden] { display: none; }` but bootstrap.min.css set `[hidden] { display: none !important; }` so we also need the `!important` here to be able to override the default hidden behavior on the sphinx rendered scikit-learn.org. See: https://github.com/scikit-learn/scikit-learn/issues/21755 */display: inline-block !important;position: relative;}#sk-container-id-6 div.sk-text-repr-fallback {display: none;}</style><div id=\"sk-container-id-6\" class=\"sk-top-container\"><div class=\"sk-text-repr-fallback\"><pre>LogisticRegression(max_iter=1000, random_state=3)</pre><b>In a Jupyter environment, please rerun this cell to show the HTML representation or trust the notebook. <br />On GitHub, the HTML representation is unable to render, please try loading this page with nbviewer.org.</b></div><div class=\"sk-container\" hidden><div class=\"sk-item\"><div class=\"sk-estimator sk-toggleable\"><input class=\"sk-toggleable__control sk-hidden--visually\" id=\"sk-estimator-id-22\" type=\"checkbox\" checked><label for=\"sk-estimator-id-22\" class=\"sk-toggleable__label sk-toggleable__label-arrow\">LogisticRegression</label><div class=\"sk-toggleable__content\"><pre>LogisticRegression(max_iter=1000, random_state=3)</pre></div></div></div></div></div>"
      ],
      "text/plain": [
       "LogisticRegression(max_iter=1000, random_state=3)"
      ]
     },
     "execution_count": 87,
     "metadata": {},
     "output_type": "execute_result"
    }
   ],
   "source": [
    "lr_model = pipeline_lr['model']\n",
    "lr_model"
   ]
  },
  {
   "cell_type": "code",
   "execution_count": 88,
   "id": "099a36b8-aa2f-451a-a40a-16526f37ca0d",
   "metadata": {},
   "outputs": [
    {
     "data": {
      "text/plain": [
       "array([[-1.56101519e+00,  5.66858159e-02,  8.93601399e-01,\n",
       "         4.71357062e-02,  6.84064130e-01, -7.27820344e-01,\n",
       "         7.74042670e-01,  7.02147840e-02, -8.40877961e-01,\n",
       "        -4.14382782e-02, -1.76826509e-01,  2.90433583e-01,\n",
       "        -6.87893028e-02, -8.24829422e-02,  1.05993776e-03,\n",
       "         1.53255466e-02, -1.05722489e-01, -6.50332306e-01,\n",
       "         3.13808933e-01, -6.17932290e-01, -2.44018618e-01,\n",
       "        -1.15886522e-01, -4.86974566e-01,  2.17371034e-01,\n",
       "         2.36053958e-01,  4.31199909e-01]])"
      ]
     },
     "execution_count": 88,
     "metadata": {},
     "output_type": "execute_result"
    }
   ],
   "source": [
    "# The importance of a feature is computed as the (normalized) total reduction of the criterion brought by that feature. \n",
    "# It is also known as the Gini importance.\n",
    "feature_imp_value = lr_model.coef_\n",
    "feature_imp_value"
   ]
  },
  {
   "cell_type": "code",
   "execution_count": 89,
   "id": "afa639ff-118a-4b9e-97c5-bad2f9d6af5f",
   "metadata": {},
   "outputs": [
    {
     "data": {
      "text/plain": [
       "numpy.ndarray"
      ]
     },
     "execution_count": 89,
     "metadata": {},
     "output_type": "execute_result"
    }
   ],
   "source": [
    "type(feature_imp_value)"
   ]
  },
  {
   "cell_type": "code",
   "execution_count": 90,
   "id": "1184885a-2991-4bc4-99ab-1644c2ad9a0d",
   "metadata": {},
   "outputs": [
    {
     "data": {
      "text/plain": [
       "array(['num__tenure', 'num__monthlycharges', 'num__totalcharges',\n",
       "       'onehot__internetservice_DSL',\n",
       "       'onehot__internetservice_Fiber optic',\n",
       "       'onehot__internetservice_No', 'onehot__contract_Month-to-month',\n",
       "       'onehot__contract_One year', 'onehot__contract_Two year',\n",
       "       'onehot__paymentmethod_Bank transfer (automatic)',\n",
       "       'onehot__paymentmethod_Credit card (automatic)',\n",
       "       'onehot__paymentmethod_Electronic check',\n",
       "       'onehot__paymentmethod_Mailed check', 'remainder__gender',\n",
       "       'remainder__seniorcitizen', 'remainder__partner',\n",
       "       'remainder__dependents', 'remainder__phoneservice',\n",
       "       'remainder__multiplelines', 'remainder__onlinesecurity',\n",
       "       'remainder__onlinebackup', 'remainder__deviceprotection',\n",
       "       'remainder__techsupport', 'remainder__streamingtv',\n",
       "       'remainder__streamingmovies', 'remainder__paperlessbilling'],\n",
       "      dtype=object)"
      ]
     },
     "execution_count": 90,
     "metadata": {},
     "output_type": "execute_result"
    }
   ],
   "source": [
    "# Get the transformed feature names after applying preprocessing step in the pipeline\n",
    "#ohe = pipeline_rfc.named_steps['col_transformer'].named_transformers_['onehot']\n",
    "ohe = pipeline_lr.named_steps['col_transformer']\n",
    "ohe_feature_names = ohe.get_feature_names_out()\n",
    "ohe_feature_names"
   ]
  },
  {
   "cell_type": "code",
   "execution_count": 91,
   "id": "923c2dfb-2152-4242-a968-8793941f80a4",
   "metadata": {},
   "outputs": [
    {
     "data": {
      "text/html": [
       "<div>\n",
       "<style scoped>\n",
       "    .dataframe tbody tr th:only-of-type {\n",
       "        vertical-align: middle;\n",
       "    }\n",
       "\n",
       "    .dataframe tbody tr th {\n",
       "        vertical-align: top;\n",
       "    }\n",
       "\n",
       "    .dataframe thead th {\n",
       "        text-align: right;\n",
       "    }\n",
       "</style>\n",
       "<table border=\"1\" class=\"dataframe\">\n",
       "  <thead>\n",
       "    <tr style=\"text-align: right;\">\n",
       "      <th></th>\n",
       "      <th>Feature</th>\n",
       "      <th>Importance</th>\n",
       "    </tr>\n",
       "  </thead>\n",
       "  <tbody>\n",
       "    <tr>\n",
       "      <th>0</th>\n",
       "      <td>num__totalcharges</td>\n",
       "      <td>0.893601</td>\n",
       "    </tr>\n",
       "    <tr>\n",
       "      <th>1</th>\n",
       "      <td>contract_Month-to-month</td>\n",
       "      <td>0.774043</td>\n",
       "    </tr>\n",
       "    <tr>\n",
       "      <th>2</th>\n",
       "      <td>internetservice_Fiber optic</td>\n",
       "      <td>0.684064</td>\n",
       "    </tr>\n",
       "    <tr>\n",
       "      <th>3</th>\n",
       "      <td>paperlessbilling</td>\n",
       "      <td>0.431200</td>\n",
       "    </tr>\n",
       "    <tr>\n",
       "      <th>4</th>\n",
       "      <td>multiplelines</td>\n",
       "      <td>0.313809</td>\n",
       "    </tr>\n",
       "    <tr>\n",
       "      <th>5</th>\n",
       "      <td>paymentmethod_Electronic check</td>\n",
       "      <td>0.290434</td>\n",
       "    </tr>\n",
       "    <tr>\n",
       "      <th>6</th>\n",
       "      <td>streamingmovies</td>\n",
       "      <td>0.236054</td>\n",
       "    </tr>\n",
       "    <tr>\n",
       "      <th>7</th>\n",
       "      <td>streamingtv</td>\n",
       "      <td>0.217371</td>\n",
       "    </tr>\n",
       "    <tr>\n",
       "      <th>8</th>\n",
       "      <td>contract_One year</td>\n",
       "      <td>0.070215</td>\n",
       "    </tr>\n",
       "    <tr>\n",
       "      <th>9</th>\n",
       "      <td>num__monthlycharges</td>\n",
       "      <td>0.056686</td>\n",
       "    </tr>\n",
       "    <tr>\n",
       "      <th>10</th>\n",
       "      <td>internetservice_DSL</td>\n",
       "      <td>0.047136</td>\n",
       "    </tr>\n",
       "    <tr>\n",
       "      <th>11</th>\n",
       "      <td>partner</td>\n",
       "      <td>0.015326</td>\n",
       "    </tr>\n",
       "    <tr>\n",
       "      <th>12</th>\n",
       "      <td>seniorcitizen</td>\n",
       "      <td>0.001060</td>\n",
       "    </tr>\n",
       "    <tr>\n",
       "      <th>13</th>\n",
       "      <td>paymentmethod_Bank transfer (automatic)</td>\n",
       "      <td>-0.041438</td>\n",
       "    </tr>\n",
       "    <tr>\n",
       "      <th>14</th>\n",
       "      <td>paymentmethod_Mailed check</td>\n",
       "      <td>-0.068789</td>\n",
       "    </tr>\n",
       "    <tr>\n",
       "      <th>15</th>\n",
       "      <td>gender</td>\n",
       "      <td>-0.082483</td>\n",
       "    </tr>\n",
       "    <tr>\n",
       "      <th>16</th>\n",
       "      <td>dependents</td>\n",
       "      <td>-0.105722</td>\n",
       "    </tr>\n",
       "    <tr>\n",
       "      <th>17</th>\n",
       "      <td>deviceprotection</td>\n",
       "      <td>-0.115887</td>\n",
       "    </tr>\n",
       "    <tr>\n",
       "      <th>18</th>\n",
       "      <td>paymentmethod_Credit card (automatic)</td>\n",
       "      <td>-0.176827</td>\n",
       "    </tr>\n",
       "    <tr>\n",
       "      <th>19</th>\n",
       "      <td>onlinebackup</td>\n",
       "      <td>-0.244019</td>\n",
       "    </tr>\n",
       "    <tr>\n",
       "      <th>20</th>\n",
       "      <td>techsupport</td>\n",
       "      <td>-0.486975</td>\n",
       "    </tr>\n",
       "    <tr>\n",
       "      <th>21</th>\n",
       "      <td>onlinesecurity</td>\n",
       "      <td>-0.617932</td>\n",
       "    </tr>\n",
       "    <tr>\n",
       "      <th>22</th>\n",
       "      <td>phoneservice</td>\n",
       "      <td>-0.650332</td>\n",
       "    </tr>\n",
       "    <tr>\n",
       "      <th>23</th>\n",
       "      <td>internetservice_No</td>\n",
       "      <td>-0.727820</td>\n",
       "    </tr>\n",
       "    <tr>\n",
       "      <th>24</th>\n",
       "      <td>contract_Two year</td>\n",
       "      <td>-0.840878</td>\n",
       "    </tr>\n",
       "    <tr>\n",
       "      <th>25</th>\n",
       "      <td>num__tenure</td>\n",
       "      <td>-1.561015</td>\n",
       "    </tr>\n",
       "  </tbody>\n",
       "</table>\n",
       "</div>"
      ],
      "text/plain": [
       "                                    Feature  Importance\n",
       "0                         num__totalcharges    0.893601\n",
       "1                   contract_Month-to-month    0.774043\n",
       "2               internetservice_Fiber optic    0.684064\n",
       "3                          paperlessbilling    0.431200\n",
       "4                             multiplelines    0.313809\n",
       "5            paymentmethod_Electronic check    0.290434\n",
       "6                           streamingmovies    0.236054\n",
       "7                               streamingtv    0.217371\n",
       "8                         contract_One year    0.070215\n",
       "9                       num__monthlycharges    0.056686\n",
       "10                      internetservice_DSL    0.047136\n",
       "11                                  partner    0.015326\n",
       "12                            seniorcitizen    0.001060\n",
       "13  paymentmethod_Bank transfer (automatic)   -0.041438\n",
       "14               paymentmethod_Mailed check   -0.068789\n",
       "15                                   gender   -0.082483\n",
       "16                               dependents   -0.105722\n",
       "17                         deviceprotection   -0.115887\n",
       "18    paymentmethod_Credit card (automatic)   -0.176827\n",
       "19                             onlinebackup   -0.244019\n",
       "20                              techsupport   -0.486975\n",
       "21                           onlinesecurity   -0.617932\n",
       "22                             phoneservice   -0.650332\n",
       "23                       internetservice_No   -0.727820\n",
       "24                        contract_Two year   -0.840878\n",
       "25                              num__tenure   -1.561015"
      ]
     },
     "execution_count": 91,
     "metadata": {},
     "output_type": "execute_result"
    }
   ],
   "source": [
    "# feature names from after preprocessing step in the pipeline \n",
    "feature_names = np.array(ohe_feature_names)\n",
    "\n",
    "# Flatten feature_imp_value to ensure it's a 1D array\n",
    "feature_imp_value = feature_imp_value.flatten()\n",
    "\n",
    "# Remove 'onehot__' and 'remainder__' prefixes\n",
    "feature_names = [name.replace('onehot__', '').replace('remainder__', '') for name in feature_names]\n",
    "\n",
    "Feature_Imp_df = pd.DataFrame({\n",
    "    'Feature': feature_names,   \n",
    "    'Importance': feature_imp_value    \n",
    "}).sort_values(by='Importance', ascending=False).reset_index(drop=True)   # sorting in descending order\n",
    "\n",
    "Feature_Imp_df"
   ]
  },
  {
   "cell_type": "code",
   "execution_count": 92,
   "id": "bac1b72f-441c-4692-9cec-e13598880da6",
   "metadata": {},
   "outputs": [
    {
     "data": {
      "image/png": "[encoded data removed]",
      "text/plain": [
       "<Figure size 1000x600 with 1 Axes>"
      ]
     },
     "metadata": {},
     "output_type": "display_data"
    }
   ],
   "source": [
    "plt.figure(figsize=(10, 6))\n",
    "sns.barplot(data=Feature_Imp_df, x='Importance', y='Feature', color='royalblue')\n",
    "plt.title('Feature Importances')\n",
    "plt.xlabel('Importance')\n",
    "plt.ylabel('Feature')\n",
    "plt.tight_layout()\n",
    "plt.show()"
   ]
  },
  {
   "cell_type": "markdown",
   "id": "bff83cf7-d6fd-4fc5-809c-dacbd55e5763",
   "metadata": {},
   "source": [
    "## **7. BalancedRandomForestClassifier model**"
   ]
  },
  {
   "cell_type": "code",
   "execution_count": 93,
   "id": "bb07cbad-d4a0-4080-9261-b80ffa5af220",
   "metadata": {},
   "outputs": [],
   "source": [
    "from imblearn.ensemble import BalancedRandomForestClassifier\n",
    "\n",
    "balanced_rfc = BalancedRandomForestClassifier(n_estimators=100, \n",
    "                             criterion='gini', \n",
    "                             max_depth=10, \n",
    "                             max_features=0.30, \n",
    "                             max_samples=0.5, \n",
    "                             oob_score=True,\n",
    "                             sampling_strategy=\"all\",\n",
    "                             bootstrap=True,replacement=True,                        \n",
    "                             random_state=3)\n",
    "\n",
    "from imblearn.pipeline import Pipeline  # Import from imblearn for SMOTE support\n",
    "\n",
    "pipeline_balanced_rfc = Pipeline([(\"col_transformer\", preprocessor_treebased),\n",
    "                                  (\"model\", balanced_rfc)])\n",
    "\n",
    "pipeline_balanced_rfc.fit(X_train,y_train)\n",
    "y_pred = pipeline_balanced_rfc.predict(X_test)"
   ]
  },
  {
   "cell_type": "markdown",
   "id": "f1e91e7e-08c0-47e5-9cb1-2f7375a3136b",
   "metadata": {},
   "source": [
    "### 7.2. Confusion Matrix & Classification Report"
   ]
  },
  {
   "cell_type": "code",
   "execution_count": 94,
   "id": "11fcc081-6c07-4429-8400-7597900b5eb2",
   "metadata": {},
   "outputs": [
    {
     "name": "stdout",
     "output_type": "stream",
     "text": [
      "----------------------------------------------------------------------\n",
      "\n",
      "BalancedRandomForestClassifier Results:\n",
      "----------------------------------------------------------------------\n",
      "BalancedRandomForestClassifier F1_score(weighted): 0.78\n",
      "\n",
      "BalancedRandomForestClassifier Classification Report:\n",
      "              precision    recall  f1-score   support\n",
      "\n",
      "           0       0.90      0.76      0.83       439\n",
      "           1       0.54      0.77      0.64       159\n",
      "\n",
      "    accuracy                           0.76       598\n",
      "   macro avg       0.72      0.77      0.73       598\n",
      "weighted avg       0.81      0.76      0.78       598\n",
      "\n",
      "----------------------------------------------------------------------\n"
     ]
    },
    {
     "data": {
      "image/png": "[encoded data removed]",
      "text/plain": [
       "<Figure size 640x480 with 2 Axes>"
      ]
     },
     "metadata": {},
     "output_type": "display_data"
    }
   ],
   "source": [
    "print(\"-\"*70)\n",
    "print(\"\\nBalancedRandomForestClassifier Results:\")\n",
    "evaluate_model(pipeline_balanced_rfc, X_test, y_test, \"BalancedRandomForestClassifier\")"
   ]
  },
  {
   "cell_type": "markdown",
   "id": "0f5117cb-1247-4099-a83a-d403037e492d",
   "metadata": {},
   "source": [
    "## **8. Save the Trained ML model**"
   ]
  },
  {
   "cell_type": "code",
   "execution_count": 95,
   "id": "0d27da11-de92-4931-a21b-cd17bcabbefd",
   "metadata": {
    "executionInfo": {
     "elapsed": 638,
     "status": "ok",
     "timestamp": 1676175664027,
     "user": {
      "displayName": "Mayank Parikh",
      "userId": "11709082426090810996"
     },
     "user_tz": -330
    },
    "id": "rJbMRq0yslJ-"
   },
   "outputs": [],
   "source": [
    "# save the pipeline \n",
    "#pickle.dump(pipe_rf,open('pipeline_xgb.pkl','wb'))"
   ]
  }
 ],
 "metadata": {
  "kernelspec": {
   "display_name": "tensorflowgpu",
   "language": "python",
   "name": "tensorflowgpu"
  },
  "language_info": {
   "codemirror_mode": {
    "name": "ipython",
    "version": 3
   },
   "file_extension": ".py",
   "mimetype": "text/x-python",
   "name": "python",
   "nbconvert_exporter": "python",
   "pygments_lexer": "ipython3",
   "version": "3.10.14"
  }
 },
 "nbformat": 4,
 "nbformat_minor": 5
}
